{
 "cells": [
  {
   "cell_type": "markdown",
   "metadata": {},
   "source": [
    "# to understand what i done here its highly recommended to see lior01 notebook "
   ]
  },
  {
   "cell_type": "code",
   "execution_count": 1,
   "metadata": {},
   "outputs": [
    {
     "name": "stdout",
     "output_type": "stream",
     "text": [
      "Populating the interactive namespace from numpy and matplotlib\n"
     ]
    }
   ],
   "source": [
    "import numpy as np\n",
    "import pandas as pd\n",
    "import matplotlib.pyplot as plt\n",
    "import seaborn as sns\n",
    "import statsmodels.api as sm\n",
    "from sklearn.model_selection import train_test_split\n",
    "from sklearn.metrics import mean_squared_error\n",
    "\n",
    "%pylab inline"
   ]
  },
  {
   "cell_type": "code",
   "execution_count": 2,
   "metadata": {},
   "outputs": [],
   "source": [
    "train = pd.read_csv('../data/train.csv')\n",
    "test= pd.read_csv('../data/test.csv')"
   ]
  },
  {
   "cell_type": "code",
   "execution_count": 3,
   "metadata": {},
   "outputs": [
    {
     "data": {
      "text/plain": [
       "['Alley', 'PoolQC', 'MiscFeature']"
      ]
     },
     "execution_count": 3,
     "metadata": {},
     "output_type": "execute_result"
    }
   ],
   "source": [
    "cut_out=train.columns[train.count().values<0.1*len(train)].tolist()\n",
    "cut_out"
   ]
  },
  {
   "cell_type": "code",
   "execution_count": 4,
   "metadata": {},
   "outputs": [],
   "source": [
    "train.drop(cut_out,axis=1,inplace=True)\n",
    "test.drop(cut_out,axis=1,inplace=True)"
   ]
  },
  {
   "cell_type": "code",
   "execution_count": 5,
   "metadata": {},
   "outputs": [],
   "source": [
    "train.drop('HouseStyle', axis=1, inplace=True)"
   ]
  },
  {
   "cell_type": "markdown",
   "metadata": {},
   "source": [
    "# note to self- remember to check if cut out columns say anything about the target"
   ]
  },
  {
   "cell_type": "code",
   "execution_count": 6,
   "metadata": {},
   "outputs": [],
   "source": [
    "map_overall_to_cat={10:'Very Excellent',9:'Excellent',8:'Very Good',7:'Good',6:'Above Average',5:'Average',4:'Below Average',\n",
    "                    3:'Fair',2:'Poor',1:'Very Poor'}\n",
    "\n",
    "train.OverallCond=train.OverallCond.map(map_overall_to_cat)\n",
    "train.OverallQual=train.OverallQual.map(map_overall_to_cat)"
   ]
  },
  {
   "cell_type": "code",
   "execution_count": 7,
   "metadata": {},
   "outputs": [
    {
     "data": {
      "text/plain": [
       "['Street',\n",
       " 'LotShape',\n",
       " 'LandContour',\n",
       " 'Utilities',\n",
       " 'LotConfig',\n",
       " 'LandSlope',\n",
       " 'Neighborhood',\n",
       " 'Condition1',\n",
       " 'Condition2',\n",
       " 'BldgType',\n",
       " 'OverallQual',\n",
       " 'OverallCond',\n",
       " 'RoofStyle',\n",
       " 'RoofMatl',\n",
       " 'Exterior1st',\n",
       " 'Exterior2nd',\n",
       " 'MasVnrType',\n",
       " 'ExterQual',\n",
       " 'ExterCond',\n",
       " 'Foundation',\n",
       " 'BsmtQual',\n",
       " 'BsmtCond',\n",
       " 'BsmtExposure',\n",
       " 'BsmtFinType1',\n",
       " 'BsmtFinType2',\n",
       " 'Heating',\n",
       " 'HeatingQC',\n",
       " 'CentralAir',\n",
       " 'Electrical',\n",
       " 'KitchenQual',\n",
       " 'Functional',\n",
       " 'FireplaceQu',\n",
       " 'GarageType',\n",
       " 'GarageFinish',\n",
       " 'GarageQual',\n",
       " 'GarageCond',\n",
       " 'PavedDrive',\n",
       " 'Fence',\n",
       " 'SaleType',\n",
       " 'SaleCondition']"
      ]
     },
     "execution_count": 7,
     "metadata": {},
     "output_type": "execute_result"
    }
   ],
   "source": [
    "cat_c=[]\n",
    "for c in train.columns.tolist():\n",
    "    if train[c].dtypes=='int64' or train[c].dtypes=='float64':\n",
    "        continue\n",
    "    else:\n",
    "        cat_c.append(c)\n",
    "cat_c.remove('MSZoning')\n",
    "cat_c"
   ]
  },
  {
   "cell_type": "code",
   "execution_count": 8,
   "metadata": {},
   "outputs": [],
   "source": [
    "def make_dummies_conditional_on_len(train,c):\n",
    "    df=train.groupby(c).Id.count()\n",
    "    for i in df.index.tolist():\n",
    "        if df.loc[i]>=50:\n",
    "            name=str(c)+'_'+str(i)\n",
    "            train[name]=np.where(train[c]==i,1,0)\n",
    "    train.drop(c,axis=1, inplace=True)\n",
    "\n",
    "for c in cat_c:\n",
    "    make_dummies_conditional_on_len(train,c)"
   ]
  },
  {
   "cell_type": "code",
   "execution_count": 9,
   "metadata": {},
   "outputs": [
    {
     "data": {
      "text/plain": [
       "(1460, 153)"
      ]
     },
     "execution_count": 9,
     "metadata": {},
     "output_type": "execute_result"
    }
   ],
   "source": [
    "train.shape"
   ]
  },
  {
   "cell_type": "code",
   "execution_count": 10,
   "metadata": {},
   "outputs": [
    {
     "data": {
      "text/plain": [
       "['Id',\n",
       " 'MSSubClass',\n",
       " 'MSZoning',\n",
       " 'LotFrontage',\n",
       " 'LotArea',\n",
       " 'YearBuilt',\n",
       " 'YearRemodAdd',\n",
       " 'MasVnrArea',\n",
       " 'BsmtFinSF1',\n",
       " 'BsmtFinSF2',\n",
       " 'BsmtUnfSF',\n",
       " 'TotalBsmtSF',\n",
       " '1stFlrSF',\n",
       " '2ndFlrSF',\n",
       " 'LowQualFinSF',\n",
       " 'GrLivArea',\n",
       " 'BsmtFullBath',\n",
       " 'BsmtHalfBath',\n",
       " 'FullBath',\n",
       " 'HalfBath',\n",
       " 'BedroomAbvGr',\n",
       " 'KitchenAbvGr',\n",
       " 'TotRmsAbvGrd',\n",
       " 'Fireplaces',\n",
       " 'GarageYrBlt',\n",
       " 'GarageCars',\n",
       " 'GarageArea',\n",
       " 'WoodDeckSF',\n",
       " 'OpenPorchSF',\n",
       " 'EnclosedPorch',\n",
       " '3SsnPorch',\n",
       " 'ScreenPorch',\n",
       " 'PoolArea',\n",
       " 'MiscVal',\n",
       " 'MoSold',\n",
       " 'YrSold',\n",
       " 'SalePrice',\n",
       " 'Street_Pave',\n",
       " 'LotShape_IR1',\n",
       " 'LotShape_Reg',\n",
       " 'LandContour_Bnk',\n",
       " 'LandContour_HLS',\n",
       " 'LandContour_Lvl',\n",
       " 'Utilities_AllPub',\n",
       " 'LotConfig_Corner',\n",
       " 'LotConfig_CulDSac',\n",
       " 'LotConfig_Inside',\n",
       " 'LandSlope_Gtl',\n",
       " 'LandSlope_Mod',\n",
       " 'Neighborhood_BrkSide',\n",
       " 'Neighborhood_CollgCr',\n",
       " 'Neighborhood_Crawfor',\n",
       " 'Neighborhood_Edwards',\n",
       " 'Neighborhood_Gilbert',\n",
       " 'Neighborhood_NAmes',\n",
       " 'Neighborhood_NWAmes',\n",
       " 'Neighborhood_NridgHt',\n",
       " 'Neighborhood_OldTown',\n",
       " 'Neighborhood_Sawyer',\n",
       " 'Neighborhood_SawyerW',\n",
       " 'Neighborhood_Somerst',\n",
       " 'Condition1_Feedr',\n",
       " 'Condition1_Norm',\n",
       " 'Condition2_Norm',\n",
       " 'BldgType_1Fam',\n",
       " 'BldgType_Duplex',\n",
       " 'BldgType_TwnhsE',\n",
       " 'OverallQual_Above Average',\n",
       " 'OverallQual_Average',\n",
       " 'OverallQual_Below Average',\n",
       " 'OverallQual_Good',\n",
       " 'OverallQual_Very Good',\n",
       " 'OverallCond_Above Average',\n",
       " 'OverallCond_Average',\n",
       " 'OverallCond_Below Average',\n",
       " 'OverallCond_Good',\n",
       " 'OverallCond_Very Good',\n",
       " 'RoofStyle_Gable',\n",
       " 'RoofStyle_Hip',\n",
       " 'RoofMatl_CompShg',\n",
       " 'Exterior1st_BrkFace',\n",
       " 'Exterior1st_CemntBd',\n",
       " 'Exterior1st_HdBoard',\n",
       " 'Exterior1st_MetalSd',\n",
       " 'Exterior1st_Plywood',\n",
       " 'Exterior1st_VinylSd',\n",
       " 'Exterior1st_Wd Sdng',\n",
       " 'Exterior2nd_CmentBd',\n",
       " 'Exterior2nd_HdBoard',\n",
       " 'Exterior2nd_MetalSd',\n",
       " 'Exterior2nd_Plywood',\n",
       " 'Exterior2nd_VinylSd',\n",
       " 'Exterior2nd_Wd Sdng',\n",
       " 'MasVnrType_BrkFace',\n",
       " 'MasVnrType_None',\n",
       " 'MasVnrType_Stone',\n",
       " 'ExterQual_Ex',\n",
       " 'ExterQual_Gd',\n",
       " 'ExterQual_TA',\n",
       " 'ExterCond_Gd',\n",
       " 'ExterCond_TA',\n",
       " 'Foundation_BrkTil',\n",
       " 'Foundation_CBlock',\n",
       " 'Foundation_PConc',\n",
       " 'BsmtQual_Ex',\n",
       " 'BsmtQual_Gd',\n",
       " 'BsmtQual_TA',\n",
       " 'BsmtCond_Gd',\n",
       " 'BsmtCond_TA',\n",
       " 'BsmtExposure_Av',\n",
       " 'BsmtExposure_Gd',\n",
       " 'BsmtExposure_Mn',\n",
       " 'BsmtExposure_No',\n",
       " 'BsmtFinType1_ALQ',\n",
       " 'BsmtFinType1_BLQ',\n",
       " 'BsmtFinType1_GLQ',\n",
       " 'BsmtFinType1_LwQ',\n",
       " 'BsmtFinType1_Rec',\n",
       " 'BsmtFinType1_Unf',\n",
       " 'BsmtFinType2_Rec',\n",
       " 'BsmtFinType2_Unf',\n",
       " 'Heating_GasA',\n",
       " 'HeatingQC_Ex',\n",
       " 'HeatingQC_Gd',\n",
       " 'HeatingQC_TA',\n",
       " 'CentralAir_N',\n",
       " 'CentralAir_Y',\n",
       " 'Electrical_FuseA',\n",
       " 'Electrical_SBrkr',\n",
       " 'KitchenQual_Ex',\n",
       " 'KitchenQual_Gd',\n",
       " 'KitchenQual_TA',\n",
       " 'Functional_Typ',\n",
       " 'FireplaceQu_Gd',\n",
       " 'FireplaceQu_TA',\n",
       " 'GarageType_Attchd',\n",
       " 'GarageType_BuiltIn',\n",
       " 'GarageType_Detchd',\n",
       " 'GarageFinish_Fin',\n",
       " 'GarageFinish_RFn',\n",
       " 'GarageFinish_Unf',\n",
       " 'GarageQual_TA',\n",
       " 'GarageCond_TA',\n",
       " 'PavedDrive_N',\n",
       " 'PavedDrive_Y',\n",
       " 'Fence_GdPrv',\n",
       " 'Fence_GdWo',\n",
       " 'Fence_MnPrv',\n",
       " 'SaleType_New',\n",
       " 'SaleType_WD',\n",
       " 'SaleCondition_Abnorml',\n",
       " 'SaleCondition_Normal',\n",
       " 'SaleCondition_Partial']"
      ]
     },
     "execution_count": 10,
     "metadata": {},
     "output_type": "execute_result"
    }
   ],
   "source": [
    "train.columns.tolist()"
   ]
  },
  {
   "cell_type": "markdown",
   "metadata": {},
   "source": [
    "# Fixing errors in data"
   ]
  },
  {
   "cell_type": "code",
   "execution_count": 11,
   "metadata": {},
   "outputs": [],
   "source": [
    "fix_year=test.loc[test.GarageYrBlt>2010].GarageYrBlt.index.values.tolist()\n",
    "test.loc[fix_year,'GarageYrBlt']=np.nan\n"
   ]
  },
  {
   "cell_type": "code",
   "execution_count": 12,
   "metadata": {},
   "outputs": [
    {
     "data": {
      "text/plain": [
       "['LotFrontage', 'MasVnrArea', 'GarageYrBlt']"
      ]
     },
     "execution_count": 12,
     "metadata": {},
     "output_type": "execute_result"
    }
   ],
   "source": [
    "columns_to_clean=train.isnull().any().tolist()\n",
    "\n",
    "train.loc[:,columns_to_clean].columns.tolist()"
   ]
  },
  {
   "cell_type": "code",
   "execution_count": 13,
   "metadata": {},
   "outputs": [],
   "source": [
    "LotFrontage_to_fix=train[train.LotFrontage.isnull()].index.tolist()\n",
    "train.loc[LotFrontage_to_fix,'LotFrontage']=train.LotFrontage.mean()\n",
    "\n",
    "MasVnrArea_to_fix=train[train.MasVnrArea.isnull()].index.tolist()\n",
    "train.loc[MasVnrArea_to_fix,'MasVnrArea']=0\n",
    "\n",
    "GarageYrBlt_to_fix=train[train.GarageYrBlt.isnull()].index.tolist()\n",
    "train.loc[GarageYrBlt_to_fix,'GarageYrBlt']=train.GarageYrBlt.mean().round(0)"
   ]
  },
  {
   "cell_type": "markdown",
   "metadata": {},
   "source": [
    "# making new variables"
   ]
  },
  {
   "cell_type": "code",
   "execution_count": 14,
   "metadata": {},
   "outputs": [],
   "source": [
    "def turn_MS_data_into_cat(df):\n",
    "    for i in df.MSSubClass.unique().tolist():\n",
    "        for j in df.MSZoning.unique().tolist():\n",
    "            if df[(df.MSSubClass==i)&(df.MSZoning==j)].Id.count()>=20:\n",
    "                name=str(i)+'_'+str(j)\n",
    "                df[name]=np.where((df.MSSubClass==i)&(df.MSZoning==j),1,0)\n",
    "    df.drop(['MSSubClass','MSZoning'], axis=1, inplace=True)\n",
    "turn_MS_data_into_cat(train)"
   ]
  },
  {
   "cell_type": "code",
   "execution_count": 15,
   "metadata": {},
   "outputs": [],
   "source": [
    "train.drop('YearBuilt', axis=1, inplace=True)\n",
    "train['HouseAge']=train.YrSold-train.YearRemodAdd\n",
    "\n",
    "train.loc[train[train['HouseAge']<0].index.tolist(),'YearRemodAdd']=2007\n",
    "test.loc[test[test.YearRemodAdd>test.YrSold].index, 'YearRemodAdd']=2007 "
   ]
  },
  {
   "cell_type": "code",
   "execution_count": 16,
   "metadata": {},
   "outputs": [
    {
     "data": {
      "text/plain": [
       "0     2008-2\n",
       "1     2007-5\n",
       "2     2008-9\n",
       "3     2006-2\n",
       "4    2008-12\n",
       "Name: temp, dtype: object"
      ]
     },
     "execution_count": 16,
     "metadata": {},
     "output_type": "execute_result"
    }
   ],
   "source": [
    "train['temp']=train.apply(lambda x: str(int(x.YrSold))+'-'+str(int(x.MoSold)), axis=1)\n",
    "train.temp.head()"
   ]
  },
  {
   "cell_type": "code",
   "execution_count": 17,
   "metadata": {},
   "outputs": [],
   "source": [
    "train['SaleDate']=pd.to_datetime(train['temp'])\n",
    "train.drop(['temp', 'YrSold','MoSold'], axis=1, inplace=True)"
   ]
  },
  {
   "cell_type": "code",
   "execution_count": 18,
   "metadata": {},
   "outputs": [],
   "source": [
    "train['Timedelta']=train.SaleDate-train.SaleDate.min(axis=0)\n",
    "train['Timedelta']=train['Timedelta'].dt.days"
   ]
  },
  {
   "cell_type": "code",
   "execution_count": 19,
   "metadata": {},
   "outputs": [
    {
     "data": {
      "text/plain": [
       "count    1460.000000\n",
       "mean      824.105479\n",
       "std       480.169167\n",
       "min         0.000000\n",
       "25%       455.000000\n",
       "50%       851.000000\n",
       "75%      1247.000000\n",
       "max      1642.000000\n",
       "Name: Timedelta, dtype: float64"
      ]
     },
     "execution_count": 19,
     "metadata": {},
     "output_type": "execute_result"
    }
   ],
   "source": [
    "train['Timedelta'].describe()"
   ]
  },
  {
   "cell_type": "code",
   "execution_count": 20,
   "metadata": {},
   "outputs": [],
   "source": [
    "train=pd.concat([train,pd.get_dummies(train.BedroomAbvGr, prefix=\"br\")], axis=1)"
   ]
  },
  {
   "cell_type": "code",
   "execution_count": 21,
   "metadata": {},
   "outputs": [],
   "source": [
    "train['Log_sale_price']=np.log10(train.SalePrice)\n",
    "train.drop('SalePrice', axis=1, inplace=True)"
   ]
  },
  {
   "cell_type": "code",
   "execution_count": 22,
   "metadata": {},
   "outputs": [],
   "source": [
    "columns_to_keep=train.columns.tolist()\n",
    "columns_to_keep.remove('Log_sale_price')\n",
    "columns_to_keep.remove('Id')\n",
    "columns_to_keep.remove('SaleDate')\n",
    "columns_to_keep.remove('Timedelta')"
   ]
  },
  {
   "cell_type": "code",
   "execution_count": 23,
   "metadata": {},
   "outputs": [
    {
     "data": {
      "text/plain": [
       "((1022, 171), (438, 171), (1022,), (438,))"
      ]
     },
     "execution_count": 23,
     "metadata": {},
     "output_type": "execute_result"
    }
   ],
   "source": [
    "X=train[columns_to_keep]\n",
    "y=train.Log_sale_price\n",
    "x_train, x_test, y_train, y_test = train_test_split(X, y, test_size=0.3)\n",
    "x_train.shape, x_test.shape, y_train.shape, y_test.shape"
   ]
  },
  {
   "cell_type": "code",
   "execution_count": 24,
   "metadata": {},
   "outputs": [
    {
     "data": {
      "text/html": [
       "<table class=\"simpletable\">\n",
       "<caption>OLS Regression Results</caption>\n",
       "<tr>\n",
       "  <th>Dep. Variable:</th>     <td>Log_sale_price</td>  <th>  R-squared:         </th> <td>   0.934</td>\n",
       "</tr>\n",
       "<tr>\n",
       "  <th>Model:</th>                   <td>OLS</td>       <th>  Adj. R-squared:    </th> <td>   0.921</td>\n",
       "</tr>\n",
       "<tr>\n",
       "  <th>Method:</th>             <td>Least Squares</td>  <th>  F-statistic:       </th> <td>   72.92</td>\n",
       "</tr>\n",
       "<tr>\n",
       "  <th>Date:</th>             <td>Wed, 14 Nov 2018</td> <th>  Prob (F-statistic):</th>  <td>  0.00</td> \n",
       "</tr>\n",
       "<tr>\n",
       "  <th>Time:</th>                 <td>17:00:41</td>     <th>  Log-Likelihood:    </th> <td>  1721.1</td>\n",
       "</tr>\n",
       "<tr>\n",
       "  <th>No. Observations:</th>      <td>  1022</td>      <th>  AIC:               </th> <td>  -3108.</td>\n",
       "</tr>\n",
       "<tr>\n",
       "  <th>Df Residuals:</th>          <td>   855</td>      <th>  BIC:               </th> <td>  -2285.</td>\n",
       "</tr>\n",
       "<tr>\n",
       "  <th>Df Model:</th>              <td>   166</td>      <th>                     </th>     <td> </td>   \n",
       "</tr>\n",
       "<tr>\n",
       "  <th>Covariance Type:</th>      <td>nonrobust</td>    <th>                     </th>     <td> </td>   \n",
       "</tr>\n",
       "</table>\n",
       "<table class=\"simpletable\">\n",
       "<tr>\n",
       "              <td></td>                 <th>coef</th>     <th>std err</th>      <th>t</th>      <th>P>|t|</th>  <th>[0.025</th>    <th>0.975]</th>  \n",
       "</tr>\n",
       "<tr>\n",
       "  <th>LotFrontage</th>               <td>    0.0002</td> <td>    0.000</td> <td>    1.715</td> <td> 0.087</td> <td>-2.58e-05</td> <td>    0.000</td>\n",
       "</tr>\n",
       "<tr>\n",
       "  <th>LotArea</th>                   <td> 1.097e-06</td> <td> 2.46e-07</td> <td>    4.454</td> <td> 0.000</td> <td> 6.14e-07</td> <td> 1.58e-06</td>\n",
       "</tr>\n",
       "<tr>\n",
       "  <th>YearRemodAdd</th>              <td>   -0.0009</td> <td>    0.001</td> <td>   -0.724</td> <td> 0.469</td> <td>   -0.003</td> <td>    0.002</td>\n",
       "</tr>\n",
       "<tr>\n",
       "  <th>MasVnrArea</th>                <td> 2.633e-06</td> <td> 1.52e-05</td> <td>    0.173</td> <td> 0.863</td> <td>-2.72e-05</td> <td> 3.25e-05</td>\n",
       "</tr>\n",
       "<tr>\n",
       "  <th>BsmtFinSF1</th>                <td> 2.553e-05</td> <td> 6.98e-06</td> <td>    3.656</td> <td> 0.000</td> <td> 1.18e-05</td> <td> 3.92e-05</td>\n",
       "</tr>\n",
       "<tr>\n",
       "  <th>BsmtFinSF2</th>                <td> 2.112e-05</td> <td> 1.44e-05</td> <td>    1.463</td> <td> 0.144</td> <td>-7.21e-06</td> <td> 4.94e-05</td>\n",
       "</tr>\n",
       "<tr>\n",
       "  <th>BsmtUnfSF</th>                 <td>-2.861e-06</td> <td> 7.11e-06</td> <td>   -0.402</td> <td> 0.687</td> <td>-1.68e-05</td> <td> 1.11e-05</td>\n",
       "</tr>\n",
       "<tr>\n",
       "  <th>TotalBsmtSF</th>               <td> 4.378e-05</td> <td> 9.35e-06</td> <td>    4.681</td> <td> 0.000</td> <td> 2.54e-05</td> <td> 6.21e-05</td>\n",
       "</tr>\n",
       "<tr>\n",
       "  <th>1stFlrSF</th>                  <td> 5.386e-05</td> <td> 1.34e-05</td> <td>    4.013</td> <td> 0.000</td> <td> 2.75e-05</td> <td> 8.02e-05</td>\n",
       "</tr>\n",
       "<tr>\n",
       "  <th>2ndFlrSF</th>                  <td> 5.336e-05</td> <td> 1.28e-05</td> <td>    4.183</td> <td> 0.000</td> <td> 2.83e-05</td> <td> 7.84e-05</td>\n",
       "</tr>\n",
       "<tr>\n",
       "  <th>LowQualFinSF</th>              <td>-3.634e-05</td> <td>    3e-05</td> <td>   -1.210</td> <td> 0.227</td> <td>-9.53e-05</td> <td> 2.26e-05</td>\n",
       "</tr>\n",
       "<tr>\n",
       "  <th>GrLivArea</th>                 <td> 7.088e-05</td> <td> 1.21e-05</td> <td>    5.878</td> <td> 0.000</td> <td> 4.72e-05</td> <td> 9.45e-05</td>\n",
       "</tr>\n",
       "<tr>\n",
       "  <th>BsmtFullBath</th>              <td>    0.0097</td> <td>    0.005</td> <td>    1.908</td> <td> 0.057</td> <td>   -0.000</td> <td>    0.020</td>\n",
       "</tr>\n",
       "<tr>\n",
       "  <th>BsmtHalfBath</th>              <td>    0.0028</td> <td>    0.008</td> <td>    0.357</td> <td> 0.721</td> <td>   -0.012</td> <td>    0.018</td>\n",
       "</tr>\n",
       "<tr>\n",
       "  <th>FullBath</th>                  <td>    0.0230</td> <td>    0.006</td> <td>    3.968</td> <td> 0.000</td> <td>    0.012</td> <td>    0.034</td>\n",
       "</tr>\n",
       "<tr>\n",
       "  <th>HalfBath</th>                  <td>    0.0169</td> <td>    0.005</td> <td>    3.109</td> <td> 0.002</td> <td>    0.006</td> <td>    0.028</td>\n",
       "</tr>\n",
       "<tr>\n",
       "  <th>BedroomAbvGr</th>              <td>    0.5012</td> <td>    0.209</td> <td>    2.396</td> <td> 0.017</td> <td>    0.091</td> <td>    0.912</td>\n",
       "</tr>\n",
       "<tr>\n",
       "  <th>KitchenAbvGr</th>              <td>   -0.0355</td> <td>    0.016</td> <td>   -2.274</td> <td> 0.023</td> <td>   -0.066</td> <td>   -0.005</td>\n",
       "</tr>\n",
       "<tr>\n",
       "  <th>TotRmsAbvGrd</th>              <td>    0.0002</td> <td>    0.002</td> <td>    0.088</td> <td> 0.930</td> <td>   -0.004</td> <td>    0.005</td>\n",
       "</tr>\n",
       "<tr>\n",
       "  <th>Fireplaces</th>                <td>    0.0054</td> <td>    0.005</td> <td>    1.087</td> <td> 0.278</td> <td>   -0.004</td> <td>    0.015</td>\n",
       "</tr>\n",
       "<tr>\n",
       "  <th>GarageYrBlt</th>               <td> 8.793e-05</td> <td>    0.000</td> <td>    0.582</td> <td> 0.561</td> <td>   -0.000</td> <td>    0.000</td>\n",
       "</tr>\n",
       "<tr>\n",
       "  <th>GarageCars</th>                <td>    0.0142</td> <td>    0.006</td> <td>    2.290</td> <td> 0.022</td> <td>    0.002</td> <td>    0.026</td>\n",
       "</tr>\n",
       "<tr>\n",
       "  <th>GarageArea</th>                <td> 2.554e-05</td> <td> 2.06e-05</td> <td>    1.241</td> <td> 0.215</td> <td>-1.49e-05</td> <td> 6.59e-05</td>\n",
       "</tr>\n",
       "<tr>\n",
       "  <th>WoodDeckSF</th>                <td> 6.141e-05</td> <td> 1.55e-05</td> <td>    3.958</td> <td> 0.000</td> <td>  3.1e-05</td> <td> 9.19e-05</td>\n",
       "</tr>\n",
       "<tr>\n",
       "  <th>OpenPorchSF</th>               <td> 2.324e-05</td> <td> 2.91e-05</td> <td>    0.800</td> <td> 0.424</td> <td>-3.38e-05</td> <td> 8.03e-05</td>\n",
       "</tr>\n",
       "<tr>\n",
       "  <th>EnclosedPorch</th>             <td> -2.21e-05</td> <td> 3.12e-05</td> <td>   -0.708</td> <td> 0.479</td> <td>-8.34e-05</td> <td> 3.92e-05</td>\n",
       "</tr>\n",
       "<tr>\n",
       "  <th>3SsnPorch</th>                 <td> 3.084e-05</td> <td> 4.93e-05</td> <td>    0.626</td> <td> 0.532</td> <td>-6.59e-05</td> <td>    0.000</td>\n",
       "</tr>\n",
       "<tr>\n",
       "  <th>ScreenPorch</th>               <td> 7.966e-05</td> <td> 3.12e-05</td> <td>    2.551</td> <td> 0.011</td> <td> 1.84e-05</td> <td>    0.000</td>\n",
       "</tr>\n",
       "<tr>\n",
       "  <th>PoolArea</th>                  <td> 7.287e-05</td> <td> 5.38e-05</td> <td>    1.354</td> <td> 0.176</td> <td>-3.27e-05</td> <td>    0.000</td>\n",
       "</tr>\n",
       "<tr>\n",
       "  <th>MiscVal</th>                   <td>-7.152e-07</td> <td> 6.01e-06</td> <td>   -0.119</td> <td> 0.905</td> <td>-1.25e-05</td> <td> 1.11e-05</td>\n",
       "</tr>\n",
       "<tr>\n",
       "  <th>Street_Pave</th>               <td>    0.1182</td> <td>    0.039</td> <td>    3.056</td> <td> 0.002</td> <td>    0.042</td> <td>    0.194</td>\n",
       "</tr>\n",
       "<tr>\n",
       "  <th>LotShape_IR1</th>              <td>    0.0047</td> <td>    0.011</td> <td>    0.447</td> <td> 0.655</td> <td>   -0.016</td> <td>    0.025</td>\n",
       "</tr>\n",
       "<tr>\n",
       "  <th>LotShape_Reg</th>              <td>    0.0063</td> <td>    0.011</td> <td>    0.583</td> <td> 0.560</td> <td>   -0.015</td> <td>    0.028</td>\n",
       "</tr>\n",
       "<tr>\n",
       "  <th>LandContour_Bnk</th>           <td>    0.0048</td> <td>    0.015</td> <td>    0.308</td> <td> 0.758</td> <td>   -0.026</td> <td>    0.035</td>\n",
       "</tr>\n",
       "<tr>\n",
       "  <th>LandContour_HLS</th>           <td>    0.0042</td> <td>    0.016</td> <td>    0.272</td> <td> 0.785</td> <td>   -0.026</td> <td>    0.035</td>\n",
       "</tr>\n",
       "<tr>\n",
       "  <th>LandContour_Lvl</th>           <td>   -0.0079</td> <td>    0.014</td> <td>   -0.585</td> <td> 0.558</td> <td>   -0.035</td> <td>    0.019</td>\n",
       "</tr>\n",
       "<tr>\n",
       "  <th>Utilities_AllPub</th>          <td>    0.0151</td> <td>    0.056</td> <td>    0.271</td> <td> 0.786</td> <td>   -0.094</td> <td>    0.124</td>\n",
       "</tr>\n",
       "<tr>\n",
       "  <th>LotConfig_Corner</th>          <td>    0.0125</td> <td>    0.010</td> <td>    1.237</td> <td> 0.216</td> <td>   -0.007</td> <td>    0.032</td>\n",
       "</tr>\n",
       "<tr>\n",
       "  <th>LotConfig_CulDSac</th>         <td>    0.0260</td> <td>    0.011</td> <td>    2.305</td> <td> 0.021</td> <td>    0.004</td> <td>    0.048</td>\n",
       "</tr>\n",
       "<tr>\n",
       "  <th>LotConfig_Inside</th>          <td>    0.0049</td> <td>    0.009</td> <td>    0.524</td> <td> 0.600</td> <td>   -0.014</td> <td>    0.023</td>\n",
       "</tr>\n",
       "<tr>\n",
       "  <th>LandSlope_Gtl</th>             <td>    0.0285</td> <td>    0.022</td> <td>    1.284</td> <td> 0.200</td> <td>   -0.015</td> <td>    0.072</td>\n",
       "</tr>\n",
       "<tr>\n",
       "  <th>LandSlope_Mod</th>             <td>    0.0254</td> <td>    0.022</td> <td>    1.150</td> <td> 0.251</td> <td>   -0.018</td> <td>    0.069</td>\n",
       "</tr>\n",
       "<tr>\n",
       "  <th>Neighborhood_BrkSide</th>      <td>    0.0383</td> <td>    0.013</td> <td>    3.001</td> <td> 0.003</td> <td>    0.013</td> <td>    0.063</td>\n",
       "</tr>\n",
       "<tr>\n",
       "  <th>Neighborhood_CollgCr</th>      <td>    0.0023</td> <td>    0.008</td> <td>    0.298</td> <td> 0.765</td> <td>   -0.013</td> <td>    0.017</td>\n",
       "</tr>\n",
       "<tr>\n",
       "  <th>Neighborhood_Crawfor</th>      <td>    0.0509</td> <td>    0.012</td> <td>    4.291</td> <td> 0.000</td> <td>    0.028</td> <td>    0.074</td>\n",
       "</tr>\n",
       "<tr>\n",
       "  <th>Neighborhood_Edwards</th>      <td>   -0.0033</td> <td>    0.009</td> <td>   -0.368</td> <td> 0.713</td> <td>   -0.021</td> <td>    0.014</td>\n",
       "</tr>\n",
       "<tr>\n",
       "  <th>Neighborhood_Gilbert</th>      <td>    0.0026</td> <td>    0.010</td> <td>    0.271</td> <td> 0.787</td> <td>   -0.016</td> <td>    0.022</td>\n",
       "</tr>\n",
       "<tr>\n",
       "  <th>Neighborhood_NAmes</th>        <td>    0.0006</td> <td>    0.008</td> <td>    0.074</td> <td> 0.941</td> <td>   -0.014</td> <td>    0.015</td>\n",
       "</tr>\n",
       "<tr>\n",
       "  <th>Neighborhood_NWAmes</th>       <td>    0.0025</td> <td>    0.010</td> <td>    0.255</td> <td> 0.799</td> <td>   -0.017</td> <td>    0.022</td>\n",
       "</tr>\n",
       "<tr>\n",
       "  <th>Neighborhood_NridgHt</th>      <td>    0.0220</td> <td>    0.010</td> <td>    2.125</td> <td> 0.034</td> <td>    0.002</td> <td>    0.042</td>\n",
       "</tr>\n",
       "<tr>\n",
       "  <th>Neighborhood_OldTown</th>      <td>    0.0053</td> <td>    0.011</td> <td>    0.501</td> <td> 0.617</td> <td>   -0.015</td> <td>    0.026</td>\n",
       "</tr>\n",
       "<tr>\n",
       "  <th>Neighborhood_Sawyer</th>       <td>    0.0047</td> <td>    0.010</td> <td>    0.497</td> <td> 0.619</td> <td>   -0.014</td> <td>    0.024</td>\n",
       "</tr>\n",
       "<tr>\n",
       "  <th>Neighborhood_SawyerW</th>      <td>    0.0009</td> <td>    0.010</td> <td>    0.097</td> <td> 0.922</td> <td>   -0.018</td> <td>    0.020</td>\n",
       "</tr>\n",
       "<tr>\n",
       "  <th>Neighborhood_Somerst</th>      <td>    0.0504</td> <td>    0.013</td> <td>    3.926</td> <td> 0.000</td> <td>    0.025</td> <td>    0.076</td>\n",
       "</tr>\n",
       "<tr>\n",
       "  <th>Condition1_Feedr</th>          <td>    0.0072</td> <td>    0.010</td> <td>    0.748</td> <td> 0.454</td> <td>   -0.012</td> <td>    0.026</td>\n",
       "</tr>\n",
       "<tr>\n",
       "  <th>Condition1_Norm</th>           <td>    0.0262</td> <td>    0.007</td> <td>    3.910</td> <td> 0.000</td> <td>    0.013</td> <td>    0.039</td>\n",
       "</tr>\n",
       "<tr>\n",
       "  <th>Condition2_Norm</th>           <td>    0.0154</td> <td>    0.018</td> <td>    0.848</td> <td> 0.397</td> <td>   -0.020</td> <td>    0.051</td>\n",
       "</tr>\n",
       "<tr>\n",
       "  <th>BldgType_1Fam</th>             <td>   -0.0085</td> <td>    0.013</td> <td>   -0.633</td> <td> 0.527</td> <td>   -0.035</td> <td>    0.018</td>\n",
       "</tr>\n",
       "<tr>\n",
       "  <th>BldgType_Duplex</th>           <td>   -0.0282</td> <td>    0.026</td> <td>   -1.097</td> <td> 0.273</td> <td>   -0.079</td> <td>    0.022</td>\n",
       "</tr>\n",
       "<tr>\n",
       "  <th>BldgType_TwnhsE</th>           <td>    0.0129</td> <td>    0.013</td> <td>    1.024</td> <td> 0.306</td> <td>   -0.012</td> <td>    0.038</td>\n",
       "</tr>\n",
       "<tr>\n",
       "  <th>OverallQual_Above Average</th> <td>    0.0076</td> <td>    0.011</td> <td>    0.668</td> <td> 0.504</td> <td>   -0.015</td> <td>    0.030</td>\n",
       "</tr>\n",
       "<tr>\n",
       "  <th>OverallQual_Average</th>       <td>    0.0003</td> <td>    0.012</td> <td>    0.022</td> <td> 0.982</td> <td>   -0.022</td> <td>    0.023</td>\n",
       "</tr>\n",
       "<tr>\n",
       "  <th>OverallQual_Below Average</th> <td>   -0.0157</td> <td>    0.012</td> <td>   -1.257</td> <td> 0.209</td> <td>   -0.040</td> <td>    0.009</td>\n",
       "</tr>\n",
       "<tr>\n",
       "  <th>OverallQual_Good</th>          <td>    0.0181</td> <td>    0.011</td> <td>    1.643</td> <td> 0.101</td> <td>   -0.004</td> <td>    0.040</td>\n",
       "</tr>\n",
       "<tr>\n",
       "  <th>OverallQual_Very Good</th>     <td>    0.0376</td> <td>    0.011</td> <td>    3.456</td> <td> 0.001</td> <td>    0.016</td> <td>    0.059</td>\n",
       "</tr>\n",
       "<tr>\n",
       "  <th>OverallCond_Above Average</th> <td>    0.0245</td> <td>    0.010</td> <td>    2.376</td> <td> 0.018</td> <td>    0.004</td> <td>    0.045</td>\n",
       "</tr>\n",
       "<tr>\n",
       "  <th>OverallCond_Average</th>       <td>    0.0155</td> <td>    0.010</td> <td>    1.546</td> <td> 0.122</td> <td>   -0.004</td> <td>    0.035</td>\n",
       "</tr>\n",
       "<tr>\n",
       "  <th>OverallCond_Below Average</th> <td>   -0.0243</td> <td>    0.013</td> <td>   -1.902</td> <td> 0.058</td> <td>   -0.049</td> <td>    0.001</td>\n",
       "</tr>\n",
       "<tr>\n",
       "  <th>OverallCond_Good</th>          <td>    0.0408</td> <td>    0.010</td> <td>    3.936</td> <td> 0.000</td> <td>    0.020</td> <td>    0.061</td>\n",
       "</tr>\n",
       "<tr>\n",
       "  <th>OverallCond_Very Good</th>     <td>    0.0368</td> <td>    0.012</td> <td>    3.052</td> <td> 0.002</td> <td>    0.013</td> <td>    0.061</td>\n",
       "</tr>\n",
       "<tr>\n",
       "  <th>RoofStyle_Gable</th>           <td>    0.0072</td> <td>    0.015</td> <td>    0.470</td> <td> 0.638</td> <td>   -0.023</td> <td>    0.037</td>\n",
       "</tr>\n",
       "<tr>\n",
       "  <th>RoofStyle_Hip</th>             <td>    0.0075</td> <td>    0.016</td> <td>    0.473</td> <td> 0.636</td> <td>   -0.024</td> <td>    0.039</td>\n",
       "</tr>\n",
       "<tr>\n",
       "  <th>RoofMatl_CompShg</th>          <td>   -0.0091</td> <td>    0.019</td> <td>   -0.486</td> <td> 0.627</td> <td>   -0.046</td> <td>    0.028</td>\n",
       "</tr>\n",
       "<tr>\n",
       "  <th>Exterior1st_BrkFace</th>       <td>    0.0180</td> <td>    0.013</td> <td>    1.363</td> <td> 0.173</td> <td>   -0.008</td> <td>    0.044</td>\n",
       "</tr>\n",
       "<tr>\n",
       "  <th>Exterior1st_CemntBd</th>       <td>   -0.0756</td> <td>    0.038</td> <td>   -1.997</td> <td> 0.046</td> <td>   -0.150</td> <td>   -0.001</td>\n",
       "</tr>\n",
       "<tr>\n",
       "  <th>Exterior1st_HdBoard</th>       <td>   -0.0102</td> <td>    0.014</td> <td>   -0.721</td> <td> 0.471</td> <td>   -0.038</td> <td>    0.018</td>\n",
       "</tr>\n",
       "<tr>\n",
       "  <th>Exterior1st_MetalSd</th>       <td>   -0.0014</td> <td>    0.021</td> <td>   -0.069</td> <td> 0.945</td> <td>   -0.042</td> <td>    0.039</td>\n",
       "</tr>\n",
       "<tr>\n",
       "  <th>Exterior1st_Plywood</th>       <td>-2.113e-05</td> <td>    0.014</td> <td>   -0.001</td> <td> 0.999</td> <td>   -0.028</td> <td>    0.028</td>\n",
       "</tr>\n",
       "<tr>\n",
       "  <th>Exterior1st_VinylSd</th>       <td>   -0.0007</td> <td>    0.022</td> <td>   -0.034</td> <td> 0.973</td> <td>   -0.043</td> <td>    0.042</td>\n",
       "</tr>\n",
       "<tr>\n",
       "  <th>Exterior1st_Wd Sdng</th>       <td>   -0.0285</td> <td>    0.014</td> <td>   -2.069</td> <td> 0.039</td> <td>   -0.056</td> <td>   -0.001</td>\n",
       "</tr>\n",
       "<tr>\n",
       "  <th>Exterior2nd_CmentBd</th>       <td>    0.0671</td> <td>    0.038</td> <td>    1.764</td> <td> 0.078</td> <td>   -0.008</td> <td>    0.142</td>\n",
       "</tr>\n",
       "<tr>\n",
       "  <th>Exterior2nd_HdBoard</th>       <td>    0.0142</td> <td>    0.013</td> <td>    1.113</td> <td> 0.266</td> <td>   -0.011</td> <td>    0.039</td>\n",
       "</tr>\n",
       "<tr>\n",
       "  <th>Exterior2nd_MetalSd</th>       <td>    0.0059</td> <td>    0.020</td> <td>    0.296</td> <td> 0.767</td> <td>   -0.033</td> <td>    0.045</td>\n",
       "</tr>\n",
       "<tr>\n",
       "  <th>Exterior2nd_Plywood</th>       <td>    0.0028</td> <td>    0.012</td> <td>    0.241</td> <td> 0.810</td> <td>   -0.020</td> <td>    0.026</td>\n",
       "</tr>\n",
       "<tr>\n",
       "  <th>Exterior2nd_VinylSd</th>       <td>    0.0124</td> <td>    0.020</td> <td>    0.627</td> <td> 0.531</td> <td>   -0.026</td> <td>    0.051</td>\n",
       "</tr>\n",
       "<tr>\n",
       "  <th>Exterior2nd_Wd Sdng</th>       <td>    0.0244</td> <td>    0.012</td> <td>    2.013</td> <td> 0.044</td> <td>    0.001</td> <td>    0.048</td>\n",
       "</tr>\n",
       "<tr>\n",
       "  <th>MasVnrType_BrkFace</th>        <td>    0.0295</td> <td>    0.014</td> <td>    2.098</td> <td> 0.036</td> <td>    0.002</td> <td>    0.057</td>\n",
       "</tr>\n",
       "<tr>\n",
       "  <th>MasVnrType_None</th>           <td>    0.0220</td> <td>    0.014</td> <td>    1.576</td> <td> 0.115</td> <td>   -0.005</td> <td>    0.049</td>\n",
       "</tr>\n",
       "<tr>\n",
       "  <th>MasVnrType_Stone</th>          <td>    0.0300</td> <td>    0.015</td> <td>    1.975</td> <td> 0.049</td> <td>    0.000</td> <td>    0.060</td>\n",
       "</tr>\n",
       "<tr>\n",
       "  <th>ExterQual_Ex</th>              <td>    0.0569</td> <td>    0.034</td> <td>    1.690</td> <td> 0.091</td> <td>   -0.009</td> <td>    0.123</td>\n",
       "</tr>\n",
       "<tr>\n",
       "  <th>ExterQual_Gd</th>              <td>    0.0139</td> <td>    0.032</td> <td>    0.439</td> <td> 0.661</td> <td>   -0.048</td> <td>    0.076</td>\n",
       "</tr>\n",
       "<tr>\n",
       "  <th>ExterQual_TA</th>              <td>    0.0061</td> <td>    0.031</td> <td>    0.196</td> <td> 0.845</td> <td>   -0.055</td> <td>    0.067</td>\n",
       "</tr>\n",
       "<tr>\n",
       "  <th>ExterCond_Gd</th>              <td>   -0.0190</td> <td>    0.013</td> <td>   -1.428</td> <td> 0.154</td> <td>   -0.045</td> <td>    0.007</td>\n",
       "</tr>\n",
       "<tr>\n",
       "  <th>ExterCond_TA</th>              <td>   -0.0110</td> <td>    0.012</td> <td>   -0.895</td> <td> 0.371</td> <td>   -0.035</td> <td>    0.013</td>\n",
       "</tr>\n",
       "<tr>\n",
       "  <th>Foundation_BrkTil</th>         <td>   -0.0118</td> <td>    0.017</td> <td>   -0.705</td> <td> 0.481</td> <td>   -0.045</td> <td>    0.021</td>\n",
       "</tr>\n",
       "<tr>\n",
       "  <th>Foundation_CBlock</th>         <td>   -0.0038</td> <td>    0.016</td> <td>   -0.239</td> <td> 0.811</td> <td>   -0.035</td> <td>    0.027</td>\n",
       "</tr>\n",
       "<tr>\n",
       "  <th>Foundation_PConc</th>          <td>    0.0151</td> <td>    0.016</td> <td>    0.948</td> <td> 0.344</td> <td>   -0.016</td> <td>    0.046</td>\n",
       "</tr>\n",
       "<tr>\n",
       "  <th>BsmtQual_Ex</th>               <td>    0.0128</td> <td>    0.016</td> <td>    0.813</td> <td> 0.416</td> <td>   -0.018</td> <td>    0.044</td>\n",
       "</tr>\n",
       "<tr>\n",
       "  <th>BsmtQual_Gd</th>               <td>   -0.0103</td> <td>    0.014</td> <td>   -0.752</td> <td> 0.452</td> <td>   -0.037</td> <td>    0.017</td>\n",
       "</tr>\n",
       "<tr>\n",
       "  <th>BsmtQual_TA</th>               <td>   -0.0045</td> <td>    0.012</td> <td>   -0.365</td> <td> 0.715</td> <td>   -0.029</td> <td>    0.020</td>\n",
       "</tr>\n",
       "<tr>\n",
       "  <th>BsmtCond_Gd</th>               <td>    0.0264</td> <td>    0.015</td> <td>    1.717</td> <td> 0.086</td> <td>   -0.004</td> <td>    0.057</td>\n",
       "</tr>\n",
       "<tr>\n",
       "  <th>BsmtCond_TA</th>               <td>    0.0240</td> <td>    0.013</td> <td>    1.866</td> <td> 0.062</td> <td>   -0.001</td> <td>    0.049</td>\n",
       "</tr>\n",
       "<tr>\n",
       "  <th>BsmtExposure_Av</th>           <td>    0.0198</td> <td>    0.050</td> <td>    0.393</td> <td> 0.694</td> <td>   -0.079</td> <td>    0.118</td>\n",
       "</tr>\n",
       "<tr>\n",
       "  <th>BsmtExposure_Gd</th>           <td>    0.0456</td> <td>    0.050</td> <td>    0.904</td> <td> 0.366</td> <td>   -0.053</td> <td>    0.145</td>\n",
       "</tr>\n",
       "<tr>\n",
       "  <th>BsmtExposure_Mn</th>           <td>    0.0199</td> <td>    0.050</td> <td>    0.395</td> <td> 0.693</td> <td>   -0.079</td> <td>    0.119</td>\n",
       "</tr>\n",
       "<tr>\n",
       "  <th>BsmtExposure_No</th>           <td>    0.0179</td> <td>    0.050</td> <td>    0.358</td> <td> 0.720</td> <td>   -0.080</td> <td>    0.116</td>\n",
       "</tr>\n",
       "<tr>\n",
       "  <th>BsmtFinType1_ALQ</th>          <td>   -0.0334</td> <td>    0.057</td> <td>   -0.586</td> <td> 0.558</td> <td>   -0.145</td> <td>    0.078</td>\n",
       "</tr>\n",
       "<tr>\n",
       "  <th>BsmtFinType1_BLQ</th>          <td>   -0.0374</td> <td>    0.057</td> <td>   -0.656</td> <td> 0.512</td> <td>   -0.149</td> <td>    0.075</td>\n",
       "</tr>\n",
       "<tr>\n",
       "  <th>BsmtFinType1_GLQ</th>          <td>   -0.0369</td> <td>    0.057</td> <td>   -0.645</td> <td> 0.519</td> <td>   -0.149</td> <td>    0.075</td>\n",
       "</tr>\n",
       "<tr>\n",
       "  <th>BsmtFinType1_LwQ</th>          <td>   -0.0471</td> <td>    0.057</td> <td>   -0.823</td> <td> 0.410</td> <td>   -0.159</td> <td>    0.065</td>\n",
       "</tr>\n",
       "<tr>\n",
       "  <th>BsmtFinType1_Rec</th>          <td>   -0.0421</td> <td>    0.057</td> <td>   -0.737</td> <td> 0.461</td> <td>   -0.154</td> <td>    0.070</td>\n",
       "</tr>\n",
       "<tr>\n",
       "  <th>BsmtFinType1_Unf</th>          <td>   -0.0518</td> <td>    0.057</td> <td>   -0.916</td> <td> 0.360</td> <td>   -0.163</td> <td>    0.059</td>\n",
       "</tr>\n",
       "<tr>\n",
       "  <th>BsmtFinType2_Rec</th>          <td>   -0.0099</td> <td>    0.011</td> <td>   -0.917</td> <td> 0.359</td> <td>   -0.031</td> <td>    0.011</td>\n",
       "</tr>\n",
       "<tr>\n",
       "  <th>BsmtFinType2_Unf</th>          <td>    0.0095</td> <td>    0.010</td> <td>    0.928</td> <td> 0.354</td> <td>   -0.011</td> <td>    0.030</td>\n",
       "</tr>\n",
       "<tr>\n",
       "  <th>Heating_GasA</th>              <td>    0.0030</td> <td>    0.016</td> <td>    0.189</td> <td> 0.850</td> <td>   -0.028</td> <td>    0.034</td>\n",
       "</tr>\n",
       "<tr>\n",
       "  <th>HeatingQC_Ex</th>              <td>    0.0307</td> <td>    0.011</td> <td>    2.870</td> <td> 0.004</td> <td>    0.010</td> <td>    0.052</td>\n",
       "</tr>\n",
       "<tr>\n",
       "  <th>HeatingQC_Gd</th>              <td>    0.0216</td> <td>    0.011</td> <td>    2.003</td> <td> 0.045</td> <td>    0.000</td> <td>    0.043</td>\n",
       "</tr>\n",
       "<tr>\n",
       "  <th>HeatingQC_TA</th>              <td>    0.0141</td> <td>    0.010</td> <td>    1.402</td> <td> 0.161</td> <td>   -0.006</td> <td>    0.034</td>\n",
       "</tr>\n",
       "<tr>\n",
       "  <th>CentralAir_N</th>              <td>    3.5096</td> <td>    1.468</td> <td>    2.391</td> <td> 0.017</td> <td>    0.629</td> <td>    6.390</td>\n",
       "</tr>\n",
       "<tr>\n",
       "  <th>CentralAir_Y</th>              <td>    3.5387</td> <td>    1.468</td> <td>    2.411</td> <td> 0.016</td> <td>    0.658</td> <td>    6.420</td>\n",
       "</tr>\n",
       "<tr>\n",
       "  <th>Electrical_FuseA</th>          <td>    0.0009</td> <td>    0.015</td> <td>    0.061</td> <td> 0.951</td> <td>   -0.028</td> <td>    0.030</td>\n",
       "</tr>\n",
       "<tr>\n",
       "  <th>Electrical_SBrkr</th>          <td>   -0.0024</td> <td>    0.014</td> <td>   -0.173</td> <td> 0.863</td> <td>   -0.030</td> <td>    0.025</td>\n",
       "</tr>\n",
       "<tr>\n",
       "  <th>KitchenQual_Ex</th>            <td>    0.0398</td> <td>    0.017</td> <td>    2.351</td> <td> 0.019</td> <td>    0.007</td> <td>    0.073</td>\n",
       "</tr>\n",
       "<tr>\n",
       "  <th>KitchenQual_Gd</th>            <td>    0.0118</td> <td>    0.015</td> <td>    0.795</td> <td> 0.427</td> <td>   -0.017</td> <td>    0.041</td>\n",
       "</tr>\n",
       "<tr>\n",
       "  <th>KitchenQual_TA</th>            <td>    0.0039</td> <td>    0.014</td> <td>    0.283</td> <td> 0.777</td> <td>   -0.023</td> <td>    0.031</td>\n",
       "</tr>\n",
       "<tr>\n",
       "  <th>Functional_Typ</th>            <td>    0.0446</td> <td>    0.008</td> <td>    5.842</td> <td> 0.000</td> <td>    0.030</td> <td>    0.060</td>\n",
       "</tr>\n",
       "<tr>\n",
       "  <th>FireplaceQu_Gd</th>            <td>    0.0026</td> <td>    0.007</td> <td>    0.376</td> <td> 0.707</td> <td>   -0.011</td> <td>    0.016</td>\n",
       "</tr>\n",
       "<tr>\n",
       "  <th>FireplaceQu_TA</th>            <td>    0.0053</td> <td>    0.007</td> <td>    0.750</td> <td> 0.453</td> <td>   -0.009</td> <td>    0.019</td>\n",
       "</tr>\n",
       "<tr>\n",
       "  <th>GarageType_Attchd</th>         <td>    0.0256</td> <td>    0.013</td> <td>    1.939</td> <td> 0.053</td> <td>   -0.000</td> <td>    0.051</td>\n",
       "</tr>\n",
       "<tr>\n",
       "  <th>GarageType_BuiltIn</th>        <td>    0.0272</td> <td>    0.015</td> <td>    1.777</td> <td> 0.076</td> <td>   -0.003</td> <td>    0.057</td>\n",
       "</tr>\n",
       "<tr>\n",
       "  <th>GarageType_Detchd</th>         <td>    0.0224</td> <td>    0.013</td> <td>    1.676</td> <td> 0.094</td> <td>   -0.004</td> <td>    0.049</td>\n",
       "</tr>\n",
       "<tr>\n",
       "  <th>GarageFinish_Fin</th>          <td>   -0.0237</td> <td>    0.021</td> <td>   -1.126</td> <td> 0.261</td> <td>   -0.065</td> <td>    0.018</td>\n",
       "</tr>\n",
       "<tr>\n",
       "  <th>GarageFinish_RFn</th>          <td>   -0.0325</td> <td>    0.021</td> <td>   -1.571</td> <td> 0.117</td> <td>   -0.073</td> <td>    0.008</td>\n",
       "</tr>\n",
       "<tr>\n",
       "  <th>GarageFinish_Unf</th>          <td>   -0.0307</td> <td>    0.020</td> <td>   -1.530</td> <td> 0.126</td> <td>   -0.070</td> <td>    0.009</td>\n",
       "</tr>\n",
       "<tr>\n",
       "  <th>GarageQual_TA</th>             <td>   -0.0140</td> <td>    0.011</td> <td>   -1.326</td> <td> 0.185</td> <td>   -0.035</td> <td>    0.007</td>\n",
       "</tr>\n",
       "<tr>\n",
       "  <th>GarageCond_TA</th>             <td>    0.0374</td> <td>    0.012</td> <td>    3.201</td> <td> 0.001</td> <td>    0.014</td> <td>    0.060</td>\n",
       "</tr>\n",
       "<tr>\n",
       "  <th>PavedDrive_N</th>              <td>   -0.0111</td> <td>    0.015</td> <td>   -0.762</td> <td> 0.446</td> <td>   -0.040</td> <td>    0.018</td>\n",
       "</tr>\n",
       "<tr>\n",
       "  <th>PavedDrive_Y</th>              <td>    0.0099</td> <td>    0.012</td> <td>    0.801</td> <td> 0.424</td> <td>   -0.014</td> <td>    0.034</td>\n",
       "</tr>\n",
       "<tr>\n",
       "  <th>Fence_GdPrv</th>               <td>   -0.0056</td> <td>    0.009</td> <td>   -0.610</td> <td> 0.542</td> <td>   -0.024</td> <td>    0.012</td>\n",
       "</tr>\n",
       "<tr>\n",
       "  <th>Fence_GdWo</th>                <td>   -0.0268</td> <td>    0.009</td> <td>   -2.968</td> <td> 0.003</td> <td>   -0.045</td> <td>   -0.009</td>\n",
       "</tr>\n",
       "<tr>\n",
       "  <th>Fence_MnPrv</th>               <td>    0.0010</td> <td>    0.006</td> <td>    0.165</td> <td> 0.869</td> <td>   -0.011</td> <td>    0.012</td>\n",
       "</tr>\n",
       "<tr>\n",
       "  <th>SaleType_New</th>              <td>    0.0400</td> <td>    0.032</td> <td>    1.246</td> <td> 0.213</td> <td>   -0.023</td> <td>    0.103</td>\n",
       "</tr>\n",
       "<tr>\n",
       "  <th>SaleType_WD</th>               <td>   -0.0223</td> <td>    0.008</td> <td>   -2.719</td> <td> 0.007</td> <td>   -0.038</td> <td>   -0.006</td>\n",
       "</tr>\n",
       "<tr>\n",
       "  <th>SaleCondition_Abnorml</th>     <td>   -0.0350</td> <td>    0.014</td> <td>   -2.521</td> <td> 0.012</td> <td>   -0.062</td> <td>   -0.008</td>\n",
       "</tr>\n",
       "<tr>\n",
       "  <th>SaleCondition_Normal</th>      <td>    0.0143</td> <td>    0.012</td> <td>    1.174</td> <td> 0.241</td> <td>   -0.010</td> <td>    0.038</td>\n",
       "</tr>\n",
       "<tr>\n",
       "  <th>SaleCondition_Partial</th>     <td>   -0.0264</td> <td>    0.033</td> <td>   -0.791</td> <td> 0.429</td> <td>   -0.092</td> <td>    0.039</td>\n",
       "</tr>\n",
       "<tr>\n",
       "  <th>60_RL</th>                     <td>    0.0107</td> <td>    0.013</td> <td>    0.813</td> <td> 0.416</td> <td>   -0.015</td> <td>    0.037</td>\n",
       "</tr>\n",
       "<tr>\n",
       "  <th>60_FV</th>                     <td>    0.0045</td> <td>    0.019</td> <td>    0.235</td> <td> 0.815</td> <td>   -0.033</td> <td>    0.042</td>\n",
       "</tr>\n",
       "<tr>\n",
       "  <th>20_RL</th>                     <td>    0.0309</td> <td>    0.011</td> <td>    2.830</td> <td> 0.005</td> <td>    0.009</td> <td>    0.052</td>\n",
       "</tr>\n",
       "<tr>\n",
       "  <th>70_RL</th>                     <td>    0.0380</td> <td>    0.017</td> <td>    2.299</td> <td> 0.022</td> <td>    0.006</td> <td>    0.071</td>\n",
       "</tr>\n",
       "<tr>\n",
       "  <th>70_RM</th>                     <td>    0.0222</td> <td>    0.017</td> <td>    1.313</td> <td> 0.190</td> <td>   -0.011</td> <td>    0.055</td>\n",
       "</tr>\n",
       "<tr>\n",
       "  <th>50_RL</th>                     <td>    0.0198</td> <td>    0.012</td> <td>    1.699</td> <td> 0.090</td> <td>   -0.003</td> <td>    0.043</td>\n",
       "</tr>\n",
       "<tr>\n",
       "  <th>50_RM</th>                     <td>   -0.0196</td> <td>    0.013</td> <td>   -1.461</td> <td> 0.144</td> <td>   -0.046</td> <td>    0.007</td>\n",
       "</tr>\n",
       "<tr>\n",
       "  <th>90_RL</th>                     <td>    0.0442</td> <td>    0.024</td> <td>    1.870</td> <td> 0.062</td> <td>   -0.002</td> <td>    0.091</td>\n",
       "</tr>\n",
       "<tr>\n",
       "  <th>120_RL</th>                    <td>    0.0057</td> <td>    0.015</td> <td>    0.371</td> <td> 0.710</td> <td>   -0.025</td> <td>    0.036</td>\n",
       "</tr>\n",
       "<tr>\n",
       "  <th>120_RM</th>                    <td>   -0.0238</td> <td>    0.020</td> <td>   -1.213</td> <td> 0.226</td> <td>   -0.062</td> <td>    0.015</td>\n",
       "</tr>\n",
       "<tr>\n",
       "  <th>30_RL</th>                     <td>   -0.0351</td> <td>    0.017</td> <td>   -2.054</td> <td> 0.040</td> <td>   -0.069</td> <td>   -0.002</td>\n",
       "</tr>\n",
       "<tr>\n",
       "  <th>30_RM</th>                     <td>   -0.0002</td> <td>    0.015</td> <td>   -0.011</td> <td> 0.991</td> <td>   -0.029</td> <td>    0.029</td>\n",
       "</tr>\n",
       "<tr>\n",
       "  <th>85_RL</th>                     <td>    0.0372</td> <td>    0.018</td> <td>    2.016</td> <td> 0.044</td> <td>    0.001</td> <td>    0.074</td>\n",
       "</tr>\n",
       "<tr>\n",
       "  <th>80_RL</th>                     <td>    0.0327</td> <td>    0.014</td> <td>    2.331</td> <td> 0.020</td> <td>    0.005</td> <td>    0.060</td>\n",
       "</tr>\n",
       "<tr>\n",
       "  <th>160_RM</th>                    <td>   -0.0566</td> <td>    0.016</td> <td>   -3.483</td> <td> 0.001</td> <td>   -0.088</td> <td>   -0.025</td>\n",
       "</tr>\n",
       "<tr>\n",
       "  <th>160_FV</th>                    <td>   -0.0465</td> <td>    0.022</td> <td>   -2.131</td> <td> 0.033</td> <td>   -0.089</td> <td>   -0.004</td>\n",
       "</tr>\n",
       "<tr>\n",
       "  <th>HouseAge</th>                  <td>   -0.0013</td> <td>    0.001</td> <td>   -0.986</td> <td> 0.324</td> <td>   -0.004</td> <td>    0.001</td>\n",
       "</tr>\n",
       "<tr>\n",
       "  <th>br_0</th>                      <td>    2.7665</td> <td>    1.125</td> <td>    2.459</td> <td> 0.014</td> <td>    0.559</td> <td>    4.974</td>\n",
       "</tr>\n",
       "<tr>\n",
       "  <th>br_1</th>                      <td>    2.1781</td> <td>    0.916</td> <td>    2.377</td> <td> 0.018</td> <td>    0.380</td> <td>    3.976</td>\n",
       "</tr>\n",
       "<tr>\n",
       "  <th>br_2</th>                      <td>    1.6923</td> <td>    0.707</td> <td>    2.394</td> <td> 0.017</td> <td>    0.305</td> <td>    3.080</td>\n",
       "</tr>\n",
       "<tr>\n",
       "  <th>br_3</th>                      <td>    1.1845</td> <td>    0.498</td> <td>    2.378</td> <td> 0.018</td> <td>    0.207</td> <td>    2.162</td>\n",
       "</tr>\n",
       "<tr>\n",
       "  <th>br_4</th>                      <td>    0.6799</td> <td>    0.289</td> <td>    2.353</td> <td> 0.019</td> <td>    0.113</td> <td>    1.247</td>\n",
       "</tr>\n",
       "<tr>\n",
       "  <th>br_5</th>                      <td>    0.1330</td> <td>    0.082</td> <td>    1.616</td> <td> 0.106</td> <td>   -0.029</td> <td>    0.294</td>\n",
       "</tr>\n",
       "<tr>\n",
       "  <th>br_6</th>                      <td>   -0.3442</td> <td>    0.133</td> <td>   -2.587</td> <td> 0.010</td> <td>   -0.605</td> <td>   -0.083</td>\n",
       "</tr>\n",
       "<tr>\n",
       "  <th>br_8</th>                      <td>   -1.2418</td> <td>    0.550</td> <td>   -2.259</td> <td> 0.024</td> <td>   -2.321</td> <td>   -0.163</td>\n",
       "</tr>\n",
       "</table>\n",
       "<table class=\"simpletable\">\n",
       "<tr>\n",
       "  <th>Omnibus:</th>       <td>223.665</td> <th>  Durbin-Watson:     </th> <td>   1.827</td>\n",
       "</tr>\n",
       "<tr>\n",
       "  <th>Prob(Omnibus):</th> <td> 0.000</td>  <th>  Jarque-Bera (JB):  </th> <td>1979.829</td>\n",
       "</tr>\n",
       "<tr>\n",
       "  <th>Skew:</th>          <td>-0.737</td>  <th>  Prob(JB):          </th> <td>    0.00</td>\n",
       "</tr>\n",
       "<tr>\n",
       "  <th>Kurtosis:</th>      <td> 9.657</td>  <th>  Cond. No.          </th> <td>1.30e+16</td>\n",
       "</tr>\n",
       "</table><br/><br/>Warnings:<br/>[1] Standard Errors assume that the covariance matrix of the errors is correctly specified.<br/>[2] The smallest eigenvalue is 1.39e-21. This might indicate that there are<br/>strong multicollinearity problems or that the design matrix is singular."
      ],
      "text/plain": [
       "<class 'statsmodels.iolib.summary.Summary'>\n",
       "\"\"\"\n",
       "                            OLS Regression Results                            \n",
       "==============================================================================\n",
       "Dep. Variable:         Log_sale_price   R-squared:                       0.934\n",
       "Model:                            OLS   Adj. R-squared:                  0.921\n",
       "Method:                 Least Squares   F-statistic:                     72.92\n",
       "Date:                Wed, 14 Nov 2018   Prob (F-statistic):               0.00\n",
       "Time:                        17:00:41   Log-Likelihood:                 1721.1\n",
       "No. Observations:                1022   AIC:                            -3108.\n",
       "Df Residuals:                     855   BIC:                            -2285.\n",
       "Df Model:                         166                                         \n",
       "Covariance Type:            nonrobust                                         \n",
       "=============================================================================================\n",
       "                                coef    std err          t      P>|t|      [0.025      0.975]\n",
       "---------------------------------------------------------------------------------------------\n",
       "LotFrontage                   0.0002      0.000      1.715      0.087   -2.58e-05       0.000\n",
       "LotArea                    1.097e-06   2.46e-07      4.454      0.000    6.14e-07    1.58e-06\n",
       "YearRemodAdd                 -0.0009      0.001     -0.724      0.469      -0.003       0.002\n",
       "MasVnrArea                 2.633e-06   1.52e-05      0.173      0.863   -2.72e-05    3.25e-05\n",
       "BsmtFinSF1                 2.553e-05   6.98e-06      3.656      0.000    1.18e-05    3.92e-05\n",
       "BsmtFinSF2                 2.112e-05   1.44e-05      1.463      0.144   -7.21e-06    4.94e-05\n",
       "BsmtUnfSF                 -2.861e-06   7.11e-06     -0.402      0.687   -1.68e-05    1.11e-05\n",
       "TotalBsmtSF                4.378e-05   9.35e-06      4.681      0.000    2.54e-05    6.21e-05\n",
       "1stFlrSF                   5.386e-05   1.34e-05      4.013      0.000    2.75e-05    8.02e-05\n",
       "2ndFlrSF                   5.336e-05   1.28e-05      4.183      0.000    2.83e-05    7.84e-05\n",
       "LowQualFinSF              -3.634e-05      3e-05     -1.210      0.227   -9.53e-05    2.26e-05\n",
       "GrLivArea                  7.088e-05   1.21e-05      5.878      0.000    4.72e-05    9.45e-05\n",
       "BsmtFullBath                  0.0097      0.005      1.908      0.057      -0.000       0.020\n",
       "BsmtHalfBath                  0.0028      0.008      0.357      0.721      -0.012       0.018\n",
       "FullBath                      0.0230      0.006      3.968      0.000       0.012       0.034\n",
       "HalfBath                      0.0169      0.005      3.109      0.002       0.006       0.028\n",
       "BedroomAbvGr                  0.5012      0.209      2.396      0.017       0.091       0.912\n",
       "KitchenAbvGr                 -0.0355      0.016     -2.274      0.023      -0.066      -0.005\n",
       "TotRmsAbvGrd                  0.0002      0.002      0.088      0.930      -0.004       0.005\n",
       "Fireplaces                    0.0054      0.005      1.087      0.278      -0.004       0.015\n",
       "GarageYrBlt                8.793e-05      0.000      0.582      0.561      -0.000       0.000\n",
       "GarageCars                    0.0142      0.006      2.290      0.022       0.002       0.026\n",
       "GarageArea                 2.554e-05   2.06e-05      1.241      0.215   -1.49e-05    6.59e-05\n",
       "WoodDeckSF                 6.141e-05   1.55e-05      3.958      0.000     3.1e-05    9.19e-05\n",
       "OpenPorchSF                2.324e-05   2.91e-05      0.800      0.424   -3.38e-05    8.03e-05\n",
       "EnclosedPorch              -2.21e-05   3.12e-05     -0.708      0.479   -8.34e-05    3.92e-05\n",
       "3SsnPorch                  3.084e-05   4.93e-05      0.626      0.532   -6.59e-05       0.000\n",
       "ScreenPorch                7.966e-05   3.12e-05      2.551      0.011    1.84e-05       0.000\n",
       "PoolArea                   7.287e-05   5.38e-05      1.354      0.176   -3.27e-05       0.000\n",
       "MiscVal                   -7.152e-07   6.01e-06     -0.119      0.905   -1.25e-05    1.11e-05\n",
       "Street_Pave                   0.1182      0.039      3.056      0.002       0.042       0.194\n",
       "LotShape_IR1                  0.0047      0.011      0.447      0.655      -0.016       0.025\n",
       "LotShape_Reg                  0.0063      0.011      0.583      0.560      -0.015       0.028\n",
       "LandContour_Bnk               0.0048      0.015      0.308      0.758      -0.026       0.035\n",
       "LandContour_HLS               0.0042      0.016      0.272      0.785      -0.026       0.035\n",
       "LandContour_Lvl              -0.0079      0.014     -0.585      0.558      -0.035       0.019\n",
       "Utilities_AllPub              0.0151      0.056      0.271      0.786      -0.094       0.124\n",
       "LotConfig_Corner              0.0125      0.010      1.237      0.216      -0.007       0.032\n",
       "LotConfig_CulDSac             0.0260      0.011      2.305      0.021       0.004       0.048\n",
       "LotConfig_Inside              0.0049      0.009      0.524      0.600      -0.014       0.023\n",
       "LandSlope_Gtl                 0.0285      0.022      1.284      0.200      -0.015       0.072\n",
       "LandSlope_Mod                 0.0254      0.022      1.150      0.251      -0.018       0.069\n",
       "Neighborhood_BrkSide          0.0383      0.013      3.001      0.003       0.013       0.063\n",
       "Neighborhood_CollgCr          0.0023      0.008      0.298      0.765      -0.013       0.017\n",
       "Neighborhood_Crawfor          0.0509      0.012      4.291      0.000       0.028       0.074\n",
       "Neighborhood_Edwards         -0.0033      0.009     -0.368      0.713      -0.021       0.014\n",
       "Neighborhood_Gilbert          0.0026      0.010      0.271      0.787      -0.016       0.022\n",
       "Neighborhood_NAmes            0.0006      0.008      0.074      0.941      -0.014       0.015\n",
       "Neighborhood_NWAmes           0.0025      0.010      0.255      0.799      -0.017       0.022\n",
       "Neighborhood_NridgHt          0.0220      0.010      2.125      0.034       0.002       0.042\n",
       "Neighborhood_OldTown          0.0053      0.011      0.501      0.617      -0.015       0.026\n",
       "Neighborhood_Sawyer           0.0047      0.010      0.497      0.619      -0.014       0.024\n",
       "Neighborhood_SawyerW          0.0009      0.010      0.097      0.922      -0.018       0.020\n",
       "Neighborhood_Somerst          0.0504      0.013      3.926      0.000       0.025       0.076\n",
       "Condition1_Feedr              0.0072      0.010      0.748      0.454      -0.012       0.026\n",
       "Condition1_Norm               0.0262      0.007      3.910      0.000       0.013       0.039\n",
       "Condition2_Norm               0.0154      0.018      0.848      0.397      -0.020       0.051\n",
       "BldgType_1Fam                -0.0085      0.013     -0.633      0.527      -0.035       0.018\n",
       "BldgType_Duplex              -0.0282      0.026     -1.097      0.273      -0.079       0.022\n",
       "BldgType_TwnhsE               0.0129      0.013      1.024      0.306      -0.012       0.038\n",
       "OverallQual_Above Average     0.0076      0.011      0.668      0.504      -0.015       0.030\n",
       "OverallQual_Average           0.0003      0.012      0.022      0.982      -0.022       0.023\n",
       "OverallQual_Below Average    -0.0157      0.012     -1.257      0.209      -0.040       0.009\n",
       "OverallQual_Good              0.0181      0.011      1.643      0.101      -0.004       0.040\n",
       "OverallQual_Very Good         0.0376      0.011      3.456      0.001       0.016       0.059\n",
       "OverallCond_Above Average     0.0245      0.010      2.376      0.018       0.004       0.045\n",
       "OverallCond_Average           0.0155      0.010      1.546      0.122      -0.004       0.035\n",
       "OverallCond_Below Average    -0.0243      0.013     -1.902      0.058      -0.049       0.001\n",
       "OverallCond_Good              0.0408      0.010      3.936      0.000       0.020       0.061\n",
       "OverallCond_Very Good         0.0368      0.012      3.052      0.002       0.013       0.061\n",
       "RoofStyle_Gable               0.0072      0.015      0.470      0.638      -0.023       0.037\n",
       "RoofStyle_Hip                 0.0075      0.016      0.473      0.636      -0.024       0.039\n",
       "RoofMatl_CompShg             -0.0091      0.019     -0.486      0.627      -0.046       0.028\n",
       "Exterior1st_BrkFace           0.0180      0.013      1.363      0.173      -0.008       0.044\n",
       "Exterior1st_CemntBd          -0.0756      0.038     -1.997      0.046      -0.150      -0.001\n",
       "Exterior1st_HdBoard          -0.0102      0.014     -0.721      0.471      -0.038       0.018\n",
       "Exterior1st_MetalSd          -0.0014      0.021     -0.069      0.945      -0.042       0.039\n",
       "Exterior1st_Plywood       -2.113e-05      0.014     -0.001      0.999      -0.028       0.028\n",
       "Exterior1st_VinylSd          -0.0007      0.022     -0.034      0.973      -0.043       0.042\n",
       "Exterior1st_Wd Sdng          -0.0285      0.014     -2.069      0.039      -0.056      -0.001\n",
       "Exterior2nd_CmentBd           0.0671      0.038      1.764      0.078      -0.008       0.142\n",
       "Exterior2nd_HdBoard           0.0142      0.013      1.113      0.266      -0.011       0.039\n",
       "Exterior2nd_MetalSd           0.0059      0.020      0.296      0.767      -0.033       0.045\n",
       "Exterior2nd_Plywood           0.0028      0.012      0.241      0.810      -0.020       0.026\n",
       "Exterior2nd_VinylSd           0.0124      0.020      0.627      0.531      -0.026       0.051\n",
       "Exterior2nd_Wd Sdng           0.0244      0.012      2.013      0.044       0.001       0.048\n",
       "MasVnrType_BrkFace            0.0295      0.014      2.098      0.036       0.002       0.057\n",
       "MasVnrType_None               0.0220      0.014      1.576      0.115      -0.005       0.049\n",
       "MasVnrType_Stone              0.0300      0.015      1.975      0.049       0.000       0.060\n",
       "ExterQual_Ex                  0.0569      0.034      1.690      0.091      -0.009       0.123\n",
       "ExterQual_Gd                  0.0139      0.032      0.439      0.661      -0.048       0.076\n",
       "ExterQual_TA                  0.0061      0.031      0.196      0.845      -0.055       0.067\n",
       "ExterCond_Gd                 -0.0190      0.013     -1.428      0.154      -0.045       0.007\n",
       "ExterCond_TA                 -0.0110      0.012     -0.895      0.371      -0.035       0.013\n",
       "Foundation_BrkTil            -0.0118      0.017     -0.705      0.481      -0.045       0.021\n",
       "Foundation_CBlock            -0.0038      0.016     -0.239      0.811      -0.035       0.027\n",
       "Foundation_PConc              0.0151      0.016      0.948      0.344      -0.016       0.046\n",
       "BsmtQual_Ex                   0.0128      0.016      0.813      0.416      -0.018       0.044\n",
       "BsmtQual_Gd                  -0.0103      0.014     -0.752      0.452      -0.037       0.017\n",
       "BsmtQual_TA                  -0.0045      0.012     -0.365      0.715      -0.029       0.020\n",
       "BsmtCond_Gd                   0.0264      0.015      1.717      0.086      -0.004       0.057\n",
       "BsmtCond_TA                   0.0240      0.013      1.866      0.062      -0.001       0.049\n",
       "BsmtExposure_Av               0.0198      0.050      0.393      0.694      -0.079       0.118\n",
       "BsmtExposure_Gd               0.0456      0.050      0.904      0.366      -0.053       0.145\n",
       "BsmtExposure_Mn               0.0199      0.050      0.395      0.693      -0.079       0.119\n",
       "BsmtExposure_No               0.0179      0.050      0.358      0.720      -0.080       0.116\n",
       "BsmtFinType1_ALQ             -0.0334      0.057     -0.586      0.558      -0.145       0.078\n",
       "BsmtFinType1_BLQ             -0.0374      0.057     -0.656      0.512      -0.149       0.075\n",
       "BsmtFinType1_GLQ             -0.0369      0.057     -0.645      0.519      -0.149       0.075\n",
       "BsmtFinType1_LwQ             -0.0471      0.057     -0.823      0.410      -0.159       0.065\n",
       "BsmtFinType1_Rec             -0.0421      0.057     -0.737      0.461      -0.154       0.070\n",
       "BsmtFinType1_Unf             -0.0518      0.057     -0.916      0.360      -0.163       0.059\n",
       "BsmtFinType2_Rec             -0.0099      0.011     -0.917      0.359      -0.031       0.011\n",
       "BsmtFinType2_Unf              0.0095      0.010      0.928      0.354      -0.011       0.030\n",
       "Heating_GasA                  0.0030      0.016      0.189      0.850      -0.028       0.034\n",
       "HeatingQC_Ex                  0.0307      0.011      2.870      0.004       0.010       0.052\n",
       "HeatingQC_Gd                  0.0216      0.011      2.003      0.045       0.000       0.043\n",
       "HeatingQC_TA                  0.0141      0.010      1.402      0.161      -0.006       0.034\n",
       "CentralAir_N                  3.5096      1.468      2.391      0.017       0.629       6.390\n",
       "CentralAir_Y                  3.5387      1.468      2.411      0.016       0.658       6.420\n",
       "Electrical_FuseA              0.0009      0.015      0.061      0.951      -0.028       0.030\n",
       "Electrical_SBrkr             -0.0024      0.014     -0.173      0.863      -0.030       0.025\n",
       "KitchenQual_Ex                0.0398      0.017      2.351      0.019       0.007       0.073\n",
       "KitchenQual_Gd                0.0118      0.015      0.795      0.427      -0.017       0.041\n",
       "KitchenQual_TA                0.0039      0.014      0.283      0.777      -0.023       0.031\n",
       "Functional_Typ                0.0446      0.008      5.842      0.000       0.030       0.060\n",
       "FireplaceQu_Gd                0.0026      0.007      0.376      0.707      -0.011       0.016\n",
       "FireplaceQu_TA                0.0053      0.007      0.750      0.453      -0.009       0.019\n",
       "GarageType_Attchd             0.0256      0.013      1.939      0.053      -0.000       0.051\n",
       "GarageType_BuiltIn            0.0272      0.015      1.777      0.076      -0.003       0.057\n",
       "GarageType_Detchd             0.0224      0.013      1.676      0.094      -0.004       0.049\n",
       "GarageFinish_Fin             -0.0237      0.021     -1.126      0.261      -0.065       0.018\n",
       "GarageFinish_RFn             -0.0325      0.021     -1.571      0.117      -0.073       0.008\n",
       "GarageFinish_Unf             -0.0307      0.020     -1.530      0.126      -0.070       0.009\n",
       "GarageQual_TA                -0.0140      0.011     -1.326      0.185      -0.035       0.007\n",
       "GarageCond_TA                 0.0374      0.012      3.201      0.001       0.014       0.060\n",
       "PavedDrive_N                 -0.0111      0.015     -0.762      0.446      -0.040       0.018\n",
       "PavedDrive_Y                  0.0099      0.012      0.801      0.424      -0.014       0.034\n",
       "Fence_GdPrv                  -0.0056      0.009     -0.610      0.542      -0.024       0.012\n",
       "Fence_GdWo                   -0.0268      0.009     -2.968      0.003      -0.045      -0.009\n",
       "Fence_MnPrv                   0.0010      0.006      0.165      0.869      -0.011       0.012\n",
       "SaleType_New                  0.0400      0.032      1.246      0.213      -0.023       0.103\n",
       "SaleType_WD                  -0.0223      0.008     -2.719      0.007      -0.038      -0.006\n",
       "SaleCondition_Abnorml        -0.0350      0.014     -2.521      0.012      -0.062      -0.008\n",
       "SaleCondition_Normal          0.0143      0.012      1.174      0.241      -0.010       0.038\n",
       "SaleCondition_Partial        -0.0264      0.033     -0.791      0.429      -0.092       0.039\n",
       "60_RL                         0.0107      0.013      0.813      0.416      -0.015       0.037\n",
       "60_FV                         0.0045      0.019      0.235      0.815      -0.033       0.042\n",
       "20_RL                         0.0309      0.011      2.830      0.005       0.009       0.052\n",
       "70_RL                         0.0380      0.017      2.299      0.022       0.006       0.071\n",
       "70_RM                         0.0222      0.017      1.313      0.190      -0.011       0.055\n",
       "50_RL                         0.0198      0.012      1.699      0.090      -0.003       0.043\n",
       "50_RM                        -0.0196      0.013     -1.461      0.144      -0.046       0.007\n",
       "90_RL                         0.0442      0.024      1.870      0.062      -0.002       0.091\n",
       "120_RL                        0.0057      0.015      0.371      0.710      -0.025       0.036\n",
       "120_RM                       -0.0238      0.020     -1.213      0.226      -0.062       0.015\n",
       "30_RL                        -0.0351      0.017     -2.054      0.040      -0.069      -0.002\n",
       "30_RM                        -0.0002      0.015     -0.011      0.991      -0.029       0.029\n",
       "85_RL                         0.0372      0.018      2.016      0.044       0.001       0.074\n",
       "80_RL                         0.0327      0.014      2.331      0.020       0.005       0.060\n",
       "160_RM                       -0.0566      0.016     -3.483      0.001      -0.088      -0.025\n",
       "160_FV                       -0.0465      0.022     -2.131      0.033      -0.089      -0.004\n",
       "HouseAge                     -0.0013      0.001     -0.986      0.324      -0.004       0.001\n",
       "br_0                          2.7665      1.125      2.459      0.014       0.559       4.974\n",
       "br_1                          2.1781      0.916      2.377      0.018       0.380       3.976\n",
       "br_2                          1.6923      0.707      2.394      0.017       0.305       3.080\n",
       "br_3                          1.1845      0.498      2.378      0.018       0.207       2.162\n",
       "br_4                          0.6799      0.289      2.353      0.019       0.113       1.247\n",
       "br_5                          0.1330      0.082      1.616      0.106      -0.029       0.294\n",
       "br_6                         -0.3442      0.133     -2.587      0.010      -0.605      -0.083\n",
       "br_8                         -1.2418      0.550     -2.259      0.024      -2.321      -0.163\n",
       "==============================================================================\n",
       "Omnibus:                      223.665   Durbin-Watson:                   1.827\n",
       "Prob(Omnibus):                  0.000   Jarque-Bera (JB):             1979.829\n",
       "Skew:                          -0.737   Prob(JB):                         0.00\n",
       "Kurtosis:                       9.657   Cond. No.                     1.30e+16\n",
       "==============================================================================\n",
       "\n",
       "Warnings:\n",
       "[1] Standard Errors assume that the covariance matrix of the errors is correctly specified.\n",
       "[2] The smallest eigenvalue is 1.39e-21. This might indicate that there are\n",
       "strong multicollinearity problems or that the design matrix is singular.\n",
       "\"\"\""
      ]
     },
     "execution_count": 24,
     "metadata": {},
     "output_type": "execute_result"
    }
   ],
   "source": [
    "regressor_OLS = sm.OLS(y_train,x_train).fit()\n",
    "regressor_OLS.summary()"
   ]
  },
  {
   "cell_type": "code",
   "execution_count": 25,
   "metadata": {},
   "outputs": [
    {
     "data": {
      "text/plain": [
       "<matplotlib.collections.PathCollection at 0x1ac3c173f60>"
      ]
     },
     "execution_count": 25,
     "metadata": {},
     "output_type": "execute_result"
    },
    {
     "data": {
      "image/png": "[encoded data removed]",
      "text/plain": [
       "<Figure size 432x288 with 1 Axes>"
      ]
     },
     "metadata": {
      "needs_background": "light"
     },
     "output_type": "display_data"
    }
   ],
   "source": [
    "y_pred=regressor_OLS.predict(x_test)\n",
    "plt.scatter(y_pred,y_test, s=1)"
   ]
  },
  {
   "cell_type": "code",
   "execution_count": 26,
   "metadata": {},
   "outputs": [
    {
     "data": {
      "text/plain": [
       "0.0905521357043099"
      ]
     },
     "execution_count": 26,
     "metadata": {},
     "output_type": "execute_result"
    }
   ],
   "source": [
    "mse = mean_squared_error(y_pred,y_test)\n",
    "rmse = np.sqrt(mse)\n",
    "rmse"
   ]
  },
  {
   "cell_type": "markdown",
   "metadata": {},
   "source": [
    "thats an improvment from 0.17!"
   ]
  },
  {
   "cell_type": "markdown",
   "metadata": {},
   "source": [
    "# lets try to remove un-necesary columns and check we get better RMSE with lower chance to overfit"
   ]
  },
  {
   "cell_type": "code",
   "execution_count": 27,
   "metadata": {},
   "outputs": [
    {
     "name": "stdout",
     "output_type": "stream",
     "text": [
      "                            OLS Regression Results                            \n",
      "==============================================================================\n",
      "Dep. Variable:         Log_sale_price   R-squared:                       0.928\n",
      "Model:                            OLS   Adj. R-squared:                  0.923\n",
      "Method:                 Least Squares   F-statistic:                     189.2\n",
      "Date:                Wed, 14 Nov 2018   Prob (F-statistic):               0.00\n",
      "Time:                        17:01:47   Log-Likelihood:                 1675.6\n",
      "No. Observations:                1022   AIC:                            -3219.\n",
      "Df Residuals:                     956   BIC:                            -2894.\n",
      "Df Model:                          65                                         \n",
      "Covariance Type:            nonrobust                                         \n",
      "=============================================================================================\n",
      "                                coef    std err          t      P>|t|      [0.025      0.975]\n",
      "---------------------------------------------------------------------------------------------\n",
      "LotFrontage                   0.0002   8.89e-05      2.635      0.009    5.98e-05       0.000\n",
      "LotArea                    8.057e-07   1.72e-07      4.690      0.000    4.69e-07    1.14e-06\n",
      "BsmtFinSF1                 2.604e-05   6.71e-06      3.884      0.000    1.29e-05    3.92e-05\n",
      "TotalBsmtSF                 4.53e-05   7.31e-06      6.195      0.000     3.1e-05    5.97e-05\n",
      "1stFlrSF                      0.0001   9.64e-06     13.153      0.000       0.000       0.000\n",
      "2ndFlrSF                      0.0001   8.33e-06     15.139      0.000       0.000       0.000\n",
      "BsmtFullBath                  0.0102      0.004      2.412      0.016       0.002       0.018\n",
      "FullBath                      0.0230      0.005      4.664      0.000       0.013       0.033\n",
      "HalfBath                      0.0162      0.005      3.492      0.001       0.007       0.025\n",
      "BedroomAbvGr                  0.3705      0.005     73.169      0.000       0.361       0.380\n",
      "KitchenAbvGr                 -0.0420      0.009     -4.590      0.000      -0.060      -0.024\n",
      "Fireplaces                    0.0092      0.003      2.945      0.003       0.003       0.015\n",
      "GarageCars                    0.0217      0.003      6.413      0.000       0.015       0.028\n",
      "WoodDeckSF                 6.339e-05   1.41e-05      4.492      0.000    3.57e-05    9.11e-05\n",
      "ScreenPorch                9.191e-05   2.87e-05      3.200      0.001    3.55e-05       0.000\n",
      "Street_Pave                   0.1478      0.029      5.048      0.000       0.090       0.205\n",
      "LotConfig_CulDSac             0.0177      0.006      2.825      0.005       0.005       0.030\n",
      "Neighborhood_BrkSide          0.0287      0.010      2.966      0.003       0.010       0.048\n",
      "Neighborhood_Crawfor          0.0520      0.009      5.888      0.000       0.035       0.069\n",
      "Neighborhood_NridgHt          0.0219      0.009      2.557      0.011       0.005       0.039\n",
      "Neighborhood_Somerst          0.0437      0.008      5.193      0.000       0.027       0.060\n",
      "Condition1_Norm               0.0232      0.005      4.804      0.000       0.014       0.033\n",
      "OverallQual_Below Average    -0.0207      0.006     -3.215      0.001      -0.033      -0.008\n",
      "OverallQual_Good              0.0174      0.005      3.488      0.001       0.008       0.027\n",
      "OverallQual_Very Good         0.0401      0.007      6.137      0.000       0.027       0.053\n",
      "OverallCond_Above Average     0.0376      0.007      5.257      0.000       0.024       0.052\n",
      "OverallCond_Average           0.0292      0.007      4.439      0.000       0.016       0.042\n",
      "OverallCond_Good              0.0500      0.007      6.669      0.000       0.035       0.065\n",
      "OverallCond_Very Good         0.0513      0.010      5.391      0.000       0.033       0.070\n",
      "Exterior1st_BrkFace           0.0161      0.009      1.755      0.080      -0.002       0.034\n",
      "Exterior1st_CemntBd          -0.0209      0.009     -2.359      0.019      -0.038      -0.004\n",
      "Exterior1st_Wd Sdng          -0.0137      0.005     -2.677      0.008      -0.024      -0.004\n",
      "ExterQual_Ex                  0.0469      0.012      4.014      0.000       0.024       0.070\n",
      "Foundation_BrkTil            -0.0124      0.007     -1.781      0.075      -0.026       0.001\n",
      "Foundation_PConc              0.0168      0.005      3.273      0.001       0.007       0.027\n",
      "BsmtQual_Ex                   0.0270      0.008      3.589      0.000       0.012       0.042\n",
      "BsmtExposure_Gd               0.0223      0.006      3.721      0.000       0.011       0.034\n",
      "BsmtFinType1_Unf             -0.0126      0.005     -2.429      0.015      -0.023      -0.002\n",
      "HeatingQC_Ex                  0.0150      0.004      3.709      0.000       0.007       0.023\n",
      "CentralAir_N                  2.5934      0.021    121.034      0.000       2.551       2.635\n",
      "CentralAir_Y                  2.6291      0.021    123.495      0.000       2.587       2.671\n",
      "KitchenQual_Ex                0.0406      0.009      4.414      0.000       0.023       0.059\n",
      "KitchenQual_Gd                0.0137      0.005      2.800      0.005       0.004       0.023\n",
      "Functional_Typ                0.0490      0.007      7.451      0.000       0.036       0.062\n",
      "GarageFinish_RFn             -0.0083      0.004     -1.892      0.059      -0.017       0.000\n",
      "GarageFinish_Unf             -0.0120      0.005     -2.474      0.014      -0.021      -0.002\n",
      "GarageQual_TA                -0.0173      0.009     -1.932      0.054      -0.035       0.000\n",
      "GarageCond_TA                 0.0392      0.010      4.093      0.000       0.020       0.058\n",
      "PavedDrive_Y                  0.0173      0.007      2.540      0.011       0.004       0.031\n",
      "Fence_GdWo                   -0.0229      0.008     -2.774      0.006      -0.039      -0.007\n",
      "SaleType_WD                  -0.0225      0.005     -4.373      0.000      -0.033      -0.012\n",
      "SaleCondition_Abnorml        -0.0528      0.006     -8.376      0.000      -0.065      -0.040\n",
      "20_RL                         0.0170      0.006      3.073      0.002       0.006       0.028\n",
      "50_RM                        -0.0242      0.010     -2.498      0.013      -0.043      -0.005\n",
      "30_RL                        -0.0528      0.013     -3.946      0.000      -0.079      -0.027\n",
      "85_RL                         0.0251      0.015      1.724      0.085      -0.003       0.054\n",
      "80_RL                         0.0252      0.009      2.789      0.005       0.007       0.043\n",
      "160_RM                       -0.0497      0.012     -4.198      0.000      -0.073      -0.026\n",
      "160_FV                       -0.0361      0.016     -2.277      0.023      -0.067      -0.005\n",
      "HouseAge                     -0.0004      0.000     -3.436      0.001      -0.001      -0.000\n",
      "br_0                          2.0725      0.026     78.616      0.000       2.021       2.124\n",
      "br_1                          1.6058      0.015    109.712      0.000       1.577       1.634\n",
      "br_2                          1.2507      0.010    120.017      0.000       1.230       1.271\n",
      "br_3                          0.8747      0.010     89.323      0.000       0.856       0.894\n",
      "br_4                          0.5009      0.011     43.684      0.000       0.478       0.523\n",
      "br_5                          0.0824      0.018      4.642      0.000       0.048       0.117\n",
      "br_6                         -0.2699      0.023    -11.487      0.000      -0.316      -0.224\n",
      "br_8                         -0.8947      0.030    -30.313      0.000      -0.953      -0.837\n",
      "==============================================================================\n",
      "Omnibus:                      210.183   Durbin-Watson:                   1.848\n",
      "Prob(Omnibus):                  0.000   Jarque-Bera (JB):             1658.545\n",
      "Skew:                          -0.712   Prob(JB):                         0.00\n",
      "Kurtosis:                       9.076   Cond. No.                     1.33e+16\n",
      "==============================================================================\n",
      "\n",
      "Warnings:\n",
      "[1] Standard Errors assume that the covariance matrix of the errors is correctly specified.\n",
      "[2] The smallest eigenvalue is 1.28e-21. This might indicate that there are\n",
      "strong multicollinearity problems or that the design matrix is singular.\n"
     ]
    }
   ],
   "source": [
    "def backwardElimination(X, Y):\n",
    "    for i in np.arange(0.9,0,-0.1):\n",
    "        numVars = len(X.columns.tolist())\n",
    "        d=[]\n",
    "        regressor_OLS = sm.OLS(Y, X).fit()\n",
    "        for j in range(numVars):\n",
    "            if regressor_OLS.pvalues[j] > i:\n",
    "                d.append(X.columns[j])\n",
    "        for t in d:\n",
    "            X=X.drop(t, axis=1)\n",
    "    \n",
    "    regressor_OLS = sm.OLS(Y, X).fit()\n",
    "    while max(regressor_OLS.pvalues > i):\n",
    "        numVars = len(X.columns.tolist())\n",
    "        d=[]\n",
    "        for j in range(numVars):\n",
    "            if regressor_OLS.pvalues[j] > i:\n",
    "                d.append(X.columns[j])\n",
    "        for t in d:\n",
    "            X=X.drop(t, axis=1)\n",
    "        regressor_OLS = sm.OLS(Y, X).fit()\n",
    "    \n",
    "    print(regressor_OLS.summary())\n",
    "    #predictions = regressor_OLS.predict(X)\n",
    "    return regressor_OLS, X.columns.tolist()\n",
    "\n",
    "regressor, ctp=backwardElimination(x_train,y_train)"
   ]
  },
  {
   "cell_type": "code",
   "execution_count": 28,
   "metadata": {},
   "outputs": [
    {
     "data": {
      "text/plain": [
       "<matplotlib.collections.PathCollection at 0x1ac3c22fef0>"
      ]
     },
     "execution_count": 28,
     "metadata": {},
     "output_type": "execute_result"
    },
    {
     "data": {
      "image/png": "[encoded data removed]",
      "text/plain": [
       "<Figure size 432x288 with 1 Axes>"
      ]
     },
     "metadata": {
      "needs_background": "light"
     },
     "output_type": "display_data"
    }
   ],
   "source": [
    "y_pred=regressor.predict(x_test[ctp])\n",
    "plt.scatter(y_pred,y_test, s=1)"
   ]
  },
  {
   "cell_type": "code",
   "execution_count": 29,
   "metadata": {},
   "outputs": [
    {
     "data": {
      "text/plain": [
       "0.08947744072616781"
      ]
     },
     "execution_count": 29,
     "metadata": {},
     "output_type": "execute_result"
    }
   ],
   "source": [
    "mse = mean_squared_error(y_pred,y_test)\n",
    "rmse = np.sqrt(mse)\n",
    "rmse"
   ]
  },
  {
   "cell_type": "markdown",
   "metadata": {},
   "source": [
    "thats another small improvment! and with less features :)"
   ]
  },
  {
   "cell_type": "markdown",
   "metadata": {},
   "source": [
    "# submiting. first lets prepare test set"
   ]
  },
  {
   "cell_type": "code",
   "execution_count": 30,
   "metadata": {},
   "outputs": [],
   "source": [
    "test.OverallCond=test.OverallCond.map(map_overall_to_cat)\n",
    "test.OverallQual=test.OverallQual.map(map_overall_to_cat)\n",
    "for c in cat_c:\n",
    "    test=pd.concat([test,pd.get_dummies(test[c], prefix=c)], axis=1)\n",
    "\n",
    "turn_MS_data_into_cat(test)\n",
    "test['HouseAge']=test.YrSold-train.YearRemodAdd\n",
    "test=pd.concat([test,pd.get_dummies(test.BedroomAbvGr, prefix=\"br\")], axis=1)\n",
    "test['br_8']=0\n"
   ]
  },
  {
   "cell_type": "code",
   "execution_count": 31,
   "metadata": {},
   "outputs": [],
   "source": [
    "lot_to_fix=test[test.LotFrontage.isnull()==True].index.tolist()"
   ]
  },
  {
   "cell_type": "code",
   "execution_count": 32,
   "metadata": {},
   "outputs": [],
   "source": [
    "test.loc[test[test.BsmtFinSF2.isnull()==True].index.tolist(),'BsmtFinSF2']=0"
   ]
  },
  {
   "cell_type": "code",
   "execution_count": 33,
   "metadata": {},
   "outputs": [],
   "source": [
    "test.loc[test[test.BsmtFullBath.isnull()==True].index.tolist(),'BsmtFullBath']=0"
   ]
  },
  {
   "cell_type": "code",
   "execution_count": 34,
   "metadata": {},
   "outputs": [],
   "source": [
    "test.loc[test[test.GarageCars.isnull()==True].index.tolist(),'GarageCars']=0"
   ]
  },
  {
   "cell_type": "code",
   "execution_count": 35,
   "metadata": {},
   "outputs": [],
   "source": [
    "test.loc[lot_to_fix,'LotFrontage']=0"
   ]
  },
  {
   "cell_type": "code",
   "execution_count": 38,
   "metadata": {},
   "outputs": [],
   "source": [
    "test.loc[test[test.BsmtFinSF1.isnull()==True].index.tolist(),'BsmtFinSF1']=0"
   ]
  },
  {
   "cell_type": "code",
   "execution_count": 40,
   "metadata": {},
   "outputs": [],
   "source": [
    "test.loc[test[test.TotalBsmtSF.isnull()==True].index.tolist(),'TotalBsmtSF']=0"
   ]
  },
  {
   "cell_type": "code",
   "execution_count": 42,
   "metadata": {},
   "outputs": [
    {
     "data": {
      "text/plain": [
       "[]"
      ]
     },
     "execution_count": 42,
     "metadata": {},
     "output_type": "execute_result"
    }
   ],
   "source": [
    "test_X=test[ctp]\n",
    "test_X.loc[:,test_X.isnull().any()].columns.tolist()\n"
   ]
  },
  {
   "cell_type": "code",
   "execution_count": 43,
   "metadata": {},
   "outputs": [],
   "source": [
    "y_pred=regressor.predict(test_X)"
   ]
  },
  {
   "cell_type": "code",
   "execution_count": 44,
   "metadata": {},
   "outputs": [
    {
     "data": {
      "text/plain": [
       "False"
      ]
     },
     "execution_count": 44,
     "metadata": {},
     "output_type": "execute_result"
    }
   ],
   "source": [
    "y_pred.isnull().any()"
   ]
  },
  {
   "cell_type": "code",
   "execution_count": 47,
   "metadata": {},
   "outputs": [],
   "source": [
    "SalePrice=pd.Series(10**y_pred, name='SalePrice')"
   ]
  },
  {
   "cell_type": "code",
   "execution_count": 48,
   "metadata": {},
   "outputs": [
    {
     "data": {
      "text/plain": [
       "0    118465.029079\n",
       "1    161151.734315\n",
       "2    189741.190758\n",
       "3    199753.674880\n",
       "4    182748.242106\n",
       "Name: SalePrice, dtype: float64"
      ]
     },
     "execution_count": 48,
     "metadata": {},
     "output_type": "execute_result"
    }
   ],
   "source": [
    "SalePrice.head()"
   ]
  },
  {
   "cell_type": "code",
   "execution_count": 49,
   "metadata": {},
   "outputs": [],
   "source": [
    "test=test.join(SalePrice)"
   ]
  },
  {
   "cell_type": "code",
   "execution_count": 50,
   "metadata": {},
   "outputs": [
    {
     "data": {
      "text/html": [
       "<div>\n",
       "<style scoped>\n",
       "    .dataframe tbody tr th:only-of-type {\n",
       "        vertical-align: middle;\n",
       "    }\n",
       "\n",
       "    .dataframe tbody tr th {\n",
       "        vertical-align: top;\n",
       "    }\n",
       "\n",
       "    .dataframe thead th {\n",
       "        text-align: right;\n",
       "    }\n",
       "</style>\n",
       "<table border=\"1\" class=\"dataframe\">\n",
       "  <thead>\n",
       "    <tr style=\"text-align: right;\">\n",
       "      <th></th>\n",
       "      <th>SalePrice</th>\n",
       "    </tr>\n",
       "    <tr>\n",
       "      <th>Id</th>\n",
       "      <th></th>\n",
       "    </tr>\n",
       "  </thead>\n",
       "  <tbody>\n",
       "    <tr>\n",
       "      <th>1461</th>\n",
       "      <td>118465.029079</td>\n",
       "    </tr>\n",
       "    <tr>\n",
       "      <th>1462</th>\n",
       "      <td>161151.734315</td>\n",
       "    </tr>\n",
       "    <tr>\n",
       "      <th>1463</th>\n",
       "      <td>189741.190758</td>\n",
       "    </tr>\n",
       "    <tr>\n",
       "      <th>1464</th>\n",
       "      <td>199753.674880</td>\n",
       "    </tr>\n",
       "    <tr>\n",
       "      <th>1465</th>\n",
       "      <td>182748.242106</td>\n",
       "    </tr>\n",
       "  </tbody>\n",
       "</table>\n",
       "</div>"
      ],
      "text/plain": [
       "          SalePrice\n",
       "Id                 \n",
       "1461  118465.029079\n",
       "1462  161151.734315\n",
       "1463  189741.190758\n",
       "1464  199753.674880\n",
       "1465  182748.242106"
      ]
     },
     "execution_count": 50,
     "metadata": {},
     "output_type": "execute_result"
    }
   ],
   "source": [
    "submission = test.loc[:, ['Id', 'SalePrice']].copy()\n",
    "submission.set_index('Id', inplace=True)\n",
    "submission.head()"
   ]
  },
  {
   "cell_type": "code",
   "execution_count": 52,
   "metadata": {},
   "outputs": [],
   "source": [
    "submission.to_csv('1st_model.csv')"
   ]
  },
  {
   "cell_type": "markdown",
   "metadata": {},
   "source": [
    "some notes for next steps.\n",
    "1. i didnt use time stamp but i think its crucial. should check it out.\n",
    "2. feeling in the missing values should be triple checked (both in train and on test set).\n",
    "3. i should think on other variables.\n",
    "4. should check cov matrix cause there seem to be high correlation in some var's. PCA could work here."
   ]
  },
  {
   "cell_type": "code",
   "execution_count": null,
   "metadata": {},
   "outputs": [],
   "source": []
  }
 ],
 "metadata": {
  "kernelspec": {
   "display_name": "Python 3",
   "language": "python",
   "name": "python3"
  },
  "language_info": {
   "codemirror_mode": {
    "name": "ipython",
    "version": 3
   },
   "file_extension": ".py",
   "mimetype": "text/x-python",
   "name": "python",
   "nbconvert_exporter": "python",
   "pygments_lexer": "ipython3",
   "version": "3.6.6"
  }
 },
 "nbformat": 4,
 "nbformat_minor": 2
}
