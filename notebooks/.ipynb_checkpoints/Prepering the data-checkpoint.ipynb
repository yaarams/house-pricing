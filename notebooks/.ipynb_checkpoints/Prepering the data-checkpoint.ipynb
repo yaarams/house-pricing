{
 "cells": [
  {
   "cell_type": "code",
   "execution_count": 1,
   "metadata": {},
   "outputs": [],
   "source": [
    "import numpy as np\n",
    "import pandas as pd\n",
    "\n",
    "train = pd.read_csv('../data/train.csv')\n",
    "\n",
    "train=train[train.GrLivArea<4000]\n",
    "train=train[train.LotArea<100000]\n",
    "train.drop(['HouseStyle','BldgType','GarageCars','Utilities'], axis=1, inplace=True)"
   ]
  },
  {
   "cell_type": "code",
   "execution_count": 2,
   "metadata": {},
   "outputs": [],
   "source": [
    "fix1=train[train.Exterior2nd=='Brk Cmn'].index.tolist()\n",
    "train.loc[fix1,'Exterior2nd']='BrkComm'\n",
    "\n",
    "fix2=train[train.Exterior2nd=='Wd Shng'].index.tolist()\n",
    "train.loc[fix2,'Exterior2nd']='WdShing'\n",
    "\n",
    "fix3=train[train.Exterior2nd=='CmentBd'].index.tolist()\n",
    "train.loc[fix3,'Exterior2nd']='CemntBd'\n",
    "\n",
    "train['Diff_in_Ext']=train.apply(lambda x: 1 if x.Exterior2nd!=x.Exterior1st else 0, axis=1)\n",
    "\n",
    "map_overall_to_cat={10:'High',9:'High',8:'High',7:'Average',6:'Average',5:'Average',4:'Average',\n",
    "                    3:'Low',2:'Low',1:'Low'}\n",
    "\n",
    "train.OverallCond=train.OverallCond.map(map_overall_to_cat)\n",
    "train.OverallQual=train.OverallQual.map(map_overall_to_cat)\n",
    "\n",
    "cat_c=[]\n",
    "for c in train.columns.tolist():\n",
    "    if train[c].dtypes=='object':\n",
    "        cat_c.append(c)\n",
    "cat_c.remove('MSZoning')\n",
    "#cat_c.remove('Alley')\n",
    "#cat_c.remove('MiscFeature')"
   ]
  },
  {
   "cell_type": "code",
   "execution_count": 3,
   "metadata": {},
   "outputs": [],
   "source": [
    "def turn_garage_data_into_dummy(df):\n",
    "    for i in df.Neighborhood.unique().tolist():\n",
    "        name=\"Garage_in_\"+str(i)\n",
    "        df[name]=np.where((df.Neighborhood==i)&(df.GarageArea!=0),1,0)\n",
    "        \n",
    "turn_garage_data_into_dummy(train)"
   ]
  },
  {
   "cell_type": "code",
   "execution_count": 4,
   "metadata": {},
   "outputs": [
    {
     "data": {
      "text/plain": [
       "(1452, 158)"
      ]
     },
     "execution_count": 4,
     "metadata": {},
     "output_type": "execute_result"
    }
   ],
   "source": [
    "def make_dummies_conditional_on_len(train,c):\n",
    "    df=train.groupby(c).Id.count()\n",
    "    for i in df.index.tolist():\n",
    "        if df.loc[i]>=50:\n",
    "            name=str(c)+'_'+str(i)\n",
    "            train[name]=np.where(train[c]==i,1,0)\n",
    "    train.drop(c,axis=1, inplace=True)\n",
    "\n",
    "for c in cat_c:\n",
    "    make_dummies_conditional_on_len(train,c)\n",
    "\n",
    "train.drop(['SaleType_New', 'CentralAir_Y','LandSlope_Gtl' ,'BsmtFinType2_Unf',\n",
    "            'Foundation_PConc','RoofStyle_Gable', 'PavedDrive_Y','Electrical_SBrkr'], axis=1,inplace=True)\n",
    "\n",
    "\n",
    "train.shape"
   ]
  },
  {
   "cell_type": "code",
   "execution_count": 5,
   "metadata": {},
   "outputs": [
    {
     "data": {
      "text/plain": [
       "(1452, 180)"
      ]
     },
     "execution_count": 5,
     "metadata": {},
     "output_type": "execute_result"
    }
   ],
   "source": [
    "LotFrontage_to_fix=train[train.LotFrontage.isnull()].index.tolist()\n",
    "train.loc[LotFrontage_to_fix,'LotFrontage']=train.LotFrontage.mean()\n",
    "\n",
    "MasVnrArea_to_fix=train[train.MasVnrArea.isnull()].index.tolist()\n",
    "train.loc[MasVnrArea_to_fix,'MasVnrArea']=0\n",
    "\n",
    "GarageYrBlt_to_fix=train[train.GarageYrBlt.isnull()].index.tolist()\n",
    "train.loc[GarageYrBlt_to_fix,'GarageYrBlt']=train.GarageYrBlt.mean().round(0)\n",
    "\n",
    "def turn_MS_data_into_cat(df):\n",
    "    for i in df.MSSubClass.unique().tolist():\n",
    "        for j in df.MSZoning.unique().tolist():\n",
    "            if df[(df.MSSubClass==i)&(df.MSZoning==j)].Id.count()>=20:\n",
    "                name=str(i)+'_'+str(j)\n",
    "                df[name]=np.where((df.MSSubClass==i)&(df.MSZoning==j),1,0)\n",
    "    df.drop(['MSSubClass','MSZoning'], axis=1, inplace=True)\n",
    "turn_MS_data_into_cat(train)\n",
    "\n",
    "#train.drop('YearBuilt', axis=1, inplace=True)\n",
    "\n",
    "train.loc[train[train.YearRemodAdd>train.YrSold].index,'YearRemodAdd']=2007\n",
    "\n",
    "train['Avg_room_size']=train.GrLivArea/train.TotRmsAbvGrd\n",
    "\n",
    "train=pd.concat([train,pd.get_dummies(train.BedroomAbvGr, prefix=\"br\")], axis=1)\n",
    "train.drop('br_8', axis=1, inplace=True)\n",
    "\n",
    "train.shape"
   ]
  },
  {
   "cell_type": "code",
   "execution_count": 6,
   "metadata": {},
   "outputs": [],
   "source": [
    "train['SaleDate']=train.apply(lambda x: str(int(x.YrSold))+'-'+str(int(x.MoSold))+'-'+str(1), axis=1)\n",
    "train['SaleDate']=pd.to_datetime(train['SaleDate'])\n",
    "\n",
    "n_transaction=train.groupby('SaleDate').size()\n",
    "train['n_transaction']=n_transaction.loc[train.SaleDate].values\n",
    "train['Log_sale_price']=np.log10(train.SalePrice)\n",
    "train.drop('SalePrice', axis=1, inplace=True)\n"
   ]
  },
  {
   "cell_type": "code",
   "execution_count": 7,
   "metadata": {},
   "outputs": [],
   "source": [
    "usa_sale_prices=pd.read_csv(\"../data/USA-House_prices_monthly_excat_dates.csv\")\n",
    "usa_sale_prices.DATE=pd.to_datetime(usa_sale_prices.DATE, infer_datetime_format=True)\n",
    "usa_sale_prices.DATE=usa_sale_prices.DATE.dt.strftime('%Y-%d-%m')\n",
    "usa_sale_prices.DATE=pd.to_datetime(usa_sale_prices.DATE, infer_datetime_format=True)\n",
    "usa_sale_prices.set_index('DATE', inplace=True)\n",
    "train['Price_index']=usa_sale_prices.loc[train.SaleDate].values"
   ]
  },
  {
   "cell_type": "code",
   "execution_count": 8,
   "metadata": {},
   "outputs": [
    {
     "name": "stderr",
     "output_type": "stream",
     "text": [
      "C:\\Users\\liort\\Anaconda3\\envs\\py4dp\\lib\\site-packages\\ipykernel_launcher.py:15: FutureWarning: \n",
      "Passing list-likes to .loc or [] with any missing label will raise\n",
      "KeyError in the future, you can use .reindex() as an alternative.\n",
      "\n",
      "See the documentation here:\n",
      "https://pandas.pydata.org/pandas-docs/stable/indexing.html#deprecate-loc-reindex-listlike\n",
      "  from ipykernel import kernelapp as app\n"
     ]
    }
   ],
   "source": [
    "Ames_sale_prices_Q=pd.read_csv(\"../data/Ames_House_prices.csv\")\n",
    "Ames_sale_prices_Q.DATE=pd.to_datetime(Ames_sale_prices_Q.DATE)\n",
    "Ames_sale_prices_Q.set_index('DATE', inplace=True)\n",
    "\n",
    "timerange=[]\n",
    "for i in range(2006,2011):\n",
    "    for j in range(1,13):\n",
    "        timerange.append(str(i)+'-'+str(j)+'-'+str(1))\n",
    "timerange=pd.to_datetime(timerange)\n",
    "\n",
    "Ames_sale_prices_M=pd.DataFrame(data=np.nan, index=np.arange(55), columns=['Date','Value'])\n",
    "Ames_sale_prices_M.Date=timerange[:-5]\n",
    "Ames_sale_prices_M.set_index('Date', inplace=True)\n",
    "\n",
    "Ames_sale_prices_M.Value=Ames_sale_prices_Q.loc[Ames_sale_prices_M.index].values\n",
    "\n",
    "def fancy_forward_fill(Ames_sale_prices_M):\n",
    "    for i in range(0,52,3):\n",
    "        v0=Ames_sale_prices_M.iloc[i].values\n",
    "        v1=Ames_sale_prices_M.iloc[i+3].values\n",
    "        j=(v1-v0)/3\n",
    "        Ames_sale_prices_M.iloc[i+1]=v0+j\n",
    "        Ames_sale_prices_M.iloc[i+2]=v0+(2*j)\n",
    "fancy_forward_fill(Ames_sale_prices_M)\n",
    "\n",
    "train['Price_index_Ames']=Ames_sale_prices_M.loc[train.SaleDate].values"
   ]
  },
  {
   "cell_type": "code",
   "execution_count": 9,
   "metadata": {},
   "outputs": [],
   "source": [
    "ue=pd.read_csv(\"../data/Unemployment in Ames.csv\")\n",
    "ue.DATE=pd.to_datetime(ue.DATE)\n",
    "ue.set_index('DATE', inplace=True)\n",
    "train['UnEmployment']=ue.loc[train.SaleDate].values"
   ]
  },
  {
   "cell_type": "code",
   "execution_count": 10,
   "metadata": {},
   "outputs": [
    {
     "name": "stdout",
     "output_type": "stream",
     "text": [
      "Populating the interactive namespace from numpy and matplotlib\n"
     ]
    }
   ],
   "source": [
    "import matplotlib.pyplot as plt\n",
    "%pylab inline"
   ]
  },
  {
   "cell_type": "code",
   "execution_count": 11,
   "metadata": {},
   "outputs": [
    {
     "data": {
      "text/plain": [
       "<matplotlib.collections.PathCollection at 0x13a74331518>"
      ]
     },
     "execution_count": 11,
     "metadata": {},
     "output_type": "execute_result"
    },
    {
     "data": {
      "image/png": "[encoded data removed]",
      "text/plain": [
       "<Figure size 432x288 with 1 Axes>"
      ]
     },
     "metadata": {
      "needs_background": "light"
     },
     "output_type": "display_data"
    }
   ],
   "source": [
    "plt.scatter(train.YearBuilt, train.YearRemodAdd, s=3)"
   ]
  },
  {
   "cell_type": "code",
   "execution_count": 12,
   "metadata": {},
   "outputs": [
    {
     "data": {
      "text/plain": [
       "<matplotlib.collections.PathCollection at 0x13a743d0320>"
      ]
     },
     "execution_count": 12,
     "metadata": {},
     "output_type": "execute_result"
    },
    {
     "data": {
      "image/png": "[encoded data removed]",
      "text/plain": [
       "<Figure size 432x288 with 1 Axes>"
      ]
     },
     "metadata": {
      "needs_background": "light"
     },
     "output_type": "display_data"
    }
   ],
   "source": [
    "plt.scatter(train.YearBuilt, train.GarageYrBlt, s=3)"
   ]
  },
  {
   "cell_type": "code",
   "execution_count": 17,
   "metadata": {},
   "outputs": [
    {
     "data": {
      "text/html": [
       "<div>\n",
       "<style scoped>\n",
       "    .dataframe tbody tr th:only-of-type {\n",
       "        vertical-align: middle;\n",
       "    }\n",
       "\n",
       "    .dataframe tbody tr th {\n",
       "        vertical-align: top;\n",
       "    }\n",
       "\n",
       "    .dataframe thead th {\n",
       "        text-align: right;\n",
       "    }\n",
       "</style>\n",
       "<table border=\"1\" class=\"dataframe\">\n",
       "  <thead>\n",
       "    <tr style=\"text-align: right;\">\n",
       "      <th></th>\n",
       "      <th>GarageYrBlt</th>\n",
       "      <th>YearBuilt</th>\n",
       "    </tr>\n",
       "  </thead>\n",
       "  <tbody>\n",
       "    <tr>\n",
       "      <th>29</th>\n",
       "      <td>1920.0</td>\n",
       "      <td>1927</td>\n",
       "    </tr>\n",
       "    <tr>\n",
       "      <th>89</th>\n",
       "      <td>1978.0</td>\n",
       "      <td>1994</td>\n",
       "    </tr>\n",
       "    <tr>\n",
       "      <th>93</th>\n",
       "      <td>1900.0</td>\n",
       "      <td>1910</td>\n",
       "    </tr>\n",
       "    <tr>\n",
       "      <th>148</th>\n",
       "      <td>1978.0</td>\n",
       "      <td>2004</td>\n",
       "    </tr>\n",
       "    <tr>\n",
       "      <th>324</th>\n",
       "      <td>1961.0</td>\n",
       "      <td>1967</td>\n",
       "    </tr>\n",
       "    <tr>\n",
       "      <th>582</th>\n",
       "      <td>1978.0</td>\n",
       "      <td>1990</td>\n",
       "    </tr>\n",
       "    <tr>\n",
       "      <th>600</th>\n",
       "      <td>2003.0</td>\n",
       "      <td>2005</td>\n",
       "    </tr>\n",
       "    <tr>\n",
       "      <th>613</th>\n",
       "      <td>1978.0</td>\n",
       "      <td>2007</td>\n",
       "    </tr>\n",
       "    <tr>\n",
       "      <th>736</th>\n",
       "      <td>1949.0</td>\n",
       "      <td>1950</td>\n",
       "    </tr>\n",
       "    <tr>\n",
       "      <th>738</th>\n",
       "      <td>1978.0</td>\n",
       "      <td>1987</td>\n",
       "    </tr>\n",
       "    <tr>\n",
       "      <th>1103</th>\n",
       "      <td>1954.0</td>\n",
       "      <td>1959</td>\n",
       "    </tr>\n",
       "    <tr>\n",
       "      <th>1131</th>\n",
       "      <td>1978.0</td>\n",
       "      <td>1991</td>\n",
       "    </tr>\n",
       "    <tr>\n",
       "      <th>1376</th>\n",
       "      <td>1925.0</td>\n",
       "      <td>1930</td>\n",
       "    </tr>\n",
       "    <tr>\n",
       "      <th>1407</th>\n",
       "      <td>1978.0</td>\n",
       "      <td>1985</td>\n",
       "    </tr>\n",
       "    <tr>\n",
       "      <th>1414</th>\n",
       "      <td>1922.0</td>\n",
       "      <td>1923</td>\n",
       "    </tr>\n",
       "    <tr>\n",
       "      <th>1418</th>\n",
       "      <td>1962.0</td>\n",
       "      <td>1963</td>\n",
       "    </tr>\n",
       "    <tr>\n",
       "      <th>1453</th>\n",
       "      <td>1978.0</td>\n",
       "      <td>2006</td>\n",
       "    </tr>\n",
       "  </tbody>\n",
       "</table>\n",
       "</div>"
      ],
      "text/plain": [
       "      GarageYrBlt  YearBuilt\n",
       "29         1920.0       1927\n",
       "89         1978.0       1994\n",
       "93         1900.0       1910\n",
       "148        1978.0       2004\n",
       "324        1961.0       1967\n",
       "582        1978.0       1990\n",
       "600        2003.0       2005\n",
       "613        1978.0       2007\n",
       "736        1949.0       1950\n",
       "738        1978.0       1987\n",
       "1103       1954.0       1959\n",
       "1131       1978.0       1991\n",
       "1376       1925.0       1930\n",
       "1407       1978.0       1985\n",
       "1414       1922.0       1923\n",
       "1418       1962.0       1963\n",
       "1453       1978.0       2006"
      ]
     },
     "execution_count": 17,
     "metadata": {},
     "output_type": "execute_result"
    }
   ],
   "source": [
    "train[train.GarageYrBlt<train.YearBuilt].loc[:,['GarageYrBlt','YearBuilt']]"
   ]
  },
  {
   "cell_type": "code",
   "execution_count": 18,
   "metadata": {},
   "outputs": [],
   "source": [
    "train.YearRemodAdd=train.apply(lambda x: x.YearBuilt if ((x.YearRemodAdd==1950)&(x.YearBuilt<1950)) else x.YearRemodAdd, axis=1)\n",
    "train.GarageYrBlt=train.apply(lambda x: x.YearBuilt if ((x.YearBuilt>x.GarageYrBlt)) else x.GarageYrBlt, axis=1)"
   ]
  },
  {
   "cell_type": "code",
   "execution_count": 30,
   "metadata": {},
   "outputs": [
    {
     "data": {
      "text/plain": [
       "(array([0.12182741, 0.10659898, 0.11675127, 0.05583756, 0.05076142,\n",
       "        0.04060914, 0.16751269, 0.16243655, 0.08121827, 0.0964467 ]),\n",
       " array([1970., 1971., 1972., 1973., 1974., 1975., 1976., 1977., 1978.,\n",
       "        1979., 1980.]),\n",
       " <a list of 10 Patch objects>)"
      ]
     },
     "execution_count": 30,
     "metadata": {},
     "output_type": "execute_result"
    },
    {
     "data": {
      "image/png": "[encoded data removed]",
      "text/plain": [
       "<Figure size 432x288 with 1 Axes>"
      ]
     },
     "metadata": {
      "needs_background": "light"
     },
     "output_type": "display_data"
    }
   ],
   "source": [
    "plt.hist(train.GarageYrBlt, range=[1970,1980],bins=10,density=True)\n",
    "plt.hist(train.YearBuilt, range=[1970,1980],bins=10,density=True, color='r',alpha=0.7)"
   ]
  },
  {
   "cell_type": "code",
   "execution_count": 31,
   "metadata": {},
   "outputs": [
    {
     "data": {
      "text/plain": [
       "1978.0    92\n",
       "2005.0    66\n",
       "2006.0    60\n",
       "2004.0    54\n",
       "2007.0    49\n",
       "2003.0    49\n",
       "1977.0    35\n",
       "1998.0    31\n",
       "1999.0    30\n",
       "1976.0    29\n",
       "2008.0    28\n",
       "2000.0    27\n",
       "2002.0    26\n",
       "1968.0    26\n",
       "1950.0    25\n",
       "1993.0    22\n",
       "1966.0    21\n",
       "2009.0    21\n",
       "2001.0    20\n",
       "1970.0    20\n",
       "1957.0    20\n",
       "1958.0    20\n",
       "1962.0    20\n",
       "1965.0    19\n",
       "1960.0    19\n",
       "1996.0    19\n",
       "1997.0    19\n",
       "1994.0    18\n",
       "1954.0    18\n",
       "1959.0    18\n",
       "          ..\n",
       "1926.0     6\n",
       "1936.0     5\n",
       "1916.0     5\n",
       "1931.0     4\n",
       "1935.0     4\n",
       "1945.0     4\n",
       "1922.0     4\n",
       "1910.0     4\n",
       "1982.0     4\n",
       "1923.0     4\n",
       "1928.0     4\n",
       "1946.0     4\n",
       "1952.0     3\n",
       "1938.0     3\n",
       "1924.0     3\n",
       "1932.0     3\n",
       "2010.0     3\n",
       "1921.0     3\n",
       "1947.0     2\n",
       "1927.0     2\n",
       "1918.0     2\n",
       "1929.0     2\n",
       "1914.0     2\n",
       "1915.0     2\n",
       "1934.0     2\n",
       "1937.0     2\n",
       "1942.0     2\n",
       "1906.0     1\n",
       "1908.0     1\n",
       "1933.0     1\n",
       "Name: GarageYrBlt, Length: 96, dtype: int64"
      ]
     },
     "execution_count": 31,
     "metadata": {},
     "output_type": "execute_result"
    }
   ],
   "source": [
    "train.GarageYrBlt.value_counts()"
   ]
  },
  {
   "cell_type": "code",
   "execution_count": 33,
   "metadata": {},
   "outputs": [],
   "source": [
    "train['Garage_buit_in_1978_maybe_a_mistake']=train.apply(lambda x: 1 if x.GarageYrBlt==1978 else 0,axis=1)"
   ]
  },
  {
   "cell_type": "code",
   "execution_count": 34,
   "metadata": {},
   "outputs": [
    {
     "data": {
      "text/plain": [
       "(1452, 186)"
      ]
     },
     "execution_count": 34,
     "metadata": {},
     "output_type": "execute_result"
    }
   ],
   "source": [
    "train.shape"
   ]
  },
  {
   "cell_type": "code",
   "execution_count": 35,
   "metadata": {},
   "outputs": [],
   "source": [
    "train.to_csv('../data/train_preperd01.csv')"
   ]
  },
  {
   "cell_type": "markdown",
   "metadata": {},
   "source": [
    "## test set"
   ]
  },
  {
   "cell_type": "code",
   "execution_count": 38,
   "metadata": {},
   "outputs": [],
   "source": [
    "test= pd.read_csv('../data/test.csv')\n",
    "\n",
    "fix_year=test.loc[test.GarageYrBlt>2010].GarageYrBlt.index.values.tolist()\n",
    "test.loc[fix_year,'GarageYrBlt']=np.nan\n",
    "\n",
    "fix4=test[test.Exterior2nd=='Brk Cmn'].index.tolist()\n",
    "test.loc[fix4,'Exterior2nd']='BrkComm'\n",
    "\n",
    "fix5=test[test.Exterior2nd=='Wd Shng'].index.tolist()\n",
    "test.loc[fix5,'Exterior2nd']='WdShing'\n",
    "\n",
    "fix6=test[test.Exterior2nd=='CmentBd'].index.tolist()\n",
    "test.loc[fix6,'Exterior2nd']='CemntBd'\n",
    "\n",
    "test.loc[test[test.YearRemodAdd>test.YrSold].index, 'YearRemodAdd']=2007 \n",
    "\n",
    "\n",
    "test.OverallCond=test.OverallCond.map(map_overall_to_cat)\n",
    "test.OverallQual=test.OverallQual.map(map_overall_to_cat)\n",
    "test['Diff_in_Ext']=test.apply(lambda x: 1 if x.Exterior2nd!=x.Exterior1st else 0, axis=1)\n",
    "\n",
    "for c in cat_c:\n",
    "    test=pd.concat([test,pd.get_dummies(test[c], prefix=c)], axis=1)\n",
    "\n",
    "turn_MS_data_into_cat(test)\n",
    "\n",
    "test=pd.concat([test,pd.get_dummies(test.BedroomAbvGr, prefix=\"br\")], axis=1)\n",
    "\n",
    "test['SaleDate']=test.apply(lambda x: str(int(x.YrSold))+'-'+str(int(x.MoSold))+'-'+str(1), axis=1)\n",
    "test['SaleDate']=pd.to_datetime(test['SaleDate'])\n",
    "test['n_transaction']=n_transaction.loc[test.SaleDate].values\n",
    "\n",
    "test['120_RM']=0\n",
    "test['Avg_room_size']=test.GrLivArea/test.TotRmsAbvGrd\n",
    "\n",
    "\n",
    "turn_garage_data_into_dummy(test)\n",
    "test['UnEmployment']=ue.loc[test.SaleDate].values\n",
    "test['Price_index_Ames']=Ames_sale_prices_M.loc[test.SaleDate].values\n",
    "\n",
    "test.loc[test[test.GarageArea.isnull()==True].index.tolist(),'GarageArea']=0\n",
    "test.loc[test[test.TotalBsmtSF.isnull()==True].index.tolist(),'TotalBsmtSF']=0\n",
    "test.loc[test[test.BsmtFinSF1.isnull()==True].index.tolist(),'BsmtFinSF1']=0\n"
   ]
  },
  {
   "cell_type": "code",
   "execution_count": 39,
   "metadata": {},
   "outputs": [
    {
     "data": {
      "text/plain": [
       "<matplotlib.collections.PathCollection at 0x13a75a5e390>"
      ]
     },
     "execution_count": 39,
     "metadata": {},
     "output_type": "execute_result"
    },
    {
     "data": {
      "image/png": "[encoded data removed]",
      "text/plain": [
       "<Figure size 432x288 with 1 Axes>"
      ]
     },
     "metadata": {
      "needs_background": "light"
     },
     "output_type": "display_data"
    }
   ],
   "source": [
    "plt.scatter(train.YearBuilt, train.YearRemodAdd, s=3)"
   ]
  },
  {
   "cell_type": "code",
   "execution_count": 40,
   "metadata": {},
   "outputs": [
    {
     "data": {
      "text/plain": [
       "<matplotlib.collections.PathCollection at 0x13a75ab4940>"
      ]
     },
     "execution_count": 40,
     "metadata": {},
     "output_type": "execute_result"
    },
    {
     "data": {
      "image/png": "[encoded data removed]",
      "text/plain": [
       "<Figure size 432x288 with 1 Axes>"
      ]
     },
     "metadata": {
      "needs_background": "light"
     },
     "output_type": "display_data"
    }
   ],
   "source": [
    "plt.scatter(train.YearBuilt, train.GarageYrBlt, s=3)"
   ]
  },
  {
   "cell_type": "code",
   "execution_count": 41,
   "metadata": {},
   "outputs": [
    {
     "data": {
      "text/plain": [
       "(1459, 354)"
      ]
     },
     "execution_count": 41,
     "metadata": {},
     "output_type": "execute_result"
    }
   ],
   "source": [
    "test.shape"
   ]
  },
  {
   "cell_type": "code",
   "execution_count": 42,
   "metadata": {},
   "outputs": [],
   "source": [
    "test.to_csv('../data/test_preperd01.csv')"
   ]
  },
  {
   "cell_type": "code",
   "execution_count": null,
   "metadata": {},
   "outputs": [],
   "source": []
  }
 ],
 "metadata": {
  "kernelspec": {
   "display_name": "Python 3",
   "language": "python",
   "name": "python3"
  },
  "language_info": {
   "codemirror_mode": {
    "name": "ipython",
    "version": 3
   },
   "file_extension": ".py",
   "mimetype": "text/x-python",
   "name": "python",
   "nbconvert_exporter": "python",
   "pygments_lexer": "ipython3",
   "version": "3.6.6"
  }
 },
 "nbformat": 4,
 "nbformat_minor": 2
}
