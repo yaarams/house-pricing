{
 "cells": [
  {
   "cell_type": "code",
   "execution_count": 1,
   "metadata": {},
   "outputs": [
    {
     "name": "stdout",
     "output_type": "stream",
     "text": [
      "Populating the interactive namespace from numpy and matplotlib\n"
     ]
    }
   ],
   "source": [
    "import numpy as np\n",
    "import pandas as pd\n",
    "import matplotlib.pyplot as plt\n",
    "import seaborn as sns\n",
    "\n",
    "\n",
    "%pylab inline\n",
    "\n",
    "train = pd.read_csv('../data/train.csv')\n",
    "\n",
    "train.drop(['HouseStyle','BldgType','GarageCars','Utilities'], axis=1, inplace=True)\n",
    "\n",
    "cut_out=train.columns[train.count().values<0.1*len(train)].tolist()\n",
    "train.drop(cut_out,axis=1,inplace=True)"
   ]
  },
  {
   "cell_type": "code",
   "execution_count": 2,
   "metadata": {},
   "outputs": [],
   "source": [
    "fix1=train[train.Exterior2nd=='Brk Cmn'].index.tolist()\n",
    "train.loc[fix1,'Exterior2nd']='BrkComm'\n",
    "\n",
    "fix2=train[train.Exterior2nd=='Wd Shng'].index.tolist()\n",
    "train.loc[fix2,'Exterior2nd']='WdShing'\n",
    "\n",
    "fix3=train[train.Exterior2nd=='CmentBd'].index.tolist()\n",
    "train.loc[fix3,'Exterior2nd']='CemntBd'\n",
    "\n",
    "train['Diff_in_Ext']=train.apply(lambda x: 1 if x.Exterior2nd!=x.Exterior1st else 0, axis=1)\n",
    "train.drop('Exterior2nd',axis=1,inplace=True)"
   ]
  },
  {
   "cell_type": "code",
   "execution_count": 3,
   "metadata": {},
   "outputs": [],
   "source": [
    "map_overall_to_cat={10:'Very Excellent',9:'Excellent',8:'Very Good',7:'Good',6:'Above Average',5:'Average',4:'Below Average',\n",
    "                    3:'Fair',2:'Poor',1:'Very Poor'}\n",
    "\n",
    "train.OverallCond=train.OverallCond.map(map_overall_to_cat)\n",
    "train.OverallQual=train.OverallQual.map(map_overall_to_cat)\n",
    "\n",
    "cat_c=[]\n",
    "for c in train.columns.tolist():\n",
    "    if train[c].dtypes=='int64' or train[c].dtypes=='float64':\n",
    "        continue\n",
    "    else:\n",
    "        cat_c.append(c)\n",
    "cat_c.remove('MSZoning')"
   ]
  },
  {
   "cell_type": "code",
   "execution_count": 4,
   "metadata": {},
   "outputs": [
    {
     "data": {
      "text/plain": [
       "(1460, 135)"
      ]
     },
     "execution_count": 4,
     "metadata": {},
     "output_type": "execute_result"
    }
   ],
   "source": [
    "def make_dummies_conditional_on_len(train,c):\n",
    "    df=train.groupby(c).Id.count()\n",
    "    for i in df.index.tolist():\n",
    "        if df.loc[i]>=50:\n",
    "            name=str(c)+'_'+str(i)\n",
    "            train[name]=np.where(train[c]==i,1,0)\n",
    "    train.drop(c,axis=1, inplace=True)\n",
    "\n",
    "for c in cat_c:\n",
    "    make_dummies_conditional_on_len(train,c)\n",
    "\n",
    "train.drop(['SaleType_New', 'CentralAir_Y','LandSlope_Gtl' ,'BsmtFinType2_Unf',\n",
    "            'Foundation_PConc','RoofStyle_Gable', 'PavedDrive_Y','Electrical_SBrkr'], axis=1,inplace=True)\n",
    "\n",
    "\n",
    "train.shape"
   ]
  },
  {
   "cell_type": "code",
   "execution_count": 6,
   "metadata": {},
   "outputs": [],
   "source": [
    "LotFrontage_to_fix=train[train.LotFrontage.isnull()].index.tolist()\n",
    "train.loc[LotFrontage_to_fix,'LotFrontage']=train.LotFrontage.mean()\n",
    "\n",
    "MasVnrArea_to_fix=train[train.MasVnrArea.isnull()].index.tolist()\n",
    "train.loc[MasVnrArea_to_fix,'MasVnrArea']=0\n",
    "\n",
    "GarageYrBlt_to_fix=train[train.GarageYrBlt.isnull()].index.tolist()\n",
    "train.loc[GarageYrBlt_to_fix,'GarageYrBlt']=train.GarageYrBlt.mean().round(0)\n",
    "\n",
    "def turn_MS_data_into_cat(df):\n",
    "    for i in df.MSSubClass.unique().tolist():\n",
    "        for j in df.MSZoning.unique().tolist():\n",
    "            if df[(df.MSSubClass==i)&(df.MSZoning==j)].Id.count()>=20:\n",
    "                name=str(i)+'_'+str(j)\n",
    "                df[name]=np.where((df.MSSubClass==i)&(df.MSZoning==j),1,0)\n",
    "    df.drop(['MSSubClass','MSZoning'], axis=1, inplace=True)\n",
    "turn_MS_data_into_cat(train)\n",
    "\n",
    "train.drop('YearBuilt', axis=1, inplace=True)\n",
    "\n",
    "train.loc[train[train.YearRemodAdd>train.YrSold].index,'YearRemodAdd']=2007\n",
    "\n",
    "train['Avg_room_size']=train.GrLivArea/train.TotRmsAbvGrd"
   ]
  },
  {
   "cell_type": "code",
   "execution_count": 7,
   "metadata": {},
   "outputs": [],
   "source": [
    "train=pd.concat([train,pd.get_dummies(train.BedroomAbvGr, prefix=\"br\")], axis=1)\n",
    "train.drop('br_8', axis=1, inplace=True)"
   ]
  },
  {
   "cell_type": "code",
   "execution_count": 32,
   "metadata": {},
   "outputs": [
    {
     "data": {
      "text/plain": [
       "(1460, 152)"
      ]
     },
     "execution_count": 32,
     "metadata": {},
     "output_type": "execute_result"
    }
   ],
   "source": [
    "train.drop(['MoSold', 'YrSold','SalePrice', 'Id'], axis=1,inplace=True)\n",
    "train.shape"
   ]
  },
  {
   "cell_type": "markdown",
   "metadata": {},
   "source": [
    "# checking for hige correletion"
   ]
  },
  {
   "cell_type": "markdown",
   "metadata": {},
   "source": [
    "look here for more information:\n",
    "https://stackoverflow.com/questions/25676145/capturing-high-multi-collinearity-in-statsmodels"
   ]
  },
  {
   "cell_type": "code",
   "execution_count": 33,
   "metadata": {},
   "outputs": [],
   "source": [
    "m=train.corr()"
   ]
  },
  {
   "cell_type": "code",
   "execution_count": 46,
   "metadata": {},
   "outputs": [],
   "source": [
    "w, v = np.linalg.eig(m)\n",
    "eigen_values=pd.Series(w,index=range(len(train.columns)))\n",
    "eigen_vectors=pd.DataFrame(v,index=range(len(train.columns)), columns=range(len(train.columns)))"
   ]
  },
  {
   "cell_type": "code",
   "execution_count": 47,
   "metadata": {},
   "outputs": [
    {
     "data": {
      "text/plain": [
       "64     8.653384e-03\n",
       "67     9.273408e-03\n",
       "86     5.023367e-04\n",
       "149    1.992895e-15\n",
       "150   -5.538079e-15\n",
       "151   -8.156801e-15\n",
       "dtype: float64"
      ]
     },
     "execution_count": 47,
     "metadata": {},
     "output_type": "execute_result"
    }
   ],
   "source": [
    "eigen_values[eigen_values<0.01]\n"
   ]
  },
  {
   "cell_type": "markdown",
   "metadata": {},
   "source": [
    "i'll start investigating from \"151\" with the smallest eigen values"
   ]
  },
  {
   "cell_type": "code",
   "execution_count": 56,
   "metadata": {},
   "outputs": [],
   "source": [
    "highly_corr=eigen_vectors[eigen_vectors[151]>0.3].index.tolist()"
   ]
  },
  {
   "cell_type": "code",
   "execution_count": 58,
   "metadata": {},
   "outputs": [
    {
     "data": {
      "text/plain": [
       "Index(['br_1', 'br_2', 'br_3', 'br_4'], dtype='object')"
      ]
     },
     "execution_count": 58,
     "metadata": {},
     "output_type": "execute_result"
    }
   ],
   "source": [
    "train.iloc[:,highly_corr].columns"
   ]
  },
  {
   "cell_type": "code",
   "execution_count": 59,
   "metadata": {},
   "outputs": [
    {
     "data": {
      "text/plain": [
       "Index(['BsmtFinSF1', 'BsmtUnfSF'], dtype='object')"
      ]
     },
     "execution_count": 59,
     "metadata": {},
     "output_type": "execute_result"
    }
   ],
   "source": [
    "highly_corr2=eigen_vectors[eigen_vectors[150]>0.3].index.tolist()\n",
    "\n",
    "train.iloc[:,highly_corr2].columns"
   ]
  },
  {
   "cell_type": "code",
   "execution_count": 60,
   "metadata": {},
   "outputs": [
    {
     "data": {
      "text/plain": [
       "<matplotlib.collections.PathCollection at 0x1b4b4ce4eb8>"
      ]
     },
     "execution_count": 60,
     "metadata": {},
     "output_type": "execute_result"
    },
    {
     "data": {
      "image/png": "[encoded data removed]",
      "text/plain": [
       "<Figure size 432x288 with 1 Axes>"
      ]
     },
     "metadata": {
      "needs_background": "light"
     },
     "output_type": "display_data"
    }
   ],
   "source": [
    "plt.scatter(train.BsmtFinSF1, train.BsmtUnfSF)"
   ]
  },
  {
   "cell_type": "code",
   "execution_count": 61,
   "metadata": {},
   "outputs": [
    {
     "data": {
      "text/plain": [
       "Index(['1stFlrSF', '2ndFlrSF'], dtype='object')"
      ]
     },
     "execution_count": 61,
     "metadata": {},
     "output_type": "execute_result"
    }
   ],
   "source": [
    "highly_corr3=eigen_vectors[eigen_vectors[149]>0.3].index.tolist()\n",
    "train.iloc[:,highly_corr3].columns"
   ]
  },
  {
   "cell_type": "code",
   "execution_count": 64,
   "metadata": {},
   "outputs": [
    {
     "data": {
      "text/plain": [
       "<matplotlib.collections.PathCollection at 0x1b4b4dca128>"
      ]
     },
     "execution_count": 64,
     "metadata": {},
     "output_type": "execute_result"
    },
    {
     "data": {
      "image/png": "[encoded data removed]",
      "text/plain": [
       "<Figure size 432x288 with 1 Axes>"
      ]
     },
     "metadata": {
      "needs_background": "light"
     },
     "output_type": "display_data"
    }
   ],
   "source": [
    "plt.scatter(train['1stFlrSF'], train['2ndFlrSF'] )"
   ]
  },
  {
   "cell_type": "code",
   "execution_count": 65,
   "metadata": {},
   "outputs": [
    {
     "data": {
      "text/plain": [
       "Index(['BsmtFinType1_ALQ', 'BsmtFinType1_GLQ', 'BsmtFinType1_Unf'], dtype='object')"
      ]
     },
     "execution_count": 65,
     "metadata": {},
     "output_type": "execute_result"
    }
   ],
   "source": [
    "highly_corr4=eigen_vectors[eigen_vectors[86]>0.3].index.tolist()\n",
    "train.iloc[:,highly_corr4].columns"
   ]
  },
  {
   "cell_type": "code",
   "execution_count": 67,
   "metadata": {},
   "outputs": [
    {
     "data": {
      "text/plain": [
       "Index(['GarageType_Attchd', 'GarageType_Detchd'], dtype='object')"
      ]
     },
     "execution_count": 67,
     "metadata": {},
     "output_type": "execute_result"
    }
   ],
   "source": [
    "highly_corr5=eigen_vectors[eigen_vectors[67]>0.2].index.tolist()\n",
    "train.iloc[:,highly_corr5].columns"
   ]
  },
  {
   "cell_type": "code",
   "execution_count": 69,
   "metadata": {},
   "outputs": [
    {
     "data": {
      "text/plain": [
       "Index(['GarageType_Attchd', 'br_3', 'br_4', 'br_5', 'br_6'], dtype='object')"
      ]
     },
     "execution_count": 69,
     "metadata": {},
     "output_type": "execute_result"
    }
   ],
   "source": [
    "highly_corr6=eigen_vectors[eigen_vectors[64]>0.1].index.tolist()\n",
    "train.iloc[:,highly_corr6].columns"
   ]
  },
  {
   "cell_type": "markdown",
   "metadata": {},
   "source": [
    "# Missions\n",
    "\n",
    "1. making a variable- is there a basement. if there is do dimension reduction to 'BsmtFinSF1' and 'BsmtUnfSF'.\n",
    "2. making a variable- is there a 2ndfloor. if there is do dimension reduction to '1stFlrSF' and '2ndFlrSF'.\n",
    "3. check corr between 1stflrsf and lot size. or abvground area and lot size"
   ]
  },
  {
   "cell_type": "markdown",
   "metadata": {},
   "source": [
    "# 1"
   ]
  },
  {
   "cell_type": "code",
   "execution_count": 70,
   "metadata": {},
   "outputs": [
    {
     "data": {
      "text/plain": [
       "['LotFrontage',\n",
       " 'LotArea',\n",
       " 'YearRemodAdd',\n",
       " 'MasVnrArea',\n",
       " 'BsmtFinSF1',\n",
       " 'BsmtFinSF2',\n",
       " 'BsmtUnfSF',\n",
       " 'TotalBsmtSF',\n",
       " '1stFlrSF',\n",
       " '2ndFlrSF',\n",
       " 'LowQualFinSF',\n",
       " 'GrLivArea',\n",
       " 'BsmtFullBath',\n",
       " 'BsmtHalfBath',\n",
       " 'FullBath',\n",
       " 'HalfBath',\n",
       " 'BedroomAbvGr',\n",
       " 'KitchenAbvGr',\n",
       " 'TotRmsAbvGrd',\n",
       " 'Fireplaces',\n",
       " 'GarageYrBlt',\n",
       " 'GarageArea',\n",
       " 'WoodDeckSF',\n",
       " 'OpenPorchSF',\n",
       " 'EnclosedPorch',\n",
       " '3SsnPorch',\n",
       " 'ScreenPorch',\n",
       " 'PoolArea',\n",
       " 'MiscVal',\n",
       " 'Diff_in_Ext',\n",
       " 'Street_Pave',\n",
       " 'LotShape_IR1',\n",
       " 'LotShape_Reg',\n",
       " 'LandContour_Bnk',\n",
       " 'LandContour_HLS',\n",
       " 'LandContour_Lvl',\n",
       " 'LotConfig_Corner',\n",
       " 'LotConfig_CulDSac',\n",
       " 'LotConfig_Inside',\n",
       " 'LandSlope_Mod',\n",
       " 'Neighborhood_BrkSide',\n",
       " 'Neighborhood_CollgCr',\n",
       " 'Neighborhood_Crawfor',\n",
       " 'Neighborhood_Edwards',\n",
       " 'Neighborhood_Gilbert',\n",
       " 'Neighborhood_NAmes',\n",
       " 'Neighborhood_NWAmes',\n",
       " 'Neighborhood_NridgHt',\n",
       " 'Neighborhood_OldTown',\n",
       " 'Neighborhood_Sawyer',\n",
       " 'Neighborhood_SawyerW',\n",
       " 'Neighborhood_Somerst',\n",
       " 'Condition1_Feedr',\n",
       " 'Condition1_Norm',\n",
       " 'Condition2_Norm',\n",
       " 'OverallQual_Above Average',\n",
       " 'OverallQual_Average',\n",
       " 'OverallQual_Below Average',\n",
       " 'OverallQual_Good',\n",
       " 'OverallQual_Very Good',\n",
       " 'OverallCond_Above Average',\n",
       " 'OverallCond_Average',\n",
       " 'OverallCond_Below Average',\n",
       " 'OverallCond_Good',\n",
       " 'OverallCond_Very Good',\n",
       " 'RoofStyle_Hip',\n",
       " 'RoofMatl_CompShg',\n",
       " 'Exterior1st_BrkFace',\n",
       " 'Exterior1st_CemntBd',\n",
       " 'Exterior1st_HdBoard',\n",
       " 'Exterior1st_MetalSd',\n",
       " 'Exterior1st_Plywood',\n",
       " 'Exterior1st_VinylSd',\n",
       " 'Exterior1st_Wd Sdng',\n",
       " 'MasVnrType_BrkFace',\n",
       " 'MasVnrType_None',\n",
       " 'MasVnrType_Stone',\n",
       " 'ExterQual_Ex',\n",
       " 'ExterQual_Gd',\n",
       " 'ExterQual_TA',\n",
       " 'ExterCond_Gd',\n",
       " 'ExterCond_TA',\n",
       " 'Foundation_BrkTil',\n",
       " 'Foundation_CBlock',\n",
       " 'BsmtQual_Ex',\n",
       " 'BsmtQual_Gd',\n",
       " 'BsmtQual_TA',\n",
       " 'BsmtCond_Gd',\n",
       " 'BsmtCond_TA',\n",
       " 'BsmtExposure_Av',\n",
       " 'BsmtExposure_Gd',\n",
       " 'BsmtExposure_Mn',\n",
       " 'BsmtExposure_No',\n",
       " 'BsmtFinType1_ALQ',\n",
       " 'BsmtFinType1_BLQ',\n",
       " 'BsmtFinType1_GLQ',\n",
       " 'BsmtFinType1_LwQ',\n",
       " 'BsmtFinType1_Rec',\n",
       " 'BsmtFinType1_Unf',\n",
       " 'BsmtFinType2_Rec',\n",
       " 'Heating_GasA',\n",
       " 'HeatingQC_Ex',\n",
       " 'HeatingQC_Gd',\n",
       " 'HeatingQC_TA',\n",
       " 'CentralAir_N',\n",
       " 'Electrical_FuseA',\n",
       " 'KitchenQual_Ex',\n",
       " 'KitchenQual_Gd',\n",
       " 'KitchenQual_TA',\n",
       " 'Functional_Typ',\n",
       " 'FireplaceQu_Gd',\n",
       " 'FireplaceQu_TA',\n",
       " 'GarageType_Attchd',\n",
       " 'GarageType_BuiltIn',\n",
       " 'GarageType_Detchd',\n",
       " 'GarageFinish_Fin',\n",
       " 'GarageFinish_RFn',\n",
       " 'GarageFinish_Unf',\n",
       " 'GarageQual_TA',\n",
       " 'GarageCond_TA',\n",
       " 'PavedDrive_N',\n",
       " 'Fence_GdPrv',\n",
       " 'Fence_GdWo',\n",
       " 'Fence_MnPrv',\n",
       " 'SaleType_WD',\n",
       " 'SaleCondition_Abnorml',\n",
       " 'SaleCondition_Normal',\n",
       " 'SaleCondition_Partial',\n",
       " '60_RL',\n",
       " '60_FV',\n",
       " '20_RL',\n",
       " '70_RL',\n",
       " '70_RM',\n",
       " '50_RL',\n",
       " '50_RM',\n",
       " '90_RL',\n",
       " '120_RL',\n",
       " '120_RM',\n",
       " '30_RL',\n",
       " '30_RM',\n",
       " '85_RL',\n",
       " '80_RL',\n",
       " '160_RM',\n",
       " '160_FV',\n",
       " 'Avg_room_size',\n",
       " 'br_0',\n",
       " 'br_1',\n",
       " 'br_2',\n",
       " 'br_3',\n",
       " 'br_4',\n",
       " 'br_5',\n",
       " 'br_6']"
      ]
     },
     "execution_count": 70,
     "metadata": {},
     "output_type": "execute_result"
    }
   ],
   "source": [
    "train.columns.tolist()"
   ]
  },
  {
   "cell_type": "code",
   "execution_count": 81,
   "metadata": {},
   "outputs": [
    {
     "data": {
      "text/plain": [
       "array([[ 1.        , -0.49525147],\n",
       "       [-0.49525147,  1.        ]])"
      ]
     },
     "execution_count": 81,
     "metadata": {},
     "output_type": "execute_result"
    }
   ],
   "source": [
    "np.corrcoef(train.BsmtFinSF1, train.BsmtUnfSF)"
   ]
  },
  {
   "cell_type": "code",
   "execution_count": 79,
   "metadata": {},
   "outputs": [
    {
     "data": {
      "text/plain": [
       "<matplotlib.collections.PathCollection at 0x1b4b63d1fd0>"
      ]
     },
     "execution_count": 79,
     "metadata": {},
     "output_type": "execute_result"
    },
    {
     "data": {
      "image/png": "[encoded data removed]",
      "text/plain": [
       "<Figure size 432x288 with 1 Axes>"
      ]
     },
     "metadata": {
      "needs_background": "light"
     },
     "output_type": "display_data"
    }
   ],
   "source": [
    "plt.scatter(train.LotArea,train['1stFlrSF'])"
   ]
  },
  {
   "cell_type": "code",
   "execution_count": 82,
   "metadata": {},
   "outputs": [
    {
     "data": {
      "text/plain": [
       "array([[1.        , 0.29947458],\n",
       "       [0.29947458, 1.        ]])"
      ]
     },
     "execution_count": 82,
     "metadata": {},
     "output_type": "execute_result"
    }
   ],
   "source": [
    "np.corrcoef(train.LotArea,train['1stFlrSF'])"
   ]
  },
  {
   "cell_type": "code",
   "execution_count": 80,
   "metadata": {},
   "outputs": [
    {
     "data": {
      "text/plain": [
       "<matplotlib.collections.PathCollection at 0x1b4b640ee48>"
      ]
     },
     "execution_count": 80,
     "metadata": {},
     "output_type": "execute_result"
    },
    {
     "data": {
      "image/png": "[encoded data removed]",
      "text/plain": [
       "<Figure size 432x288 with 1 Axes>"
      ]
     },
     "metadata": {
      "needs_background": "light"
     },
     "output_type": "display_data"
    }
   ],
   "source": [
    "plt.scatter(train.LotArea,train['GrLivArea'])"
   ]
  },
  {
   "cell_type": "code",
   "execution_count": 83,
   "metadata": {},
   "outputs": [
    {
     "data": {
      "text/plain": [
       "array([[1.        , 0.26311617],\n",
       "       [0.26311617, 1.        ]])"
      ]
     },
     "execution_count": 83,
     "metadata": {},
     "output_type": "execute_result"
    }
   ],
   "source": [
    "np.corrcoef(train.LotArea,train['GrLivArea'])"
   ]
  },
  {
   "cell_type": "code",
   "execution_count": 87,
   "metadata": {},
   "outputs": [
    {
     "data": {
      "text/plain": [
       "array([[1.        , 0.81952998],\n",
       "       [0.81952998, 1.        ]])"
      ]
     },
     "execution_count": 87,
     "metadata": {},
     "output_type": "execute_result"
    }
   ],
   "source": [
    "np.corrcoef(train['TotalBsmtSF'],train['1stFlrSF'])"
   ]
  },
  {
   "cell_type": "code",
   "execution_count": null,
   "metadata": {},
   "outputs": [],
   "source": []
  }
 ],
 "metadata": {
  "kernelspec": {
   "display_name": "Python 3",
   "language": "python",
   "name": "python3"
  },
  "language_info": {
   "codemirror_mode": {
    "name": "ipython",
    "version": 3
   },
   "file_extension": ".py",
   "mimetype": "text/x-python",
   "name": "python",
   "nbconvert_exporter": "python",
   "pygments_lexer": "ipython3",
   "version": "3.6.6"
  }
 },
 "nbformat": 4,
 "nbformat_minor": 2
}
