{
 "cells": [
  {
   "cell_type": "markdown",
   "metadata": {},
   "source": [
    "## i'm investigating 2 changes here. first is a dummy var for having or not having sparse vars (alley and miscfeature). second i'll try to change overallcond and overallqual to 3 ranked ladder"
   ]
  },
  {
   "cell_type": "code",
   "execution_count": 2,
   "metadata": {},
   "outputs": [
    {
     "name": "stdout",
     "output_type": "stream",
     "text": [
      "Populating the interactive namespace from numpy and matplotlib\n"
     ]
    },
    {
     "data": {
      "text/plain": [
       "['Alley', 'PoolQC', 'MiscFeature']"
      ]
     },
     "execution_count": 2,
     "metadata": {},
     "output_type": "execute_result"
    }
   ],
   "source": [
    "import numpy as np\n",
    "import pandas as pd\n",
    "import matplotlib.pyplot as plt\n",
    "import seaborn as sns\n",
    "import statsmodels.api as sm\n",
    "from sklearn.model_selection import train_test_split\n",
    "from sklearn.metrics import mean_squared_error\n",
    "\n",
    "%pylab inline\n",
    "\n",
    "train = pd.read_csv('../data/train.csv')\n",
    "\n",
    "train=train[train.GrLivArea<4000]\n",
    "train=train[train.LotArea<100000]\n",
    "train.drop(['HouseStyle','BldgType','GarageCars','Utilities'], axis=1, inplace=True)\n",
    "\n",
    "cut_out=train.columns[train.count().values<0.1*len(train)].tolist()\n",
    "cut_out"
   ]
  },
  {
   "cell_type": "code",
   "execution_count": 2,
   "metadata": {},
   "outputs": [
    {
     "name": "stderr",
     "output_type": "stream",
     "text": [
      "C:\\Users\\liort\\Anaconda3\\envs\\py4dp\\lib\\site-packages\\matplotlib\\figure.py:448: UserWarning: Matplotlib is currently using module://ipykernel.pylab.backend_inline, which is a non-GUI backend, so cannot show the figure.\n",
      "  % get_backend())\n"
     ]
    },
    {
     "data": {
      "image/png": "[encoded data removed]",
      "text/plain": [
       "<Figure size 864x576 with 1 Axes>"
      ]
     },
     "metadata": {
      "needs_background": "light"
     },
     "output_type": "display_data"
    }
   ],
   "source": [
    "fig = plt.figure(figsize=(12,8))\n",
    "ax = fig.add_subplot(1,2,1)\n",
    "ax.hist(train[train.Alley.isnull()].SalePrice,bins=30, color='r', density=True,label='not an alley')\n",
    "ax.hist(train[train.Alley.notnull()].SalePrice,bins=30, color='b',density=True,alpha=0.7,label='Alley')\n",
    "ax.axvline(train.SalePrice.mean(), color='k',label='Mean sale price', linewidth=3)\n",
    "ax.set_title('distribution of having Alley var and not having one')\n",
    "ax.set_xlabel('sale price')\n",
    "ax.set_ylabel('density')\n",
    "ax.legend(loc=0)\n",
    "fig.show()"
   ]
  },
  {
   "cell_type": "markdown",
   "metadata": {},
   "source": [
    "we can see that houses that have \"Alley\" var are usually cheaper. thats good!"
   ]
  },
  {
   "cell_type": "code",
   "execution_count": 3,
   "metadata": {},
   "outputs": [
    {
     "data": {
      "text/plain": [
       "5"
      ]
     },
     "execution_count": 3,
     "metadata": {},
     "output_type": "execute_result"
    }
   ],
   "source": [
    "train[train.PoolQC.notnull()].Id.count()"
   ]
  },
  {
   "cell_type": "markdown",
   "metadata": {},
   "source": [
    "there are only 5 houses with poolQC not beeing null. lets see how many houses with pool there are"
   ]
  },
  {
   "cell_type": "code",
   "execution_count": 4,
   "metadata": {},
   "outputs": [
    {
     "data": {
      "text/html": [
       "<div>\n",
       "<style scoped>\n",
       "    .dataframe tbody tr th:only-of-type {\n",
       "        vertical-align: middle;\n",
       "    }\n",
       "\n",
       "    .dataframe tbody tr th {\n",
       "        vertical-align: top;\n",
       "    }\n",
       "\n",
       "    .dataframe thead th {\n",
       "        text-align: right;\n",
       "    }\n",
       "</style>\n",
       "<table border=\"1\" class=\"dataframe\">\n",
       "  <thead>\n",
       "    <tr style=\"text-align: right;\">\n",
       "      <th></th>\n",
       "      <th>PoolArea</th>\n",
       "      <th>PoolQC</th>\n",
       "    </tr>\n",
       "  </thead>\n",
       "  <tbody>\n",
       "    <tr>\n",
       "      <th>197</th>\n",
       "      <td>512</td>\n",
       "      <td>Ex</td>\n",
       "    </tr>\n",
       "    <tr>\n",
       "      <th>810</th>\n",
       "      <td>648</td>\n",
       "      <td>Fa</td>\n",
       "    </tr>\n",
       "    <tr>\n",
       "      <th>1170</th>\n",
       "      <td>576</td>\n",
       "      <td>Gd</td>\n",
       "    </tr>\n",
       "    <tr>\n",
       "      <th>1386</th>\n",
       "      <td>519</td>\n",
       "      <td>Fa</td>\n",
       "    </tr>\n",
       "    <tr>\n",
       "      <th>1423</th>\n",
       "      <td>738</td>\n",
       "      <td>Gd</td>\n",
       "    </tr>\n",
       "  </tbody>\n",
       "</table>\n",
       "</div>"
      ],
      "text/plain": [
       "      PoolArea PoolQC\n",
       "197        512     Ex\n",
       "810        648     Fa\n",
       "1170       576     Gd\n",
       "1386       519     Fa\n",
       "1423       738     Gd"
      ]
     },
     "execution_count": 4,
     "metadata": {},
     "output_type": "execute_result"
    }
   ],
   "source": [
    "train[train.PoolArea>0].loc[:,['PoolArea','PoolQC']]"
   ]
  },
  {
   "cell_type": "markdown",
   "metadata": {},
   "source": [
    "we see there are only 5 pool's in our train data. we will leave it for now."
   ]
  },
  {
   "cell_type": "code",
   "execution_count": 5,
   "metadata": {},
   "outputs": [
    {
     "data": {
      "text/plain": [
       "52"
      ]
     },
     "execution_count": 5,
     "metadata": {},
     "output_type": "execute_result"
    }
   ],
   "source": [
    "train[train.MiscFeature.notnull()].Id.count()"
   ]
  },
  {
   "cell_type": "code",
   "execution_count": 6,
   "metadata": {},
   "outputs": [
    {
     "name": "stderr",
     "output_type": "stream",
     "text": [
      "C:\\Users\\liort\\Anaconda3\\envs\\py4dp\\lib\\site-packages\\matplotlib\\figure.py:448: UserWarning: Matplotlib is currently using module://ipykernel.pylab.backend_inline, which is a non-GUI backend, so cannot show the figure.\n",
      "  % get_backend())\n"
     ]
    },
    {
     "data": {
      "image/png": "[encoded data removed]",
      "text/plain": [
       "<Figure size 864x576 with 1 Axes>"
      ]
     },
     "metadata": {
      "needs_background": "light"
     },
     "output_type": "display_data"
    }
   ],
   "source": [
    "fig = plt.figure(figsize=(12,8))\n",
    "ax = fig.add_subplot(1,2,1)\n",
    "ax.hist(train[train.MiscFeature.isnull()].SalePrice,bins=30, color='r', density=True,label='no extra features')\n",
    "ax.hist(train[train.MiscFeature.notnull()].SalePrice,bins=30, color='b',density=True,alpha=0.7,label='extra features')\n",
    "ax.axvline(train.SalePrice.mean(), color='k',label='Mean sale price', linewidth=3)\n",
    "ax.set_title('distribution of having misc features var and not having one')\n",
    "ax.set_xlabel('sale price')\n",
    "ax.set_ylabel('density')\n",
    "ax.legend(loc=0)\n",
    "fig.show()"
   ]
  },
  {
   "cell_type": "markdown",
   "metadata": {},
   "source": [
    "once again it seems there is a correlation between this var and having lower price"
   ]
  },
  {
   "cell_type": "code",
   "execution_count": 7,
   "metadata": {},
   "outputs": [
    {
     "data": {
      "text/plain": [
       "(1452, 106)"
      ]
     },
     "execution_count": 7,
     "metadata": {},
     "output_type": "execute_result"
    }
   ],
   "source": [
    "fix1=train[train.Exterior2nd=='Brk Cmn'].index.tolist()\n",
    "train.loc[fix1,'Exterior2nd']='BrkComm'\n",
    "\n",
    "fix2=train[train.Exterior2nd=='Wd Shng'].index.tolist()\n",
    "train.loc[fix2,'Exterior2nd']='WdShing'\n",
    "\n",
    "fix3=train[train.Exterior2nd=='CmentBd'].index.tolist()\n",
    "train.loc[fix3,'Exterior2nd']='CemntBd'\n",
    "\n",
    "train['Diff_in_Ext']=train.apply(lambda x: 1 if x.Exterior2nd!=x.Exterior1st else 0, axis=1)\n",
    "\n",
    "map_overall_to_cat={10:'High',9:'High',8:'High',7:'Average',6:'Average',5:'Average',4:'Average',\n",
    "                    3:'Low',2:'Low',1:'Low'}\n",
    "\n",
    "train.OverallCond=train.OverallCond.map(map_overall_to_cat)\n",
    "train.OverallQual=train.OverallQual.map(map_overall_to_cat)\n",
    "\n",
    "cat_c=[]\n",
    "for c in train.columns.tolist():\n",
    "    if train[c].dtypes=='int64' or train[c].dtypes=='float64':\n",
    "        continue\n",
    "    else:\n",
    "        cat_c.append(c)\n",
    "cat_c.remove('MSZoning')\n",
    "#cat_c.remove('Alley')\n",
    "#cat_c.remove('MiscFeature')\n",
    "\n",
    "def make_dummies_conditional_on_len(train,c):\n",
    "    df=train.groupby(c).Id.count()\n",
    "    for i in df.index.tolist():\n",
    "        if df.loc[i]>=50:\n",
    "            name=str(c)+'_'+str(i)\n",
    "            train[name]=np.where(train[c]==i,1,0)\n",
    "    train.drop(c,axis=1, inplace=True)\n",
    "\n",
    "for c in cat_c:\n",
    "    make_dummies_conditional_on_len(train,c)\n",
    "\n",
    "train.drop(['SaleType_New', 'CentralAir_Y','LandSlope_Gtl' ,'BsmtFinType2_Unf',\n",
    "            'Foundation_PConc','RoofStyle_Gable', 'PavedDrive_Y','Electrical_SBrkr'], axis=1,inplace=True)\n",
    "\n",
    "\n",
    "train.shape"
   ]
  },
  {
   "cell_type": "code",
   "execution_count": 8,
   "metadata": {},
   "outputs": [
    {
     "data": {
      "text/plain": [
       "\"train['Some_Alley']=0\\ntrain.loc[:,'Some_Alley'][train.Alley.notnull()]=1\\n\\ntrain['Some_Extra_Features']=0\\ntrain.loc[:,'Some_Extra_Features'][train.MiscFeature.notnull()]=1\\n\\ntrain.drop(['Alley','MiscFeature'],axis=1,inplace=True)\\n\\nprint(train.Some_Alley.sum(),train.Some_Extra_Features.sum())\\n\""
      ]
     },
     "execution_count": 8,
     "metadata": {},
     "output_type": "execute_result"
    }
   ],
   "source": [
    "'''train['Some_Alley']=0\n",
    "train.loc[:,'Some_Alley'][train.Alley.notnull()]=1\n",
    "\n",
    "train['Some_Extra_Features']=0\n",
    "train.loc[:,'Some_Extra_Features'][train.MiscFeature.notnull()]=1\n",
    "\n",
    "train.drop(['Alley','MiscFeature'],axis=1,inplace=True)\n",
    "\n",
    "print(train.Some_Alley.sum(),train.Some_Extra_Features.sum())\n",
    "'''"
   ]
  },
  {
   "cell_type": "code",
   "execution_count": 9,
   "metadata": {},
   "outputs": [
    {
     "data": {
      "text/plain": [
       "(1452, 127)"
      ]
     },
     "execution_count": 9,
     "metadata": {},
     "output_type": "execute_result"
    }
   ],
   "source": [
    "LotFrontage_to_fix=train[train.LotFrontage.isnull()].index.tolist()\n",
    "train.loc[LotFrontage_to_fix,'LotFrontage']=train.LotFrontage.mean()\n",
    "\n",
    "MasVnrArea_to_fix=train[train.MasVnrArea.isnull()].index.tolist()\n",
    "train.loc[MasVnrArea_to_fix,'MasVnrArea']=0\n",
    "\n",
    "GarageYrBlt_to_fix=train[train.GarageYrBlt.isnull()].index.tolist()\n",
    "train.loc[GarageYrBlt_to_fix,'GarageYrBlt']=train.GarageYrBlt.mean().round(0)\n",
    "\n",
    "def turn_MS_data_into_cat(df):\n",
    "    for i in df.MSSubClass.unique().tolist():\n",
    "        for j in df.MSZoning.unique().tolist():\n",
    "            if df[(df.MSSubClass==i)&(df.MSZoning==j)].Id.count()>=20:\n",
    "                name=str(i)+'_'+str(j)\n",
    "                df[name]=np.where((df.MSSubClass==i)&(df.MSZoning==j),1,0)\n",
    "    df.drop(['MSSubClass','MSZoning'], axis=1, inplace=True)\n",
    "turn_MS_data_into_cat(train)\n",
    "\n",
    "train.drop('YearBuilt', axis=1, inplace=True)\n",
    "\n",
    "train.loc[train[train.YearRemodAdd>train.YrSold].index,'YearRemodAdd']=2007\n",
    "\n",
    "train['Avg_room_size']=train.GrLivArea/train.TotRmsAbvGrd\n",
    "\n",
    "train=pd.concat([train,pd.get_dummies(train.BedroomAbvGr, prefix=\"br\")], axis=1)\n",
    "train.drop('br_8', axis=1, inplace=True)\n",
    "\n",
    "train.shape"
   ]
  },
  {
   "cell_type": "code",
   "execution_count": 10,
   "metadata": {},
   "outputs": [],
   "source": [
    "train['SaleDate']=train.apply(lambda x: str(int(x.YrSold))+'-'+str(int(x.MoSold))+'-'+str(1), axis=1)\n",
    "train['SaleDate']=pd.to_datetime(train['SaleDate'])\n",
    "\n",
    "n_transaction=train.groupby('SaleDate').size()\n",
    "train['n_transaction']=n_transaction.loc[train.SaleDate].values\n",
    "train['Log_sale_price']=np.log10(train.SalePrice)\n",
    "train.drop('SalePrice', axis=1, inplace=True)"
   ]
  },
  {
   "cell_type": "code",
   "execution_count": 11,
   "metadata": {},
   "outputs": [],
   "source": [
    "def backwardElimination(X, Y):\n",
    "    for i in np.arange(0.9,0,-0.1):\n",
    "        numVars = len(X.columns.tolist())\n",
    "        d=[]\n",
    "        regressor_OLS = sm.OLS(Y, X).fit()\n",
    "        for j in range(numVars):\n",
    "            if regressor_OLS.pvalues[j] > i:\n",
    "                d.append(X.columns[j])\n",
    "        for t in d:\n",
    "            X=X.drop(t, axis=1)\n",
    "    \n",
    "    regressor_OLS = sm.OLS(Y, X).fit()\n",
    "    while max(regressor_OLS.pvalues > i):\n",
    "        numVars = len(X.columns.tolist())\n",
    "        d=[]\n",
    "        for j in range(numVars):\n",
    "            if regressor_OLS.pvalues[j] > i:\n",
    "                d.append(X.columns[j])\n",
    "        for t in d:\n",
    "            X=X.drop(t, axis=1)\n",
    "        regressor_OLS = sm.OLS(Y, X).fit()\n",
    "    \n",
    "    print(regressor_OLS.summary())\n",
    "    \n",
    "    return regressor_OLS, X.columns.tolist()\n",
    "\n",
    "def predicting(train, list_to_remove):\n",
    "    columns_to_keep=train.columns.tolist()\n",
    "    for i in list_to_remove:\n",
    "        columns_to_keep.remove(i)\n",
    "\n",
    "    X=train[columns_to_keep]\n",
    "    y=train.Log_sale_price\n",
    "    x_train, x_test, y_train, y_test = train_test_split(X, y, test_size=0.3, random_state=0)\n",
    "\n",
    "    regressor_OLS = sm.OLS(y_train,x_train).fit()\n",
    "    print(regressor_OLS.summary())\n",
    "    \n",
    "    y_pred=regressor_OLS.predict(x_test)\n",
    "    mse = mean_squared_error(y_pred,y_test)\n",
    "    rmse = np.sqrt(mse)\n",
    "    print(\"\\n rmse on all var's is: \", rmse)   \n",
    "    \n",
    "    regressor, ctp=backwardElimination(x_train,y_train)\n",
    "    \n",
    "    y_pred2=regressor.predict(x_test[ctp])\n",
    "    mse2 = mean_squared_error(y_pred2,y_test)\n",
    "    rmse2 = np.sqrt(mse2)\n",
    "    print(\"\\n rmse on best var's is: \", rmse2)\n",
    "\n",
    "    return y_pred, y_pred2,y_test,ctp,regressor\n",
    "\n",
    "def plotting_pred(y_pred,y_test,y_pred2):\n",
    "    fig = plt.figure(figsize=(12,8))\n",
    "    ax = fig.add_subplot(1,2,1)\n",
    "    ax.scatter(y_pred,y_test, s=5)\n",
    "    ax.set_title('prediction of log10 prices')\n",
    "    ax.set_xlabel('predicted price')\n",
    "    ax.set_ylabel('real price')\n",
    "\n",
    "    bx = fig.add_subplot(1,2,2)\n",
    "    bx.scatter(y_pred2,y_test, s=5)\n",
    "    bx.set_title('prediction of log10 prices')\n",
    "    bx.set_xlabel('predicted price')\n",
    "    bx.set_ylabel('real price')\n",
    "\n",
    "    fig.show()"
   ]
  },
  {
   "cell_type": "code",
   "execution_count": 12,
   "metadata": {},
   "outputs": [
    {
     "name": "stdout",
     "output_type": "stream",
     "text": [
      "                            OLS Regression Results                            \n",
      "==============================================================================\n",
      "Dep. Variable:         Log_sale_price   R-squared:                       0.913\n",
      "Model:                            OLS   Adj. R-squared:                  0.901\n",
      "Method:                 Least Squares   F-statistic:                     77.10\n",
      "Date:                Sat, 17 Nov 2018   Prob (F-statistic):               0.00\n",
      "Time:                        01:09:42   Log-Likelihood:                 1591.9\n",
      "No. Observations:                1016   AIC:                            -2940.\n",
      "Df Residuals:                     894   BIC:                            -2339.\n",
      "Df Model:                         121                                         \n",
      "Covariance Type:            nonrobust                                         \n",
      "=========================================================================================\n",
      "                            coef    std err          t      P>|t|      [0.025      0.975]\n",
      "-----------------------------------------------------------------------------------------\n",
      "LotFrontage           -7.102e-05      0.000     -0.615      0.538      -0.000       0.000\n",
      "LotArea                1.796e-06   4.78e-07      3.760      0.000    8.59e-07    2.73e-06\n",
      "YearRemodAdd              0.0008      0.000      5.807      0.000       0.001       0.001\n",
      "MasVnrArea             1.475e-05   1.58e-05      0.936      0.350   -1.62e-05    4.57e-05\n",
      "BsmtFinSF1             2.441e-05    6.4e-06      3.816      0.000    1.19e-05     3.7e-05\n",
      "BsmtFinSF2             2.144e-05    9.9e-06      2.166      0.031    2.01e-06    4.09e-05\n",
      "BsmtUnfSF             -7.189e-06   6.33e-06     -1.136      0.256   -1.96e-05    5.23e-06\n",
      "TotalBsmtSF            3.866e-05   9.33e-06      4.144      0.000    2.04e-05     5.7e-05\n",
      "1stFlrSF               2.645e-05   1.54e-05      1.716      0.086    -3.8e-06    5.67e-05\n",
      "2ndFlrSF               2.462e-05    1.5e-05      1.638      0.102   -4.88e-06    5.41e-05\n",
      "LowQualFinSF          -3.777e-05   2.89e-05     -1.309      0.191   -9.44e-05    1.89e-05\n",
      "GrLivArea               1.33e-05    2.4e-05      0.553      0.580   -3.39e-05    6.05e-05\n",
      "BsmtFullBath              0.0073      0.005      1.344      0.179      -0.003       0.018\n",
      "BsmtHalfBath              0.0070      0.008      0.852      0.394      -0.009       0.023\n",
      "FullBath                  0.0217      0.006      3.596      0.000       0.010       0.034\n",
      "HalfBath                  0.0139      0.006      2.494      0.013       0.003       0.025\n",
      "BedroomAbvGr              0.3096      0.049      6.320      0.000       0.213       0.406\n",
      "KitchenAbvGr             -0.0521      0.013     -4.003      0.000      -0.078      -0.027\n",
      "TotRmsAbvGrd              0.0230      0.008      3.013      0.003       0.008       0.038\n",
      "Fireplaces                0.0074      0.005      1.357      0.175      -0.003       0.018\n",
      "GarageYrBlt               0.0002      0.000      1.084      0.279      -0.000       0.000\n",
      "GarageArea             5.902e-05   1.56e-05      3.790      0.000    2.85e-05    8.96e-05\n",
      "WoodDeckSF             4.154e-05   1.66e-05      2.499      0.013    8.91e-06    7.42e-05\n",
      "OpenPorchSF            5.091e-05   2.89e-05      1.760      0.079   -5.88e-06       0.000\n",
      "EnclosedPorch          4.237e-07   3.19e-05      0.013      0.989   -6.21e-05     6.3e-05\n",
      "3SsnPorch              8.343e-05   6.22e-05      1.341      0.180   -3.87e-05       0.000\n",
      "ScreenPorch               0.0001   3.38e-05      3.906      0.000    6.58e-05       0.000\n",
      "PoolArea               9.411e-05   5.42e-05      1.737      0.083   -1.22e-05       0.000\n",
      "MiscVal                1.562e-06   3.16e-06      0.494      0.622   -4.65e-06    7.77e-06\n",
      "Diff_in_Ext               0.0079      0.007      1.092      0.275      -0.006       0.022\n",
      "Street_Pave               0.1897      0.036      5.312      0.000       0.120       0.260\n",
      "LotShape_IR1             -0.0113      0.011     -1.008      0.314      -0.033       0.011\n",
      "LotShape_Reg             -0.0165      0.011     -1.470      0.142      -0.039       0.006\n",
      "LandContour_Lvl       -2.264e-05      0.007     -0.003      0.997      -0.013       0.013\n",
      "LotConfig_Corner          0.0023      0.008      0.303      0.762      -0.013       0.017\n",
      "LotConfig_Inside         -0.0052      0.007     -0.777      0.437      -0.018       0.008\n",
      "Neighborhood_CollgCr     -0.0062      0.007     -0.854      0.394      -0.021       0.008\n",
      "Neighborhood_NAmes       -0.0020      0.006     -0.308      0.758      -0.015       0.011\n",
      "Neighborhood_OldTown     -0.0146      0.009     -1.549      0.122      -0.033       0.004\n",
      "Condition1_Norm           0.0279      0.006      4.924      0.000       0.017       0.039\n",
      "Condition2_Norm          -0.0064      0.021     -0.305      0.761      -0.048       0.035\n",
      "OverallQual_Average       0.0663      0.016      4.275      0.000       0.036       0.097\n",
      "OverallQual_High          0.1002      0.017      5.889      0.000       0.067       0.134\n",
      "OverallCond_Average      -0.0009      0.007     -0.126      0.899      -0.015       0.013\n",
      "RoofStyle_Hip            -0.0032      0.005     -0.625      0.532      -0.013       0.007\n",
      "RoofMatl_CompShg         -0.0017      0.016     -0.108      0.914      -0.033       0.029\n",
      "Exterior1st_HdBoard      -0.0227      0.014     -1.674      0.094      -0.049       0.004\n",
      "Exterior1st_MetalSd      -0.0350      0.021     -1.667      0.096      -0.076       0.006\n",
      "Exterior1st_Plywood      -0.0200      0.014     -1.445      0.149      -0.047       0.007\n",
      "Exterior1st_VinylSd      -0.0211      0.017     -1.226      0.221      -0.055       0.013\n",
      "Exterior1st_Wd Sdng      -0.0409      0.011     -3.669      0.000      -0.063      -0.019\n",
      "Exterior2nd_HdBoard       0.0223      0.013      1.653      0.099      -0.004       0.049\n",
      "Exterior2nd_MetalSd       0.0409      0.021      1.916      0.056      -0.001       0.083\n",
      "Exterior2nd_Plywood       0.0096      0.013      0.756      0.450      -0.015       0.034\n",
      "Exterior2nd_VinylSd       0.0232      0.017      1.344      0.179      -0.011       0.057\n",
      "Exterior2nd_Wd Sdng       0.0281      0.011      2.497      0.013       0.006       0.050\n",
      "MasVnrType_BrkFace        0.0157      0.014      1.097      0.273      -0.012       0.044\n",
      "MasVnrType_None           0.0086      0.014      0.604      0.546      -0.019       0.037\n",
      "MasVnrType_Stone          0.0264      0.015      1.713      0.087      -0.004       0.057\n",
      "ExterQual_Gd             -0.0115      0.012     -0.987      0.324      -0.034       0.011\n",
      "ExterQual_TA             -0.0250      0.012     -2.021      0.044      -0.049      -0.001\n",
      "ExterCond_Gd              0.0376      0.014      2.764      0.006       0.011       0.064\n",
      "ExterCond_TA              0.0418      0.013      3.295      0.001       0.017       0.067\n",
      "Foundation_BrkTil        -0.0069      0.009     -0.790      0.430      -0.024       0.010\n",
      "Foundation_CBlock        -0.0026      0.006     -0.417      0.677      -0.015       0.010\n",
      "BsmtQual_Ex               0.0155      0.016      0.977      0.329      -0.016       0.047\n",
      "BsmtQual_Gd              -0.0001      0.013     -0.010      0.992      -0.026       0.026\n",
      "BsmtQual_TA              -0.0054      0.012     -0.452      0.652      -0.029       0.018\n",
      "BsmtCond_TA               0.0130      0.007      1.905      0.057      -0.000       0.026\n",
      "BsmtExposure_Av          -0.0022      0.022     -0.098      0.922      -0.046       0.041\n",
      "BsmtExposure_Gd           0.0281      0.023      1.217      0.224      -0.017       0.073\n",
      "BsmtExposure_Mn           0.0043      0.022      0.195      0.846      -0.039       0.048\n",
      "BsmtExposure_No          -0.0019      0.021     -0.089      0.929      -0.044       0.040\n",
      "BsmtFinType1_ALQ          0.0202      0.010      2.068      0.039       0.001       0.039\n",
      "BsmtFinType1_BLQ          0.0160      0.010      1.572      0.116      -0.004       0.036\n",
      "BsmtFinType1_GLQ          0.0244      0.010      2.432      0.015       0.005       0.044\n",
      "BsmtFinType1_Rec          0.0209      0.010      2.051      0.041       0.001       0.041\n",
      "BsmtFinType1_Unf          0.0163      0.010      1.641      0.101      -0.003       0.036\n",
      "Heating_GasA              0.0086      0.014      0.594      0.553      -0.020       0.037\n",
      "HeatingQC_Ex              0.0193      0.011      1.743      0.082      -0.002       0.041\n",
      "HeatingQC_Gd              0.0111      0.011      0.988      0.323      -0.011       0.033\n",
      "HeatingQC_TA             -0.0007      0.011     -0.067      0.947      -0.021       0.020\n",
      "KitchenQual_Gd           -0.0179      0.008     -2.200      0.028      -0.034      -0.002\n",
      "KitchenQual_TA           -0.0275      0.008     -3.312      0.001      -0.044      -0.011\n",
      "Functional_Typ            0.0557      0.008      6.937      0.000       0.040       0.071\n",
      "FireplaceQu_Gd            0.0131      0.007      1.812      0.070      -0.001       0.027\n",
      "FireplaceQu_TA            0.0038      0.008      0.502      0.616      -0.011       0.019\n",
      "GarageType_Attchd         0.0146      0.007      1.972      0.049    6.73e-05       0.029\n",
      "GarageType_Detchd         0.0134      0.009      1.505      0.133      -0.004       0.031\n",
      "GarageFinish_Fin          0.0098      0.017      0.563      0.574      -0.024       0.044\n",
      "GarageFinish_RFn          0.0109      0.017      0.623      0.533      -0.023       0.045\n",
      "GarageFinish_Unf          0.0103      0.017      0.605      0.545      -0.023       0.044\n",
      "GarageQual_TA            -0.0119      0.010     -1.176      0.240      -0.032       0.008\n",
      "GarageCond_TA             0.0268      0.011      2.402      0.017       0.005       0.049\n",
      "Fence_MnPrv               0.0029      0.006      0.468      0.640      -0.009       0.015\n",
      "SaleType_WD              -0.0121      0.009     -1.352      0.177      -0.030       0.005\n",
      "SaleCondition_Abnorml    -0.0398      0.014     -2.775      0.006      -0.068      -0.012\n",
      "SaleCondition_Normal      0.0171      0.012      1.392      0.164      -0.007       0.041\n",
      "SaleCondition_Partial     0.0289      0.017      1.711      0.087      -0.004       0.062\n",
      "60_RL                     0.0093      0.012      0.778      0.437      -0.014       0.033\n",
      "60_FV                     0.0338      0.017      1.987      0.047       0.000       0.067\n",
      "20_RL                     0.0245      0.009      2.671      0.008       0.007       0.043\n",
      "70_RL                     0.0695      0.015      4.567      0.000       0.040       0.099\n",
      "70_RM                     0.0093      0.017      0.561      0.575      -0.023       0.042\n",
      "50_RL                     0.0133      0.011      1.224      0.221      -0.008       0.035\n",
      "50_RM                    -0.0022      0.013     -0.165      0.869      -0.028       0.024\n",
      "90_RL                     0.0378      0.018      2.107      0.035       0.003       0.073\n",
      "120_RL                    0.0219      0.012      1.765      0.078      -0.002       0.046\n",
      "120_RM                   -0.0074      0.017     -0.433      0.665      -0.041       0.026\n",
      "30_RL                    -0.0202      0.015     -1.310      0.190      -0.051       0.010\n",
      "30_RM                    -0.0026      0.014     -0.183      0.855      -0.031       0.026\n",
      "85_RL                     0.0380      0.018      2.157      0.031       0.003       0.073\n",
      "80_RL                     0.0362      0.013      2.866      0.004       0.011       0.061\n",
      "160_RM                   -0.0650      0.017     -3.790      0.000      -0.099      -0.031\n",
      "160_FV                   -0.0070      0.019     -0.370      0.712      -0.044       0.030\n",
      "Avg_room_size             0.0006      0.000      2.829      0.005       0.000       0.001\n",
      "br_0                      2.4420      0.388      6.301      0.000       1.681       3.203\n",
      "br_1                      2.0897      0.337      6.200      0.000       1.428       2.751\n",
      "br_2                      1.7979      0.289      6.220      0.000       1.231       2.365\n",
      "br_3                      1.4858      0.241      6.154      0.000       1.012       1.960\n",
      "br_4                      1.1667      0.194      6.006      0.000       0.785       1.548\n",
      "br_5                      0.8232      0.150      5.503      0.000       0.530       1.117\n",
      "br_6                      0.5370      0.110      4.863      0.000       0.320       0.754\n",
      "n_transaction             0.0003      0.000      2.953      0.003       0.000       0.001\n",
      "==============================================================================\n",
      "Omnibus:                      289.621   Durbin-Watson:                   1.981\n",
      "Prob(Omnibus):                  0.000   Jarque-Bera (JB):             1969.662\n",
      "Skew:                          -1.127   Prob(JB):                         0.00\n",
      "Kurtosis:                       9.438   Cond. No.                     8.07e+16\n",
      "==============================================================================\n",
      "\n",
      "Warnings:\n",
      "[1] Standard Errors assume that the covariance matrix of the errors is correctly specified.\n",
      "[2] The smallest eigenvalue is 2.16e-23. This might indicate that there are\n",
      "strong multicollinearity problems or that the design matrix is singular.\n",
      "\n",
      " rmse on all var's is:  0.053014805052146015\n"
     ]
    },
    {
     "name": "stdout",
     "output_type": "stream",
     "text": [
      "                            OLS Regression Results                            \n",
      "==============================================================================\n",
      "Dep. Variable:         Log_sale_price   R-squared:                       0.906\n",
      "Model:                            OLS   Adj. R-squared:                  0.901\n",
      "Method:                 Least Squares   F-statistic:                     168.3\n",
      "Date:                Sat, 17 Nov 2018   Prob (F-statistic):               0.00\n",
      "Time:                        01:09:43   Log-Likelihood:                 1555.3\n",
      "No. Observations:                1016   AIC:                            -2999.\n",
      "Df Residuals:                     960   BIC:                            -2723.\n",
      "Df Model:                          55                                         \n",
      "Covariance Type:            nonrobust                                         \n",
      "=========================================================================================\n",
      "                            coef    std err          t      P>|t|      [0.025      0.975]\n",
      "-----------------------------------------------------------------------------------------\n",
      "LotArea                1.946e-06   4.22e-07      4.616      0.000    1.12e-06    2.77e-06\n",
      "YearRemodAdd              0.0009      0.000      7.342      0.000       0.001       0.001\n",
      "BsmtFinSF1             3.398e-05   5.73e-06      5.928      0.000    2.27e-05    4.52e-05\n",
      "BsmtFinSF2             2.457e-05   1.18e-05      2.080      0.038    1.39e-06    4.78e-05\n",
      "TotalBsmtSF            3.664e-05   8.69e-06      4.215      0.000    1.96e-05    5.37e-05\n",
      "1stFlrSF               4.657e-05   2.41e-05      1.931      0.054   -7.66e-07    9.39e-05\n",
      "2ndFlrSF               4.643e-05   2.34e-05      1.985      0.047    5.36e-07    9.23e-05\n",
      "FullBath                  0.0217      0.005      4.227      0.000       0.012       0.032\n",
      "HalfBath                  0.0162      0.005      3.279      0.001       0.006       0.026\n",
      "BedroomAbvGr              0.3166      0.032      9.928      0.000       0.254       0.379\n",
      "KitchenAbvGr             -0.0447      0.010     -4.630      0.000      -0.064      -0.026\n",
      "TotRmsAbvGrd              0.0217      0.006      3.938      0.000       0.011       0.033\n",
      "Fireplaces                0.0081      0.004      2.176      0.030       0.001       0.015\n",
      "GarageArea             7.901e-05   1.22e-05      6.452      0.000     5.5e-05       0.000\n",
      "WoodDeckSF             4.209e-05   1.57e-05      2.678      0.008    1.12e-05    7.29e-05\n",
      "OpenPorchSF            5.146e-05   2.74e-05      1.881      0.060   -2.23e-06       0.000\n",
      "ScreenPorch               0.0001   3.23e-05      4.153      0.000    7.08e-05       0.000\n",
      "Street_Pave               0.2048      0.033      6.209      0.000       0.140       0.270\n",
      "LotShape_Reg             -0.0065      0.004     -1.694      0.091      -0.014       0.001\n",
      "Neighborhood_OldTown     -0.0226      0.007     -3.033      0.002      -0.037      -0.008\n",
      "Condition1_Norm           0.0231      0.005      4.430      0.000       0.013       0.033\n",
      "OverallQual_Average       0.0714      0.014      5.022      0.000       0.043       0.099\n",
      "OverallQual_High          0.1051      0.016      6.687      0.000       0.074       0.136\n",
      "Exterior1st_Wd Sdng      -0.0212      0.005     -4.049      0.000      -0.032      -0.011\n",
      "MasVnrType_Stone          0.0173      0.007      2.497      0.013       0.004       0.031\n",
      "ExterQual_TA             -0.0175      0.006     -3.017      0.003      -0.029      -0.006\n",
      "ExterCond_Gd              0.0430      0.013      3.315      0.001       0.018       0.068\n",
      "ExterCond_TA              0.0477      0.012      4.014      0.000       0.024       0.071\n",
      "BsmtQual_Ex               0.0259      0.008      3.161      0.002       0.010       0.042\n",
      "BsmtCond_TA               0.0123      0.006      1.986      0.047       0.000       0.024\n",
      "BsmtExposure_Gd           0.0268      0.007      3.806      0.000       0.013       0.041\n",
      "BsmtFinType1_GLQ          0.0115      0.005      2.195      0.028       0.001       0.022\n",
      "HeatingQC_Ex              0.0207      0.005      4.097      0.000       0.011       0.031\n",
      "HeatingQC_Gd              0.0147      0.005      2.724      0.007       0.004       0.025\n",
      "KitchenQual_Gd           -0.0158      0.007     -2.131      0.033      -0.030      -0.001\n",
      "KitchenQual_TA           -0.0261      0.008     -3.392      0.001      -0.041      -0.011\n",
      "Functional_Typ            0.0604      0.007      8.167      0.000       0.046       0.075\n",
      "FireplaceQu_Gd            0.0120      0.005      2.457      0.014       0.002       0.022\n",
      "GarageCond_TA             0.0271      0.007      3.744      0.000       0.013       0.041\n",
      "SaleCondition_Abnorml    -0.0564      0.007     -8.041      0.000      -0.070      -0.043\n",
      "60_FV                     0.0251      0.013      1.907      0.057      -0.001       0.051\n",
      "20_RL                     0.0207      0.006      3.368      0.001       0.009       0.033\n",
      "70_RL                     0.0549      0.012      4.627      0.000       0.032       0.078\n",
      "120_RL                    0.0227      0.010      2.207      0.028       0.003       0.043\n",
      "85_RL                     0.0341      0.016      2.197      0.028       0.004       0.065\n",
      "80_RL                     0.0329      0.010      3.412      0.001       0.014       0.052\n",
      "160_RM                   -0.0642      0.014     -4.602      0.000      -0.092      -0.037\n",
      "Avg_room_size             0.0005      0.000      3.673      0.000       0.000       0.001\n",
      "br_0                      2.5516      0.248     10.284      0.000       2.065       3.039\n",
      "br_1                      2.1995      0.215     10.243      0.000       1.778       2.621\n",
      "br_2                      1.8973      0.183     10.346      0.000       1.537       2.257\n",
      "br_3                      1.5797      0.153     10.302      0.000       1.279       1.881\n",
      "br_4                      1.2499      0.124     10.117      0.000       1.007       1.492\n",
      "br_5                      0.8963      0.098      9.142      0.000       0.704       1.089\n",
      "br_6                      0.6084      0.077      7.941      0.000       0.458       0.759\n",
      "n_transaction             0.0003      0.000      3.207      0.001       0.000       0.001\n",
      "==============================================================================\n",
      "Omnibus:                      278.922   Durbin-Watson:                   1.940\n",
      "Prob(Omnibus):                  0.000   Jarque-Bera (JB):             1860.209\n",
      "Skew:                          -1.084   Prob(JB):                         0.00\n",
      "Kurtosis:                       9.264   Cond. No.                     2.99e+06\n",
      "==============================================================================\n",
      "\n",
      "Warnings:\n",
      "[1] Standard Errors assume that the covariance matrix of the errors is correctly specified.\n",
      "[2] The condition number is large, 2.99e+06. This might indicate that there are\n",
      "strong multicollinearity or other numerical problems.\n",
      "\n",
      " rmse on best var's is:  0.054376803609995646\n"
     ]
    }
   ],
   "source": [
    "y_pred, y_pred2,y_test,ctp,regressor=predicting(train,['Log_sale_price','SaleDate', 'Id','YrSold','MoSold'])"
   ]
  },
  {
   "cell_type": "markdown",
   "metadata": {},
   "source": [
    "# once again ill try to submit"
   ]
  },
  {
   "cell_type": "code",
   "execution_count": 13,
   "metadata": {},
   "outputs": [
    {
     "ename": "KeyError",
     "evalue": "\"['60_FV'] not in index\"",
     "output_type": "error",
     "traceback": [
      "\u001b[1;31m---------------------------------------------------------------------------\u001b[0m",
      "\u001b[1;31mKeyError\u001b[0m                                  Traceback (most recent call last)",
      "\u001b[1;32m<ipython-input-13-e80b74b537dd>\u001b[0m in \u001b[0;36m<module>\u001b[1;34m\u001b[0m\n\u001b[0;32m     34\u001b[0m \u001b[0mtest\u001b[0m\u001b[1;33m[\u001b[0m\u001b[1;34m'Avg_room_size'\u001b[0m\u001b[1;33m]\u001b[0m\u001b[1;33m=\u001b[0m\u001b[0mtest\u001b[0m\u001b[1;33m.\u001b[0m\u001b[0mGrLivArea\u001b[0m\u001b[1;33m/\u001b[0m\u001b[0mtest\u001b[0m\u001b[1;33m.\u001b[0m\u001b[0mTotRmsAbvGrd\u001b[0m\u001b[1;33m\u001b[0m\u001b[0m\n\u001b[0;32m     35\u001b[0m \u001b[1;33m\u001b[0m\u001b[0m\n\u001b[1;32m---> 36\u001b[1;33m \u001b[0mtest_X\u001b[0m\u001b[1;33m=\u001b[0m\u001b[0mtest\u001b[0m\u001b[1;33m[\u001b[0m\u001b[0mctp\u001b[0m\u001b[1;33m]\u001b[0m\u001b[1;33m\u001b[0m\u001b[0m\n\u001b[0m\u001b[0;32m     37\u001b[0m \u001b[0mtest_X\u001b[0m\u001b[1;33m.\u001b[0m\u001b[0mloc\u001b[0m\u001b[1;33m[\u001b[0m\u001b[1;33m:\u001b[0m\u001b[1;33m,\u001b[0m\u001b[0mtest_X\u001b[0m\u001b[1;33m.\u001b[0m\u001b[0misnull\u001b[0m\u001b[1;33m(\u001b[0m\u001b[1;33m)\u001b[0m\u001b[1;33m.\u001b[0m\u001b[0many\u001b[0m\u001b[1;33m(\u001b[0m\u001b[1;33m)\u001b[0m\u001b[1;33m]\u001b[0m\u001b[1;33m.\u001b[0m\u001b[0mcolumns\u001b[0m\u001b[1;33m.\u001b[0m\u001b[0mtolist\u001b[0m\u001b[1;33m(\u001b[0m\u001b[1;33m)\u001b[0m\u001b[1;33m\u001b[0m\u001b[0m\n",
      "\u001b[1;32m~\\Anaconda3\\envs\\py4dp\\lib\\site-packages\\pandas\\core\\frame.py\u001b[0m in \u001b[0;36m__getitem__\u001b[1;34m(self, key)\u001b[0m\n\u001b[0;32m   2680\u001b[0m         \u001b[1;32mif\u001b[0m \u001b[0misinstance\u001b[0m\u001b[1;33m(\u001b[0m\u001b[0mkey\u001b[0m\u001b[1;33m,\u001b[0m \u001b[1;33m(\u001b[0m\u001b[0mSeries\u001b[0m\u001b[1;33m,\u001b[0m \u001b[0mnp\u001b[0m\u001b[1;33m.\u001b[0m\u001b[0mndarray\u001b[0m\u001b[1;33m,\u001b[0m \u001b[0mIndex\u001b[0m\u001b[1;33m,\u001b[0m \u001b[0mlist\u001b[0m\u001b[1;33m)\u001b[0m\u001b[1;33m)\u001b[0m\u001b[1;33m:\u001b[0m\u001b[1;33m\u001b[0m\u001b[0m\n\u001b[0;32m   2681\u001b[0m             \u001b[1;31m# either boolean or fancy integer index\u001b[0m\u001b[1;33m\u001b[0m\u001b[1;33m\u001b[0m\u001b[0m\n\u001b[1;32m-> 2682\u001b[1;33m             \u001b[1;32mreturn\u001b[0m \u001b[0mself\u001b[0m\u001b[1;33m.\u001b[0m\u001b[0m_getitem_array\u001b[0m\u001b[1;33m(\u001b[0m\u001b[0mkey\u001b[0m\u001b[1;33m)\u001b[0m\u001b[1;33m\u001b[0m\u001b[0m\n\u001b[0m\u001b[0;32m   2683\u001b[0m         \u001b[1;32melif\u001b[0m \u001b[0misinstance\u001b[0m\u001b[1;33m(\u001b[0m\u001b[0mkey\u001b[0m\u001b[1;33m,\u001b[0m \u001b[0mDataFrame\u001b[0m\u001b[1;33m)\u001b[0m\u001b[1;33m:\u001b[0m\u001b[1;33m\u001b[0m\u001b[0m\n\u001b[0;32m   2684\u001b[0m             \u001b[1;32mreturn\u001b[0m \u001b[0mself\u001b[0m\u001b[1;33m.\u001b[0m\u001b[0m_getitem_frame\u001b[0m\u001b[1;33m(\u001b[0m\u001b[0mkey\u001b[0m\u001b[1;33m)\u001b[0m\u001b[1;33m\u001b[0m\u001b[0m\n",
      "\u001b[1;32m~\\Anaconda3\\envs\\py4dp\\lib\\site-packages\\pandas\\core\\frame.py\u001b[0m in \u001b[0;36m_getitem_array\u001b[1;34m(self, key)\u001b[0m\n\u001b[0;32m   2724\u001b[0m             \u001b[1;32mreturn\u001b[0m \u001b[0mself\u001b[0m\u001b[1;33m.\u001b[0m\u001b[0m_take\u001b[0m\u001b[1;33m(\u001b[0m\u001b[0mindexer\u001b[0m\u001b[1;33m,\u001b[0m \u001b[0maxis\u001b[0m\u001b[1;33m=\u001b[0m\u001b[1;36m0\u001b[0m\u001b[1;33m)\u001b[0m\u001b[1;33m\u001b[0m\u001b[0m\n\u001b[0;32m   2725\u001b[0m         \u001b[1;32melse\u001b[0m\u001b[1;33m:\u001b[0m\u001b[1;33m\u001b[0m\u001b[0m\n\u001b[1;32m-> 2726\u001b[1;33m             \u001b[0mindexer\u001b[0m \u001b[1;33m=\u001b[0m \u001b[0mself\u001b[0m\u001b[1;33m.\u001b[0m\u001b[0mloc\u001b[0m\u001b[1;33m.\u001b[0m\u001b[0m_convert_to_indexer\u001b[0m\u001b[1;33m(\u001b[0m\u001b[0mkey\u001b[0m\u001b[1;33m,\u001b[0m \u001b[0maxis\u001b[0m\u001b[1;33m=\u001b[0m\u001b[1;36m1\u001b[0m\u001b[1;33m)\u001b[0m\u001b[1;33m\u001b[0m\u001b[0m\n\u001b[0m\u001b[0;32m   2727\u001b[0m             \u001b[1;32mreturn\u001b[0m \u001b[0mself\u001b[0m\u001b[1;33m.\u001b[0m\u001b[0m_take\u001b[0m\u001b[1;33m(\u001b[0m\u001b[0mindexer\u001b[0m\u001b[1;33m,\u001b[0m \u001b[0maxis\u001b[0m\u001b[1;33m=\u001b[0m\u001b[1;36m1\u001b[0m\u001b[1;33m)\u001b[0m\u001b[1;33m\u001b[0m\u001b[0m\n\u001b[0;32m   2728\u001b[0m \u001b[1;33m\u001b[0m\u001b[0m\n",
      "\u001b[1;32m~\\Anaconda3\\envs\\py4dp\\lib\\site-packages\\pandas\\core\\indexing.py\u001b[0m in \u001b[0;36m_convert_to_indexer\u001b[1;34m(self, obj, axis, is_setter)\u001b[0m\n\u001b[0;32m   1325\u001b[0m                 \u001b[1;32mif\u001b[0m \u001b[0mmask\u001b[0m\u001b[1;33m.\u001b[0m\u001b[0many\u001b[0m\u001b[1;33m(\u001b[0m\u001b[1;33m)\u001b[0m\u001b[1;33m:\u001b[0m\u001b[1;33m\u001b[0m\u001b[0m\n\u001b[0;32m   1326\u001b[0m                     raise KeyError('{mask} not in index'\n\u001b[1;32m-> 1327\u001b[1;33m                                    .format(mask=objarr[mask]))\n\u001b[0m\u001b[0;32m   1328\u001b[0m \u001b[1;33m\u001b[0m\u001b[0m\n\u001b[0;32m   1329\u001b[0m                 \u001b[1;32mreturn\u001b[0m \u001b[0mcom\u001b[0m\u001b[1;33m.\u001b[0m\u001b[0m_values_from_object\u001b[0m\u001b[1;33m(\u001b[0m\u001b[0mindexer\u001b[0m\u001b[1;33m)\u001b[0m\u001b[1;33m\u001b[0m\u001b[0m\n",
      "\u001b[1;31mKeyError\u001b[0m: \"['60_FV'] not in index\""
     ]
    }
   ],
   "source": [
    "test= pd.read_csv('../data/test.csv')\n",
    "\n",
    "fix_year=test.loc[test.GarageYrBlt>2010].GarageYrBlt.index.values.tolist()\n",
    "test.loc[fix_year,'GarageYrBlt']=np.nan\n",
    "\n",
    "fix4=test[test.Exterior2nd=='Brk Cmn'].index.tolist()\n",
    "test.loc[fix4,'Exterior2nd']='BrkComm'\n",
    "\n",
    "fix5=test[test.Exterior2nd=='Wd Shng'].index.tolist()\n",
    "test.loc[fix5,'Exterior2nd']='WdShing'\n",
    "\n",
    "fix6=test[test.Exterior2nd=='CmentBd'].index.tolist()\n",
    "test.loc[fix6,'Exterior2nd']='CemntBd'\n",
    "\n",
    "test.loc[test[test.YearRemodAdd>test.YrSold].index, 'YearRemodAdd']=2007 \n",
    "\n",
    "\n",
    "test.OverallCond=test.OverallCond.map(map_overall_to_cat)\n",
    "test.OverallQual=test.OverallQual.map(map_overall_to_cat)\n",
    "test['Diff_in_Ext']=test.apply(lambda x: 1 if x.Exterior2nd!=x.Exterior1st else 0, axis=1)\n",
    "\n",
    "for c in cat_c:\n",
    "    test=pd.concat([test,pd.get_dummies(test[c], prefix=c)], axis=1)\n",
    "\n",
    "turn_MS_data_into_cat(test)\n",
    "\n",
    "test=pd.concat([test,pd.get_dummies(test.BedroomAbvGr, prefix=\"br\")], axis=1)\n",
    "\n",
    "test['temp']=test.apply(lambda x: str(int(x.YrSold))+'-'+str(int(x.MoSold))+'-'+str(1), axis=1)\n",
    "test['SaleDate']=pd.to_datetime(test['temp'])\n",
    "test['n_transaction']=n_transaction.loc[test.SaleDate].values\n",
    "\n",
    "test['120_RM']=0\n",
    "test['Avg_room_size']=test.GrLivArea/test.TotRmsAbvGrd\n",
    "\n",
    "test_X=test[ctp]\n",
    "test_X.loc[:,test_X.isnull().any()].columns.tolist()"
   ]
  },
  {
   "cell_type": "code",
   "execution_count": null,
   "metadata": {},
   "outputs": [],
   "source": [
    "test.loc[test[test.GarageArea.isnull()==True].index.tolist(),'GarageArea']=0\n",
    "test.loc[test[test.TotalBsmtSF.isnull()==True].index.tolist(),'TotalBsmtSF']=0\n",
    "test.loc[test[test.BsmtFinSF1.isnull()==True].index.tolist(),'BsmtFinSF1']=0\n",
    "test.loc[test[test.BsmtFinSF2.isnull()==True].index.tolist(),'BsmtFinSF2']=0\n",
    "test.loc[test[test.BsmtFullBath.isnull()==True].index.tolist(),'BsmtFullBath']=0\n",
    "\n",
    "test.iloc[1132].GarageYrBlt=2007\n",
    "test.iloc[1132].GarageYrBlt=1983\n",
    "test.loc[test[test.GarageYrBlt.isnull()==True].index.tolist(),'GarageYrBlt']=test.GarageYrBlt.mean().round(0)\n",
    "\n",
    "test_X=test[ctp]\n",
    "test_X.loc[:,test_X.isnull().any()].columns.tolist()"
   ]
  },
  {
   "cell_type": "code",
   "execution_count": null,
   "metadata": {},
   "outputs": [],
   "source": [
    "y_pred_test=regressor.predict(test_X)\n",
    "\n",
    "y_pred_test.isnull().any()"
   ]
  },
  {
   "cell_type": "code",
   "execution_count": null,
   "metadata": {},
   "outputs": [],
   "source": [
    "SalePrice=pd.Series(10**y_pred_test, name='SalePrice')\n",
    "\n",
    "test=test.join(SalePrice)\n",
    "\n",
    "submission = test.loc[:, ['Id', 'SalePrice']].copy()\n",
    "submission.set_index('Id', inplace=True)\n",
    "submission.head()"
   ]
  },
  {
   "cell_type": "code",
   "execution_count": null,
   "metadata": {},
   "outputs": [],
   "source": [
    "#submission.to_csv('../data/model07.csv')"
   ]
  },
  {
   "cell_type": "markdown",
   "metadata": {},
   "source": [
    "another small improvment :) i'm now just below 0.14"
   ]
  },
  {
   "cell_type": "markdown",
   "metadata": {},
   "source": [
    "good news is that we gained better model. bad news is that new features didnt worked. next steps:\n",
    "1. find ways to make these features work.\n",
    "2. try to change the conditional treshold from 50 to 20 [didnt work]"
   ]
  },
  {
   "cell_type": "code",
   "execution_count": null,
   "metadata": {},
   "outputs": [],
   "source": []
  }
 ],
 "metadata": {
  "kernelspec": {
   "display_name": "Python 3",
   "language": "python",
   "name": "python3"
  },
  "language_info": {
   "codemirror_mode": {
    "name": "ipython",
    "version": 3
   },
   "file_extension": ".py",
   "mimetype": "text/x-python",
   "name": "python",
   "nbconvert_exporter": "python",
   "pygments_lexer": "ipython3",
   "version": "3.6.6"
  }
 },
 "nbformat": 4,
 "nbformat_minor": 2
}
